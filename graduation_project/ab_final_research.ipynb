{
 "cells": [
  {
   "cell_type": "markdown",
   "id": "0302b3a8",
   "metadata": {
    "toc": true
   },
   "source": [
    "<h1>Table of Contents<span class=\"tocSkip\"></span></h1>\n",
    "<div class=\"toc\"><ul class=\"toc-item\"><li><span><a href=\"#Считываем-данные\" data-toc-modified-id=\"Считываем-данные-1\"><span class=\"toc-item-num\">1&nbsp;&nbsp;</span>Считываем данные</a></span></li><li><span><a href=\"#Предобработка-данных\" data-toc-modified-id=\"Предобработка-данных-2\"><span class=\"toc-item-num\">2&nbsp;&nbsp;</span>Предобработка данных</a></span><ul class=\"toc-item\"><li><span><a href=\"#marketing_events\" data-toc-modified-id=\"marketing_events-2.1\"><span class=\"toc-item-num\">2.1&nbsp;&nbsp;</span>marketing_events</a></span></li><li><span><a href=\"#final_ab_new_users\" data-toc-modified-id=\"final_ab_new_users-2.2\"><span class=\"toc-item-num\">2.2&nbsp;&nbsp;</span>final_ab_new_users</a></span></li><li><span><a href=\"#ab_events\" data-toc-modified-id=\"ab_events-2.3\"><span class=\"toc-item-num\">2.3&nbsp;&nbsp;</span>ab_events</a></span></li><li><span><a href=\"#ab_participants\" data-toc-modified-id=\"ab_participants-2.4\"><span class=\"toc-item-num\">2.4&nbsp;&nbsp;</span>ab_participants</a></span></li></ul></li><li><span><a href=\"#Оценка-корректности-проведенного-теста\" data-toc-modified-id=\"Оценка-корректности-проведенного-теста-3\"><span class=\"toc-item-num\">3&nbsp;&nbsp;</span>Оценка корректности проведенного теста</a></span><ul class=\"toc-item\"><li><span><a href=\"#Проверка-пунктов-ТЗ\" data-toc-modified-id=\"Проверка-пунктов-ТЗ-3.1\"><span class=\"toc-item-num\">3.1&nbsp;&nbsp;</span>Проверка пунктов ТЗ</a></span></li><li><span><a href=\"#Время-проведения-теста\" data-toc-modified-id=\"Время-проведения-теста-3.2\"><span class=\"toc-item-num\">3.2&nbsp;&nbsp;</span>Время проведения теста</a></span></li></ul></li><li><span><a href=\"#Исследовательский-анализ-данных\" data-toc-modified-id=\"Исследовательский-анализ-данных-4\"><span class=\"toc-item-num\">4&nbsp;&nbsp;</span>Исследовательский анализ данных</a></span></li><li><span><a href=\"#Оценка-результатов-A/B-тестирования\" data-toc-modified-id=\"Оценка-результатов-A/B-тестирования-5\"><span class=\"toc-item-num\">5&nbsp;&nbsp;</span>Оценка результатов A/B тестирования</a></span></li><li><span><a href=\"#Общие-выводы\" data-toc-modified-id=\"Общие-выводы-6\"><span class=\"toc-item-num\">6&nbsp;&nbsp;</span>Общие выводы</a></span></li></ul></div>"
   ]
  },
  {
   "cell_type": "markdown",
   "id": "e6a92cee",
   "metadata": {},
   "source": [
    "# A/B - тестирование"
   ]
  },
  {
   "cell_type": "markdown",
   "id": "cec41f0a",
   "metadata": {},
   "source": [
    "Постановка задачи: оцените корректность проведения теста и проанализируйте его результаты.\n",
    "\n",
    "Чтобы оценить корректность проведения теста: \n",
    "- удостоверьтесь, что нет пересечений с конкурирующим тестом и нет пользователей, участвующих в двух группах теста одновременно;\n",
    "- проверьте равномерность распределения пользователей по тестовым группам и правильность их формирования."
   ]
  },
  {
   "cell_type": "markdown",
   "id": "25de8551",
   "metadata": {},
   "source": [
    "# Техническое задание"
   ]
  },
  {
   "cell_type": "markdown",
   "id": "2e45949d",
   "metadata": {},
   "source": [
    "- Название теста: `recommender_system_test`;\n",
    "- группы: А — контрольная, B — новая платёжная воронка;\n",
    "- дата запуска: 2020-12-07;\n",
    "- дата остановки набора новых пользователей: 2020-12-21;\n",
    "- дата остановки: 2021-01-04;\n",
    "- аудитория: в тест должно быть отобрано 15% новых пользователей из региона EU;\n",
    "- назначение теста: тестирование изменений, связанных с внедрением улучшенной рекомендательной системы;\n",
    "- ожидаемое количество участников теста: 6000.\n",
    "- ожидаемый эффект: за 14 дней с момента регистрации пользователи покажут\n",
    "    - улучшение каждой метрики не менее, чем на 10%:\n",
    "    - конверсии в просмотр карточек товаров — событие `product_page` ,\n",
    "    - просмотры корзины — `product_cart` ,\n",
    "    - покупки — `purchase` ."
   ]
  },
  {
   "cell_type": "markdown",
   "id": "73a301ca",
   "metadata": {},
   "source": [
    "_Описание данных:_\n",
    "\n",
    "`ab_project_marketing_events.csv` — календарь маркетинговых событий на 2020 год.\n",
    "\n",
    "Структура файла:\n",
    "- `name` — название маркетингового события;\n",
    "- `regions` — регионы, в которых будет проводиться рекламная кампания;\n",
    "- `start_dt` — дата начала кампании;\n",
    "- `finish_dt` — дата завершения кампании.\n",
    "\n",
    "`final_ab_new_users.csv` — пользователи, зарегистрировавшиеся с 7 до 21 декабря 2020 года.\n",
    "\n",
    "Структура файла:\n",
    "- `user_id` — идентификатор пользователя;\n",
    "- `first_date` — дата регистрации;\n",
    "- `region` — регион пользователя;\n",
    "- `device` — устройство, с которого происходила регистрация.\n",
    "\n",
    "`final_ab_events.csv` — действия новых пользователей в период с 7 декабря 2020 по\n",
    "4 января 2021 года.\n",
    "\n",
    "Структура файла:\n",
    "- `user_id` — идентификатор пользователя;\n",
    "- `event_dt` — дата и время события;\n",
    "- `event_name` — тип события;\n",
    "- `details` — дополнительные данные о событии. Например, для покупок, `purchase`, в этом поле хранится стоимость покупки в долларах.\n",
    "\n",
    "`final_ab_participants.csv` — таблица участников тестов.\n",
    "\n",
    "Структура файла:\n",
    "- `user_id` — идентификатор пользователя;\n",
    "- `ab_test` — название теста;\n",
    "- `group` — группа пользовател"
   ]
  },
  {
   "cell_type": "markdown",
   "id": "49fcb3b3",
   "metadata": {},
   "source": [
    "## Считываем данные"
   ]
  },
  {
   "cell_type": "code",
   "execution_count": 1,
   "id": "066f0441",
   "metadata": {},
   "outputs": [],
   "source": [
    "# импортируем библиотеки\n",
    "import pandas as pd\n",
    "import datetime as dt\n",
    "import numpy as np\n",
    "import os\n",
    "import math as mth\n",
    "import matplotlib.pyplot as plt\n",
    "import seaborn as sns\n",
    "import plotly.express as px\n",
    "from plotly import graph_objects as go\n",
    "from scipy import stats as st\n",
    "from statsmodels.stats.proportion import proportions_ztest\n",
    "from pandas.plotting import register_matplotlib_converters\n",
    "import warnings\n",
    "# конвертеры, которые позволяют использовать типы pandas в matplotlib  \n",
    "register_matplotlib_converters()"
   ]
  },
  {
   "cell_type": "code",
   "execution_count": 2,
   "id": "2f87d55e",
   "metadata": {},
   "outputs": [],
   "source": [
    "# код для отображения plotly графиков в формате png\n",
    "import plotly.io as pio \n",
    "pio.renderers.default = \"png\" \n",
    "svg_renderer = pio.renderers[\"png\"] \n",
    "svg_renderer.scale = 1.2"
   ]
  },
  {
   "cell_type": "code",
   "execution_count": 3,
   "id": "504144f5",
   "metadata": {},
   "outputs": [],
   "source": [
    "# улучшаем качество графиков (разрешение)\n",
    "%config InlineBackend.figure_format = 'retina'"
   ]
  },
  {
   "cell_type": "code",
   "execution_count": 4,
   "id": "abf77152",
   "metadata": {},
   "outputs": [],
   "source": [
    "# считываем файл\n",
    "pth1 = 'C:/Users/sorial/Desktop/my_projects/A_B_final_research/'\n",
    "pth2 = '/datasets/'\n",
    "\n",
    "if os.path.exists(pth1):\n",
    "    marketing_events = pd.read_csv(pth1 + 'ab_project_marketing_events.csv')\n",
    "    final_ab_new_users = pd.read_csv(pth1 + 'final_ab_new_users.csv')\n",
    "    ab_events = pd.read_csv(pth1 + 'final_ab_events.csv')\n",
    "    ab_participants = pd.read_csv(pth1 + 'final_ab_participants.csv')\n",
    "elif os.path.exists(pth2):\n",
    "    marketing_events = pd.read_csv(pth2 + 'ab_project_marketing_events.csv')\n",
    "    final_ab_new_users = pd.read_csv(pth2 + 'final_ab_new_users.csv')\n",
    "    ab_events = pd.read_csv(pth2 + 'final_ab_events.csv')\n",
    "    ab_participants = pd.read_csv(pth2 + 'final_ab_participants.csv')\n",
    "else:\n",
    "    print('Что-то пошло не так')"
   ]
  },
  {
   "cell_type": "markdown",
   "id": "a0646ed6",
   "metadata": {},
   "source": [
    "## Предобработка данных"
   ]
  },
  {
   "cell_type": "markdown",
   "id": "80d13cf0",
   "metadata": {},
   "source": [
    "Для начала будем проверять каждый датасет в отдельности, на наличие пропусков и дубликатов. Также сразу заменим типы данных в столбцах, где это необходимо."
   ]
  },
  {
   "cell_type": "markdown",
   "id": "c270c4db",
   "metadata": {},
   "source": [
    "### marketing_events"
   ]
  },
  {
   "cell_type": "code",
   "execution_count": 5,
   "id": "c37f806b",
   "metadata": {},
   "outputs": [
    {
     "data": {
      "text/html": [
       "<div>\n",
       "<style scoped>\n",
       "    .dataframe tbody tr th:only-of-type {\n",
       "        vertical-align: middle;\n",
       "    }\n",
       "\n",
       "    .dataframe tbody tr th {\n",
       "        vertical-align: top;\n",
       "    }\n",
       "\n",
       "    .dataframe thead th {\n",
       "        text-align: right;\n",
       "    }\n",
       "</style>\n",
       "<table border=\"1\" class=\"dataframe\">\n",
       "  <thead>\n",
       "    <tr style=\"text-align: right;\">\n",
       "      <th></th>\n",
       "      <th>name</th>\n",
       "      <th>regions</th>\n",
       "      <th>start_dt</th>\n",
       "      <th>finish_dt</th>\n",
       "    </tr>\n",
       "  </thead>\n",
       "  <tbody>\n",
       "    <tr>\n",
       "      <th>0</th>\n",
       "      <td>Christmas&amp;New Year Promo</td>\n",
       "      <td>EU, N.America</td>\n",
       "      <td>2020-12-25</td>\n",
       "      <td>2021-01-03</td>\n",
       "    </tr>\n",
       "    <tr>\n",
       "      <th>1</th>\n",
       "      <td>St. Valentine's Day Giveaway</td>\n",
       "      <td>EU, CIS, APAC, N.America</td>\n",
       "      <td>2020-02-14</td>\n",
       "      <td>2020-02-16</td>\n",
       "    </tr>\n",
       "    <tr>\n",
       "      <th>2</th>\n",
       "      <td>St. Patric's Day Promo</td>\n",
       "      <td>EU, N.America</td>\n",
       "      <td>2020-03-17</td>\n",
       "      <td>2020-03-19</td>\n",
       "    </tr>\n",
       "    <tr>\n",
       "      <th>3</th>\n",
       "      <td>Easter Promo</td>\n",
       "      <td>EU, CIS, APAC, N.America</td>\n",
       "      <td>2020-04-12</td>\n",
       "      <td>2020-04-19</td>\n",
       "    </tr>\n",
       "    <tr>\n",
       "      <th>4</th>\n",
       "      <td>4th of July Promo</td>\n",
       "      <td>N.America</td>\n",
       "      <td>2020-07-04</td>\n",
       "      <td>2020-07-11</td>\n",
       "    </tr>\n",
       "    <tr>\n",
       "      <th>5</th>\n",
       "      <td>Black Friday Ads Campaign</td>\n",
       "      <td>EU, CIS, APAC, N.America</td>\n",
       "      <td>2020-11-26</td>\n",
       "      <td>2020-12-01</td>\n",
       "    </tr>\n",
       "    <tr>\n",
       "      <th>6</th>\n",
       "      <td>Chinese New Year Promo</td>\n",
       "      <td>APAC</td>\n",
       "      <td>2020-01-25</td>\n",
       "      <td>2020-02-07</td>\n",
       "    </tr>\n",
       "    <tr>\n",
       "      <th>7</th>\n",
       "      <td>Labor day (May 1st) Ads Campaign</td>\n",
       "      <td>EU, CIS, APAC</td>\n",
       "      <td>2020-05-01</td>\n",
       "      <td>2020-05-03</td>\n",
       "    </tr>\n",
       "    <tr>\n",
       "      <th>8</th>\n",
       "      <td>International Women's Day Promo</td>\n",
       "      <td>EU, CIS, APAC</td>\n",
       "      <td>2020-03-08</td>\n",
       "      <td>2020-03-10</td>\n",
       "    </tr>\n",
       "    <tr>\n",
       "      <th>9</th>\n",
       "      <td>Victory Day CIS (May 9th) Event</td>\n",
       "      <td>CIS</td>\n",
       "      <td>2020-05-09</td>\n",
       "      <td>2020-05-11</td>\n",
       "    </tr>\n",
       "    <tr>\n",
       "      <th>10</th>\n",
       "      <td>CIS New Year Gift Lottery</td>\n",
       "      <td>CIS</td>\n",
       "      <td>2020-12-30</td>\n",
       "      <td>2021-01-07</td>\n",
       "    </tr>\n",
       "    <tr>\n",
       "      <th>11</th>\n",
       "      <td>Dragon Boat Festival Giveaway</td>\n",
       "      <td>APAC</td>\n",
       "      <td>2020-06-25</td>\n",
       "      <td>2020-07-01</td>\n",
       "    </tr>\n",
       "    <tr>\n",
       "      <th>12</th>\n",
       "      <td>Single's Day Gift Promo</td>\n",
       "      <td>APAC</td>\n",
       "      <td>2020-11-11</td>\n",
       "      <td>2020-11-12</td>\n",
       "    </tr>\n",
       "    <tr>\n",
       "      <th>13</th>\n",
       "      <td>Chinese Moon Festival</td>\n",
       "      <td>APAC</td>\n",
       "      <td>2020-10-01</td>\n",
       "      <td>2020-10-07</td>\n",
       "    </tr>\n",
       "  </tbody>\n",
       "</table>\n",
       "</div>"
      ],
      "text/plain": [
       "                                name                   regions    start_dt  \\\n",
       "0           Christmas&New Year Promo             EU, N.America  2020-12-25   \n",
       "1       St. Valentine's Day Giveaway  EU, CIS, APAC, N.America  2020-02-14   \n",
       "2             St. Patric's Day Promo             EU, N.America  2020-03-17   \n",
       "3                       Easter Promo  EU, CIS, APAC, N.America  2020-04-12   \n",
       "4                  4th of July Promo                 N.America  2020-07-04   \n",
       "5          Black Friday Ads Campaign  EU, CIS, APAC, N.America  2020-11-26   \n",
       "6             Chinese New Year Promo                      APAC  2020-01-25   \n",
       "7   Labor day (May 1st) Ads Campaign             EU, CIS, APAC  2020-05-01   \n",
       "8    International Women's Day Promo             EU, CIS, APAC  2020-03-08   \n",
       "9    Victory Day CIS (May 9th) Event                       CIS  2020-05-09   \n",
       "10         CIS New Year Gift Lottery                       CIS  2020-12-30   \n",
       "11     Dragon Boat Festival Giveaway                      APAC  2020-06-25   \n",
       "12           Single's Day Gift Promo                      APAC  2020-11-11   \n",
       "13             Chinese Moon Festival                      APAC  2020-10-01   \n",
       "\n",
       "     finish_dt  \n",
       "0   2021-01-03  \n",
       "1   2020-02-16  \n",
       "2   2020-03-19  \n",
       "3   2020-04-19  \n",
       "4   2020-07-11  \n",
       "5   2020-12-01  \n",
       "6   2020-02-07  \n",
       "7   2020-05-03  \n",
       "8   2020-03-10  \n",
       "9   2020-05-11  \n",
       "10  2021-01-07  \n",
       "11  2020-07-01  \n",
       "12  2020-11-12  \n",
       "13  2020-10-07  "
      ]
     },
     "execution_count": 5,
     "metadata": {},
     "output_type": "execute_result"
    }
   ],
   "source": [
    "marketing_events"
   ]
  },
  {
   "cell_type": "code",
   "execution_count": 6,
   "id": "0cbe238f",
   "metadata": {},
   "outputs": [
    {
     "name": "stdout",
     "output_type": "stream",
     "text": [
      "<class 'pandas.core.frame.DataFrame'>\n",
      "RangeIndex: 14 entries, 0 to 13\n",
      "Data columns (total 4 columns):\n",
      " #   Column     Non-Null Count  Dtype \n",
      "---  ------     --------------  ----- \n",
      " 0   name       14 non-null     object\n",
      " 1   regions    14 non-null     object\n",
      " 2   start_dt   14 non-null     object\n",
      " 3   finish_dt  14 non-null     object\n",
      "dtypes: object(4)\n",
      "memory usage: 576.0+ bytes\n"
     ]
    }
   ],
   "source": [
    "marketing_events.info()"
   ]
  },
  {
   "cell_type": "markdown",
   "id": "6001d034",
   "metadata": {},
   "source": [
    "Пропусков нет, поменяем типы данных в столбцах с датой на *date*"
   ]
  },
  {
   "cell_type": "markdown",
   "id": "47f6c457",
   "metadata": {},
   "source": [
    "### final_ab_new_users"
   ]
  },
  {
   "cell_type": "code",
   "execution_count": 7,
   "id": "6eef78f9",
   "metadata": {},
   "outputs": [
    {
     "data": {
      "text/html": [
       "<div>\n",
       "<style scoped>\n",
       "    .dataframe tbody tr th:only-of-type {\n",
       "        vertical-align: middle;\n",
       "    }\n",
       "\n",
       "    .dataframe tbody tr th {\n",
       "        vertical-align: top;\n",
       "    }\n",
       "\n",
       "    .dataframe thead th {\n",
       "        text-align: right;\n",
       "    }\n",
       "</style>\n",
       "<table border=\"1\" class=\"dataframe\">\n",
       "  <thead>\n",
       "    <tr style=\"text-align: right;\">\n",
       "      <th></th>\n",
       "      <th>user_id</th>\n",
       "      <th>first_date</th>\n",
       "      <th>region</th>\n",
       "      <th>device</th>\n",
       "    </tr>\n",
       "  </thead>\n",
       "  <tbody>\n",
       "    <tr>\n",
       "      <th>0</th>\n",
       "      <td>D72A72121175D8BE</td>\n",
       "      <td>2020-12-07</td>\n",
       "      <td>EU</td>\n",
       "      <td>PC</td>\n",
       "    </tr>\n",
       "    <tr>\n",
       "      <th>1</th>\n",
       "      <td>F1C668619DFE6E65</td>\n",
       "      <td>2020-12-07</td>\n",
       "      <td>N.America</td>\n",
       "      <td>Android</td>\n",
       "    </tr>\n",
       "    <tr>\n",
       "      <th>2</th>\n",
       "      <td>2E1BF1D4C37EA01F</td>\n",
       "      <td>2020-12-07</td>\n",
       "      <td>EU</td>\n",
       "      <td>PC</td>\n",
       "    </tr>\n",
       "    <tr>\n",
       "      <th>3</th>\n",
       "      <td>50734A22C0C63768</td>\n",
       "      <td>2020-12-07</td>\n",
       "      <td>EU</td>\n",
       "      <td>iPhone</td>\n",
       "    </tr>\n",
       "    <tr>\n",
       "      <th>4</th>\n",
       "      <td>E1BDDCE0DAFA2679</td>\n",
       "      <td>2020-12-07</td>\n",
       "      <td>N.America</td>\n",
       "      <td>iPhone</td>\n",
       "    </tr>\n",
       "  </tbody>\n",
       "</table>\n",
       "</div>"
      ],
      "text/plain": [
       "            user_id  first_date     region   device\n",
       "0  D72A72121175D8BE  2020-12-07         EU       PC\n",
       "1  F1C668619DFE6E65  2020-12-07  N.America  Android\n",
       "2  2E1BF1D4C37EA01F  2020-12-07         EU       PC\n",
       "3  50734A22C0C63768  2020-12-07         EU   iPhone\n",
       "4  E1BDDCE0DAFA2679  2020-12-07  N.America   iPhone"
      ]
     },
     "execution_count": 7,
     "metadata": {},
     "output_type": "execute_result"
    }
   ],
   "source": [
    "final_ab_new_users.head()"
   ]
  },
  {
   "cell_type": "code",
   "execution_count": 8,
   "id": "36083a2b",
   "metadata": {},
   "outputs": [
    {
     "name": "stdout",
     "output_type": "stream",
     "text": [
      "<class 'pandas.core.frame.DataFrame'>\n",
      "RangeIndex: 61733 entries, 0 to 61732\n",
      "Data columns (total 4 columns):\n",
      " #   Column      Non-Null Count  Dtype \n",
      "---  ------      --------------  ----- \n",
      " 0   user_id     61733 non-null  object\n",
      " 1   first_date  61733 non-null  object\n",
      " 2   region      61733 non-null  object\n",
      " 3   device      61733 non-null  object\n",
      "dtypes: object(4)\n",
      "memory usage: 1.9+ MB\n"
     ]
    }
   ],
   "source": [
    "final_ab_new_users.info()"
   ]
  },
  {
   "cell_type": "markdown",
   "id": "19dc8b31",
   "metadata": {},
   "source": [
    "Пропусков нет, поменяем тип данных столбца с датой на *date*, а также проверим наличие явных дубликатов."
   ]
  },
  {
   "cell_type": "code",
   "execution_count": 9,
   "id": "b2fb27bf",
   "metadata": {},
   "outputs": [
    {
     "data": {
      "text/html": [
       "<div>\n",
       "<style scoped>\n",
       "    .dataframe tbody tr th:only-of-type {\n",
       "        vertical-align: middle;\n",
       "    }\n",
       "\n",
       "    .dataframe tbody tr th {\n",
       "        vertical-align: top;\n",
       "    }\n",
       "\n",
       "    .dataframe thead th {\n",
       "        text-align: right;\n",
       "    }\n",
       "</style>\n",
       "<table border=\"1\" class=\"dataframe\">\n",
       "  <thead>\n",
       "    <tr style=\"text-align: right;\">\n",
       "      <th></th>\n",
       "      <th>user_id</th>\n",
       "      <th>first_date</th>\n",
       "      <th>region</th>\n",
       "      <th>device</th>\n",
       "    </tr>\n",
       "  </thead>\n",
       "  <tbody>\n",
       "  </tbody>\n",
       "</table>\n",
       "</div>"
      ],
      "text/plain": [
       "Empty DataFrame\n",
       "Columns: [user_id, first_date, region, device]\n",
       "Index: []"
      ]
     },
     "execution_count": 9,
     "metadata": {},
     "output_type": "execute_result"
    }
   ],
   "source": [
    "final_ab_new_users['first_date'] = pd.to_datetime(final_ab_new_users['first_date'])\n",
    "\n",
    "# проверим наличие явных дубликатов\n",
    "final_ab_new_users.loc[final_ab_new_users.duplicated()]"
   ]
  },
  {
   "cell_type": "markdown",
   "id": "b346adea",
   "metadata": {},
   "source": [
    "Явных дубликатов не обнаружено."
   ]
  },
  {
   "cell_type": "markdown",
   "id": "5b6a4b9c",
   "metadata": {},
   "source": [
    "### ab_events"
   ]
  },
  {
   "cell_type": "code",
   "execution_count": 10,
   "id": "203eb971",
   "metadata": {},
   "outputs": [
    {
     "data": {
      "text/html": [
       "<div>\n",
       "<style scoped>\n",
       "    .dataframe tbody tr th:only-of-type {\n",
       "        vertical-align: middle;\n",
       "    }\n",
       "\n",
       "    .dataframe tbody tr th {\n",
       "        vertical-align: top;\n",
       "    }\n",
       "\n",
       "    .dataframe thead th {\n",
       "        text-align: right;\n",
       "    }\n",
       "</style>\n",
       "<table border=\"1\" class=\"dataframe\">\n",
       "  <thead>\n",
       "    <tr style=\"text-align: right;\">\n",
       "      <th></th>\n",
       "      <th>user_id</th>\n",
       "      <th>event_dt</th>\n",
       "      <th>event_name</th>\n",
       "      <th>details</th>\n",
       "    </tr>\n",
       "  </thead>\n",
       "  <tbody>\n",
       "    <tr>\n",
       "      <th>0</th>\n",
       "      <td>E1BDDCE0DAFA2679</td>\n",
       "      <td>2020-12-07 20:22:03</td>\n",
       "      <td>purchase</td>\n",
       "      <td>99.99</td>\n",
       "    </tr>\n",
       "    <tr>\n",
       "      <th>1</th>\n",
       "      <td>7B6452F081F49504</td>\n",
       "      <td>2020-12-07 09:22:53</td>\n",
       "      <td>purchase</td>\n",
       "      <td>9.99</td>\n",
       "    </tr>\n",
       "    <tr>\n",
       "      <th>2</th>\n",
       "      <td>9CD9F34546DF254C</td>\n",
       "      <td>2020-12-07 12:59:29</td>\n",
       "      <td>purchase</td>\n",
       "      <td>4.99</td>\n",
       "    </tr>\n",
       "    <tr>\n",
       "      <th>3</th>\n",
       "      <td>96F27A054B191457</td>\n",
       "      <td>2020-12-07 04:02:40</td>\n",
       "      <td>purchase</td>\n",
       "      <td>4.99</td>\n",
       "    </tr>\n",
       "    <tr>\n",
       "      <th>4</th>\n",
       "      <td>1FD7660FDF94CA1F</td>\n",
       "      <td>2020-12-07 10:15:09</td>\n",
       "      <td>purchase</td>\n",
       "      <td>4.99</td>\n",
       "    </tr>\n",
       "  </tbody>\n",
       "</table>\n",
       "</div>"
      ],
      "text/plain": [
       "            user_id             event_dt event_name  details\n",
       "0  E1BDDCE0DAFA2679  2020-12-07 20:22:03   purchase    99.99\n",
       "1  7B6452F081F49504  2020-12-07 09:22:53   purchase     9.99\n",
       "2  9CD9F34546DF254C  2020-12-07 12:59:29   purchase     4.99\n",
       "3  96F27A054B191457  2020-12-07 04:02:40   purchase     4.99\n",
       "4  1FD7660FDF94CA1F  2020-12-07 10:15:09   purchase     4.99"
      ]
     },
     "execution_count": 10,
     "metadata": {},
     "output_type": "execute_result"
    }
   ],
   "source": [
    "ab_events.head()"
   ]
  },
  {
   "cell_type": "code",
   "execution_count": 11,
   "id": "f7444005",
   "metadata": {},
   "outputs": [
    {
     "name": "stdout",
     "output_type": "stream",
     "text": [
      "<class 'pandas.core.frame.DataFrame'>\n",
      "RangeIndex: 440317 entries, 0 to 440316\n",
      "Data columns (total 4 columns):\n",
      " #   Column      Non-Null Count   Dtype  \n",
      "---  ------      --------------   -----  \n",
      " 0   user_id     440317 non-null  object \n",
      " 1   event_dt    440317 non-null  object \n",
      " 2   event_name  440317 non-null  object \n",
      " 3   details     62740 non-null   float64\n",
      "dtypes: float64(1), object(3)\n",
      "memory usage: 13.4+ MB\n"
     ]
    }
   ],
   "source": [
    "ab_events.info()"
   ]
  },
  {
   "cell_type": "markdown",
   "id": "7df0dd7a",
   "metadata": {},
   "source": [
    "Поменяем тип данных с датой на *date*, проверим дубликаты. Также есть пропуски в столбце *details*, но они появились в результате того, что *details* приписывается только покупкам (событие *purchase*), стоит проверить есть ли пропуска при событие *purchase*."
   ]
  },
  {
   "cell_type": "code",
   "execution_count": 12,
   "id": "c4f941e2",
   "metadata": {},
   "outputs": [
    {
     "data": {
      "text/html": [
       "<div>\n",
       "<style scoped>\n",
       "    .dataframe tbody tr th:only-of-type {\n",
       "        vertical-align: middle;\n",
       "    }\n",
       "\n",
       "    .dataframe tbody tr th {\n",
       "        vertical-align: top;\n",
       "    }\n",
       "\n",
       "    .dataframe thead th {\n",
       "        text-align: right;\n",
       "    }\n",
       "</style>\n",
       "<table border=\"1\" class=\"dataframe\">\n",
       "  <thead>\n",
       "    <tr style=\"text-align: right;\">\n",
       "      <th></th>\n",
       "      <th>user_id</th>\n",
       "      <th>event_dt</th>\n",
       "      <th>event_name</th>\n",
       "      <th>details</th>\n",
       "    </tr>\n",
       "  </thead>\n",
       "  <tbody>\n",
       "  </tbody>\n",
       "</table>\n",
       "</div>"
      ],
      "text/plain": [
       "Empty DataFrame\n",
       "Columns: [user_id, event_dt, event_name, details]\n",
       "Index: []"
      ]
     },
     "execution_count": 12,
     "metadata": {},
     "output_type": "execute_result"
    }
   ],
   "source": [
    "ab_events['event_dt'] = pd.to_datetime(ab_events['event_dt'], format='%Y-%m-%d %H:%M:%S')\n",
    "\n",
    "# проверим наличие явных дубликатов\n",
    "ab_events.loc[ab_events.duplicated()]\n",
    "\n",
    "# проверим наличие пропусков с event_name *purchase*\n",
    "ab_events.query('event_name == \"purchase\" and details.isnull()')"
   ]
  },
  {
   "cell_type": "markdown",
   "id": "4b7dea23",
   "metadata": {},
   "source": [
    "Явных дубликатов нет, также нет пропусков в столбце *details* с событием покупки."
   ]
  },
  {
   "cell_type": "markdown",
   "id": "1fb87b9a",
   "metadata": {},
   "source": [
    "### ab_participants"
   ]
  },
  {
   "cell_type": "code",
   "execution_count": 13,
   "id": "fe1fd907",
   "metadata": {},
   "outputs": [
    {
     "data": {
      "text/html": [
       "<div>\n",
       "<style scoped>\n",
       "    .dataframe tbody tr th:only-of-type {\n",
       "        vertical-align: middle;\n",
       "    }\n",
       "\n",
       "    .dataframe tbody tr th {\n",
       "        vertical-align: top;\n",
       "    }\n",
       "\n",
       "    .dataframe thead th {\n",
       "        text-align: right;\n",
       "    }\n",
       "</style>\n",
       "<table border=\"1\" class=\"dataframe\">\n",
       "  <thead>\n",
       "    <tr style=\"text-align: right;\">\n",
       "      <th></th>\n",
       "      <th>user_id</th>\n",
       "      <th>group</th>\n",
       "      <th>ab_test</th>\n",
       "    </tr>\n",
       "  </thead>\n",
       "  <tbody>\n",
       "    <tr>\n",
       "      <th>0</th>\n",
       "      <td>D1ABA3E2887B6A73</td>\n",
       "      <td>A</td>\n",
       "      <td>recommender_system_test</td>\n",
       "    </tr>\n",
       "    <tr>\n",
       "      <th>1</th>\n",
       "      <td>A7A3664BD6242119</td>\n",
       "      <td>A</td>\n",
       "      <td>recommender_system_test</td>\n",
       "    </tr>\n",
       "    <tr>\n",
       "      <th>2</th>\n",
       "      <td>DABC14FDDFADD29E</td>\n",
       "      <td>A</td>\n",
       "      <td>recommender_system_test</td>\n",
       "    </tr>\n",
       "    <tr>\n",
       "      <th>3</th>\n",
       "      <td>04988C5DF189632E</td>\n",
       "      <td>A</td>\n",
       "      <td>recommender_system_test</td>\n",
       "    </tr>\n",
       "    <tr>\n",
       "      <th>4</th>\n",
       "      <td>482F14783456D21B</td>\n",
       "      <td>B</td>\n",
       "      <td>recommender_system_test</td>\n",
       "    </tr>\n",
       "  </tbody>\n",
       "</table>\n",
       "</div>"
      ],
      "text/plain": [
       "            user_id group                  ab_test\n",
       "0  D1ABA3E2887B6A73     A  recommender_system_test\n",
       "1  A7A3664BD6242119     A  recommender_system_test\n",
       "2  DABC14FDDFADD29E     A  recommender_system_test\n",
       "3  04988C5DF189632E     A  recommender_system_test\n",
       "4  482F14783456D21B     B  recommender_system_test"
      ]
     },
     "execution_count": 13,
     "metadata": {},
     "output_type": "execute_result"
    }
   ],
   "source": [
    "ab_participants.head()"
   ]
  },
  {
   "cell_type": "code",
   "execution_count": 14,
   "id": "bf0c4254",
   "metadata": {},
   "outputs": [
    {
     "name": "stdout",
     "output_type": "stream",
     "text": [
      "<class 'pandas.core.frame.DataFrame'>\n",
      "RangeIndex: 18268 entries, 0 to 18267\n",
      "Data columns (total 3 columns):\n",
      " #   Column   Non-Null Count  Dtype \n",
      "---  ------   --------------  ----- \n",
      " 0   user_id  18268 non-null  object\n",
      " 1   group    18268 non-null  object\n",
      " 2   ab_test  18268 non-null  object\n",
      "dtypes: object(3)\n",
      "memory usage: 428.3+ KB\n"
     ]
    }
   ],
   "source": [
    "ab_participants.info()"
   ]
  },
  {
   "cell_type": "markdown",
   "id": "cdad54ae",
   "metadata": {},
   "source": [
    "Пропусков в датасете нет, типы данных менять не нужно. Проверим явные дубликаты."
   ]
  },
  {
   "cell_type": "code",
   "execution_count": 15,
   "id": "d71e748e",
   "metadata": {},
   "outputs": [
    {
     "data": {
      "text/html": [
       "<div>\n",
       "<style scoped>\n",
       "    .dataframe tbody tr th:only-of-type {\n",
       "        vertical-align: middle;\n",
       "    }\n",
       "\n",
       "    .dataframe tbody tr th {\n",
       "        vertical-align: top;\n",
       "    }\n",
       "\n",
       "    .dataframe thead th {\n",
       "        text-align: right;\n",
       "    }\n",
       "</style>\n",
       "<table border=\"1\" class=\"dataframe\">\n",
       "  <thead>\n",
       "    <tr style=\"text-align: right;\">\n",
       "      <th></th>\n",
       "      <th>user_id</th>\n",
       "      <th>event_dt</th>\n",
       "      <th>event_name</th>\n",
       "      <th>details</th>\n",
       "    </tr>\n",
       "  </thead>\n",
       "  <tbody>\n",
       "  </tbody>\n",
       "</table>\n",
       "</div>"
      ],
      "text/plain": [
       "Empty DataFrame\n",
       "Columns: [user_id, event_dt, event_name, details]\n",
       "Index: []"
      ]
     },
     "execution_count": 15,
     "metadata": {},
     "output_type": "execute_result"
    }
   ],
   "source": [
    "# проверим наличие явных дубликатов\n",
    "ab_events.loc[ab_events.duplicated()]"
   ]
  },
  {
   "cell_type": "markdown",
   "id": "6513f413",
   "metadata": {},
   "source": [
    "## Оценка корректности проведенного теста"
   ]
  },
  {
   "cell_type": "markdown",
   "id": "1f320a08",
   "metadata": {},
   "source": [
    "Перед тем как перейти к проверке датасетов на соответствие ТЗ, проверим:\n",
    "- нет пересечений с конкурирующим тестом и нет пользователей, участвующих в двух группах теста одновременно."
   ]
  },
  {
   "cell_type": "markdown",
   "id": "b90f78e9",
   "metadata": {},
   "source": [
    "Проверим общее распределение пользователей по тестам и группам."
   ]
  },
  {
   "cell_type": "code",
   "execution_count": 16,
   "id": "92978b81",
   "metadata": {
    "scrolled": true
   },
   "outputs": [
    {
     "data": {
      "text/html": [
       "<div>\n",
       "<style scoped>\n",
       "    .dataframe tbody tr th:only-of-type {\n",
       "        vertical-align: middle;\n",
       "    }\n",
       "\n",
       "    .dataframe tbody tr th {\n",
       "        vertical-align: top;\n",
       "    }\n",
       "\n",
       "    .dataframe thead th {\n",
       "        text-align: right;\n",
       "    }\n",
       "</style>\n",
       "<table border=\"1\" class=\"dataframe\">\n",
       "  <thead>\n",
       "    <tr style=\"text-align: right;\">\n",
       "      <th></th>\n",
       "      <th></th>\n",
       "      <th>user_id</th>\n",
       "    </tr>\n",
       "    <tr>\n",
       "      <th>ab_test</th>\n",
       "      <th>group</th>\n",
       "      <th></th>\n",
       "    </tr>\n",
       "  </thead>\n",
       "  <tbody>\n",
       "    <tr>\n",
       "      <th rowspan=\"2\" valign=\"top\">interface_eu_test</th>\n",
       "      <th>A</th>\n",
       "      <td>5831</td>\n",
       "    </tr>\n",
       "    <tr>\n",
       "      <th>B</th>\n",
       "      <td>5736</td>\n",
       "    </tr>\n",
       "    <tr>\n",
       "      <th rowspan=\"2\" valign=\"top\">recommender_system_test</th>\n",
       "      <th>A</th>\n",
       "      <td>3824</td>\n",
       "    </tr>\n",
       "    <tr>\n",
       "      <th>B</th>\n",
       "      <td>2877</td>\n",
       "    </tr>\n",
       "  </tbody>\n",
       "</table>\n",
       "</div>"
      ],
      "text/plain": [
       "                               user_id\n",
       "ab_test                 group         \n",
       "interface_eu_test       A         5831\n",
       "                        B         5736\n",
       "recommender_system_test A         3824\n",
       "                        B         2877"
      ]
     },
     "execution_count": 16,
     "metadata": {},
     "output_type": "execute_result"
    }
   ],
   "source": [
    "ab_participants.groupby(['ab_test', 'group']).agg({'user_id': 'nunique'})"
   ]
  },
  {
   "cell_type": "code",
   "execution_count": 17,
   "id": "2c2091de",
   "metadata": {},
   "outputs": [
    {
     "name": "stdout",
     "output_type": "stream",
     "text": [
      "Абсолютное число ошибочных пользователей по тестам: 1602\n",
      "Процент ошибочных пользователей в recommender_system_test: 23.91%\n"
     ]
    }
   ],
   "source": [
    "# проверяем наличие пользователей, которые состоят в двух тестах одновременно\n",
    "error_users_test=(\n",
    "ab_participants\n",
    "    .groupby('user_id', as_index=False)\n",
    "    .agg({'ab_test' : 'nunique'})\n",
    "    .query('ab_test > 1')\n",
    ")\n",
    "print('Абсолютное число ошибочных пользователей по тестам:', error_users_test['user_id'].nunique())\n",
    "print('Процент ошибочных пользователей в recommender_system_test: {0:.2f}%'.format(\n",
    "    error_users_test['user_id'].nunique() \\\n",
    "    / ab_participants.query('ab_test == \"recommender_system_test\"')['user_id'].nunique()*100))"
   ]
  },
  {
   "cell_type": "markdown",
   "id": "0f67b2bc",
   "metadata": {},
   "source": [
    "Исключим таких пользователей, а также оставим только тех, кто участвовал во внедрении рекомендательной системы."
   ]
  },
  {
   "cell_type": "code",
   "execution_count": 18,
   "id": "80adf49a",
   "metadata": {},
   "outputs": [],
   "source": [
    "# исключим таких пользователей\n",
    "filtered_ab_participants = ab_participants.drop(error_users_test.index)\n",
    "filtered_ab_participants = filtered_ab_participants.query('ab_test == \"recommender_system_test\"')"
   ]
  },
  {
   "cell_type": "markdown",
   "id": "0d21145d",
   "metadata": {},
   "source": [
    "Проверим пользователей которые состоят в двух группах одновременно."
   ]
  },
  {
   "cell_type": "code",
   "execution_count": 19,
   "id": "441a3e40",
   "metadata": {},
   "outputs": [
    {
     "name": "stdout",
     "output_type": "stream",
     "text": [
      "Абсолютное число ошибочных пользователей по группам: 0\n",
      "Процент ошибочных пользователей в recommender_system_test: 0.00%\n"
     ]
    }
   ],
   "source": [
    "# проверяем наличие пользователей, которые состоят в двух группах одновременно\n",
    "error_users=(\n",
    "    filtered_ab_participants\n",
    "    .groupby('user_id', as_index=False)\n",
    "    .agg({'group' : 'nunique'})\n",
    "    .reset_index()\n",
    "    .query('group > 1')\n",
    ")\n",
    "error_users\n",
    "print('Абсолютное число ошибочных пользователей по группам:', error_users['user_id'].nunique())\n",
    "print('Процент ошибочных пользователей в recommender_system_test: {0:.2f}%'.format(\n",
    "    error_users['user_id'].nunique() \\\n",
    "    / ab_participants.query('ab_test == \"recommender_system_test\"')['user_id'].nunique()*100))"
   ]
  },
  {
   "cell_type": "markdown",
   "id": "e1bbfb88",
   "metadata": {},
   "source": [
    "Таких пользователей нет."
   ]
  },
  {
   "cell_type": "code",
   "execution_count": 20,
   "id": "48f25701",
   "metadata": {},
   "outputs": [
    {
     "data": {
      "text/html": [
       "<div>\n",
       "<style scoped>\n",
       "    .dataframe tbody tr th:only-of-type {\n",
       "        vertical-align: middle;\n",
       "    }\n",
       "\n",
       "    .dataframe tbody tr th {\n",
       "        vertical-align: top;\n",
       "    }\n",
       "\n",
       "    .dataframe thead th {\n",
       "        text-align: right;\n",
       "    }\n",
       "</style>\n",
       "<table border=\"1\" class=\"dataframe\">\n",
       "  <thead>\n",
       "    <tr style=\"text-align: right;\">\n",
       "      <th></th>\n",
       "      <th></th>\n",
       "      <th>user_id</th>\n",
       "    </tr>\n",
       "    <tr>\n",
       "      <th>ab_test</th>\n",
       "      <th>group</th>\n",
       "      <th></th>\n",
       "    </tr>\n",
       "  </thead>\n",
       "  <tbody>\n",
       "    <tr>\n",
       "      <th rowspan=\"2\" valign=\"top\">recommender_system_test</th>\n",
       "      <th>A</th>\n",
       "      <td>3473</td>\n",
       "    </tr>\n",
       "    <tr>\n",
       "      <th>B</th>\n",
       "      <td>2604</td>\n",
       "    </tr>\n",
       "  </tbody>\n",
       "</table>\n",
       "</div>"
      ],
      "text/plain": [
       "                               user_id\n",
       "ab_test                 group         \n",
       "recommender_system_test A         3473\n",
       "                        B         2604"
      ]
     },
     "execution_count": 20,
     "metadata": {},
     "output_type": "execute_result"
    }
   ],
   "source": [
    "filtered_ab_participants.groupby(['ab_test', 'group']).agg({'user_id': 'nunique'})"
   ]
  },
  {
   "cell_type": "markdown",
   "id": "a4e9a868",
   "metadata": {},
   "source": [
    "**Вывод:** мы обнаружили, что 1602 пользователя или же 23.91% от теста *recommender_system_test* входят в оба теста одновременно. Также удалось узнать, что пользователей состоящих в двух группах одновременно не осталось. Ошибочные пользователи были убраны, тест в выборке был оставлен только один: *recommender_system_test*."
   ]
  },
  {
   "cell_type": "code",
   "execution_count": 21,
   "id": "a512f909",
   "metadata": {
    "scrolled": true
   },
   "outputs": [
    {
     "name": "stdout",
     "output_type": "stream",
     "text": [
      "<class 'pandas.core.frame.DataFrame'>\n",
      "Index: 6077 entries, 0 to 6700\n",
      "Data columns (total 3 columns):\n",
      " #   Column   Non-Null Count  Dtype \n",
      "---  ------   --------------  ----- \n",
      " 0   user_id  6077 non-null   object\n",
      " 1   group    6077 non-null   object\n",
      " 2   ab_test  6077 non-null   object\n",
      "dtypes: object(3)\n",
      "memory usage: 189.9+ KB\n"
     ]
    }
   ],
   "source": [
    "filtered_ab_participants.info()"
   ]
  },
  {
   "cell_type": "markdown",
   "id": "457f2dd1",
   "metadata": {},
   "source": [
    "### Проверка пунктов ТЗ"
   ]
  },
  {
   "cell_type": "markdown",
   "id": "8f543311",
   "metadata": {},
   "source": [
    "Дальше будем проверять соответствие датам, а именно:\n",
    "- дата запуска: 2020-12-07;\n",
    "- дата остановки набора новых пользователей 2020-12-21;\n",
    "- дата остановки: 2021-01-04."
   ]
  },
  {
   "cell_type": "code",
   "execution_count": 22,
   "id": "89315cf6",
   "metadata": {},
   "outputs": [
    {
     "name": "stdout",
     "output_type": "stream",
     "text": [
      "Процент отфильтрованных пользователей по датам регистрации: 8.53%\n"
     ]
    }
   ],
   "source": [
    "start_date = '2020-12-07'\n",
    "end_date = '2020-12-21'\n",
    "\n",
    "filtered_ab_new_users = \\\n",
    "final_ab_new_users.loc[final_ab_new_users['first_date']<= end_date]\n",
    "\n",
    "print('Процент отфильтрованных пользователей по датам регистрации: {0:.2f}%'.format(\n",
    "    (1-filtered_ab_new_users['user_id'].count() / final_ab_new_users['user_id'].count())*100))"
   ]
  },
  {
   "cell_type": "code",
   "execution_count": 23,
   "id": "b2afa6ff",
   "metadata": {},
   "outputs": [
    {
     "name": "stdout",
     "output_type": "stream",
     "text": [
      "Процент отфильтрованных событий по датам: 0.00%\n"
     ]
    }
   ],
   "source": [
    "start_date = '2020-12-07'\n",
    "end_date = '2021-01-04'\n",
    "\n",
    "filtered_ab_events = \\\n",
    "ab_events.loc[ab_events['event_dt'].between(start_date, end_date)]\n",
    "\n",
    "print('Процент отфильтрованных событий по датам: {0:.2f}%'.format(\n",
    "    (1-filtered_ab_events['user_id'].count() / ab_events['user_id'].count())*100))"
   ]
  },
  {
   "cell_type": "markdown",
   "id": "8c0b833c",
   "metadata": {},
   "source": [
    "Теперь можем объединить отфильтрованные датасеты по столбцу `user_id`. При объединении с событиями сделаем объединение по левой части, чтобы не потерять пользователей которые не совершали событий вовсе."
   ]
  },
  {
   "cell_type": "code",
   "execution_count": 24,
   "id": "974bddbd",
   "metadata": {},
   "outputs": [
    {
     "name": "stdout",
     "output_type": "stream",
     "text": [
      "<class 'pandas.core.frame.DataFrame'>\n",
      "RangeIndex: 6077 entries, 0 to 6076\n",
      "Data columns (total 6 columns):\n",
      " #   Column      Non-Null Count  Dtype         \n",
      "---  ------      --------------  -----         \n",
      " 0   user_id     6077 non-null   object        \n",
      " 1   first_date  6077 non-null   datetime64[ns]\n",
      " 2   region      6077 non-null   object        \n",
      " 3   device      6077 non-null   object        \n",
      " 4   group       6077 non-null   object        \n",
      " 5   ab_test     6077 non-null   object        \n",
      "dtypes: datetime64[ns](1), object(5)\n",
      "memory usage: 285.0+ KB\n"
     ]
    }
   ],
   "source": [
    "# Оставляем при этом только те строки, где `user_id` есть в двух датасетах.\n",
    "filtered_df = filtered_ab_new_users.merge(filtered_ab_participants, on='user_id')\n",
    "filtered_df.info()"
   ]
  },
  {
   "cell_type": "code",
   "execution_count": 25,
   "id": "ffbc35f5",
   "metadata": {},
   "outputs": [
    {
     "name": "stdout",
     "output_type": "stream",
     "text": [
      "<class 'pandas.core.frame.DataFrame'>\n",
      "RangeIndex: 25194 entries, 0 to 25193\n",
      "Data columns (total 9 columns):\n",
      " #   Column      Non-Null Count  Dtype         \n",
      "---  ------      --------------  -----         \n",
      " 0   user_id     25194 non-null  object        \n",
      " 1   first_date  25194 non-null  datetime64[ns]\n",
      " 2   region      25194 non-null  object        \n",
      " 3   device      25194 non-null  object        \n",
      " 4   group       25194 non-null  object        \n",
      " 5   ab_test     25194 non-null  object        \n",
      " 6   event_dt    22461 non-null  datetime64[ns]\n",
      " 7   event_name  22461 non-null  object        \n",
      " 8   details     3042 non-null   float64       \n",
      "dtypes: datetime64[ns](2), float64(1), object(6)\n",
      "memory usage: 1.7+ MB\n"
     ]
    }
   ],
   "source": [
    "filtered_df = filtered_df.merge(filtered_ab_events, on='user_id', how='left')\n",
    "filtered_df.info()"
   ]
  },
  {
   "cell_type": "code",
   "execution_count": 26,
   "id": "d391f890",
   "metadata": {},
   "outputs": [
    {
     "data": {
      "text/html": [
       "<div>\n",
       "<style scoped>\n",
       "    .dataframe tbody tr th:only-of-type {\n",
       "        vertical-align: middle;\n",
       "    }\n",
       "\n",
       "    .dataframe tbody tr th {\n",
       "        vertical-align: top;\n",
       "    }\n",
       "\n",
       "    .dataframe thead th {\n",
       "        text-align: right;\n",
       "    }\n",
       "</style>\n",
       "<table border=\"1\" class=\"dataframe\">\n",
       "  <thead>\n",
       "    <tr style=\"text-align: right;\">\n",
       "      <th></th>\n",
       "      <th>user_id</th>\n",
       "      <th>first_date</th>\n",
       "      <th>region</th>\n",
       "      <th>device</th>\n",
       "      <th>group</th>\n",
       "      <th>ab_test</th>\n",
       "      <th>event_dt</th>\n",
       "      <th>event_name</th>\n",
       "      <th>details</th>\n",
       "    </tr>\n",
       "  </thead>\n",
       "  <tbody>\n",
       "    <tr>\n",
       "      <th>0</th>\n",
       "      <td>D72A72121175D8BE</td>\n",
       "      <td>2020-12-07</td>\n",
       "      <td>EU</td>\n",
       "      <td>PC</td>\n",
       "      <td>A</td>\n",
       "      <td>recommender_system_test</td>\n",
       "      <td>2020-12-07 21:52:10</td>\n",
       "      <td>product_page</td>\n",
       "      <td>NaN</td>\n",
       "    </tr>\n",
       "    <tr>\n",
       "      <th>1</th>\n",
       "      <td>D72A72121175D8BE</td>\n",
       "      <td>2020-12-07</td>\n",
       "      <td>EU</td>\n",
       "      <td>PC</td>\n",
       "      <td>A</td>\n",
       "      <td>recommender_system_test</td>\n",
       "      <td>2020-12-07 21:52:07</td>\n",
       "      <td>login</td>\n",
       "      <td>NaN</td>\n",
       "    </tr>\n",
       "    <tr>\n",
       "      <th>2</th>\n",
       "      <td>E6DE857AFBDC6102</td>\n",
       "      <td>2020-12-07</td>\n",
       "      <td>EU</td>\n",
       "      <td>PC</td>\n",
       "      <td>B</td>\n",
       "      <td>recommender_system_test</td>\n",
       "      <td>NaT</td>\n",
       "      <td>NaN</td>\n",
       "      <td>NaN</td>\n",
       "    </tr>\n",
       "    <tr>\n",
       "      <th>3</th>\n",
       "      <td>DD4352CDCF8C3D57</td>\n",
       "      <td>2020-12-07</td>\n",
       "      <td>EU</td>\n",
       "      <td>Android</td>\n",
       "      <td>B</td>\n",
       "      <td>recommender_system_test</td>\n",
       "      <td>2020-12-07 15:32:54</td>\n",
       "      <td>product_page</td>\n",
       "      <td>NaN</td>\n",
       "    </tr>\n",
       "    <tr>\n",
       "      <th>4</th>\n",
       "      <td>DD4352CDCF8C3D57</td>\n",
       "      <td>2020-12-07</td>\n",
       "      <td>EU</td>\n",
       "      <td>Android</td>\n",
       "      <td>B</td>\n",
       "      <td>recommender_system_test</td>\n",
       "      <td>2020-12-08 08:29:31</td>\n",
       "      <td>product_page</td>\n",
       "      <td>NaN</td>\n",
       "    </tr>\n",
       "  </tbody>\n",
       "</table>\n",
       "</div>"
      ],
      "text/plain": [
       "            user_id first_date region   device group                  ab_test  \\\n",
       "0  D72A72121175D8BE 2020-12-07     EU       PC     A  recommender_system_test   \n",
       "1  D72A72121175D8BE 2020-12-07     EU       PC     A  recommender_system_test   \n",
       "2  E6DE857AFBDC6102 2020-12-07     EU       PC     B  recommender_system_test   \n",
       "3  DD4352CDCF8C3D57 2020-12-07     EU  Android     B  recommender_system_test   \n",
       "4  DD4352CDCF8C3D57 2020-12-07     EU  Android     B  recommender_system_test   \n",
       "\n",
       "             event_dt    event_name  details  \n",
       "0 2020-12-07 21:52:10  product_page      NaN  \n",
       "1 2020-12-07 21:52:07         login      NaN  \n",
       "2                 NaT           NaN      NaN  \n",
       "3 2020-12-07 15:32:54  product_page      NaN  \n",
       "4 2020-12-08 08:29:31  product_page      NaN  "
      ]
     },
     "execution_count": 26,
     "metadata": {},
     "output_type": "execute_result"
    }
   ],
   "source": [
    "filtered_df.head()"
   ]
  },
  {
   "cell_type": "markdown",
   "id": "964299ba",
   "metadata": {},
   "source": [
    "Проверим последнюю дату, когда было совершено событие пользователем."
   ]
  },
  {
   "cell_type": "code",
   "execution_count": 27,
   "id": "0be6b8e9",
   "metadata": {},
   "outputs": [
    {
     "data": {
      "text/plain": [
       "Timestamp('2020-12-30 23:36:33')"
      ]
     },
     "execution_count": 27,
     "metadata": {},
     "output_type": "execute_result"
    }
   ],
   "source": [
    "ab_events['event_dt'].max()"
   ]
  },
  {
   "cell_type": "markdown",
   "id": "f4b2fd53",
   "metadata": {},
   "source": [
    "Отдельно проверим сколько пользователей не совершали событий."
   ]
  },
  {
   "cell_type": "code",
   "execution_count": 28,
   "id": "2fe2c111",
   "metadata": {},
   "outputs": [
    {
     "data": {
      "text/html": [
       "<div>\n",
       "<style scoped>\n",
       "    .dataframe tbody tr th:only-of-type {\n",
       "        vertical-align: middle;\n",
       "    }\n",
       "\n",
       "    .dataframe tbody tr th {\n",
       "        vertical-align: top;\n",
       "    }\n",
       "\n",
       "    .dataframe thead th {\n",
       "        text-align: right;\n",
       "    }\n",
       "</style>\n",
       "<table border=\"1\" class=\"dataframe\">\n",
       "  <thead>\n",
       "    <tr style=\"text-align: right;\">\n",
       "      <th></th>\n",
       "      <th>group</th>\n",
       "      <th>all_users</th>\n",
       "    </tr>\n",
       "  </thead>\n",
       "  <tbody>\n",
       "    <tr>\n",
       "      <th>0</th>\n",
       "      <td>A</td>\n",
       "      <td>3473</td>\n",
       "    </tr>\n",
       "    <tr>\n",
       "      <th>1</th>\n",
       "      <td>B</td>\n",
       "      <td>2604</td>\n",
       "    </tr>\n",
       "  </tbody>\n",
       "</table>\n",
       "</div>"
      ],
      "text/plain": [
       "  group  all_users\n",
       "0     A       3473\n",
       "1     B       2604"
      ]
     },
     "execution_count": 28,
     "metadata": {},
     "output_type": "execute_result"
    }
   ],
   "source": [
    "all_users = (\n",
    "    filtered_df\n",
    "    .groupby('group', as_index=False)\n",
    "    .agg({'user_id':'nunique'})\n",
    "    .rename(columns={'user_id':'all_users'})\n",
    ")\n",
    "all_users"
   ]
  },
  {
   "cell_type": "code",
   "execution_count": 29,
   "id": "57371aae",
   "metadata": {},
   "outputs": [
    {
     "data": {
      "text/html": [
       "<div>\n",
       "<style scoped>\n",
       "    .dataframe tbody tr th:only-of-type {\n",
       "        vertical-align: middle;\n",
       "    }\n",
       "\n",
       "    .dataframe tbody tr th {\n",
       "        vertical-align: top;\n",
       "    }\n",
       "\n",
       "    .dataframe thead th {\n",
       "        text-align: right;\n",
       "    }\n",
       "</style>\n",
       "<table border=\"1\" class=\"dataframe\">\n",
       "  <thead>\n",
       "    <tr style=\"text-align: right;\">\n",
       "      <th></th>\n",
       "      <th>group</th>\n",
       "      <th>users_without_events</th>\n",
       "      <th>ratio</th>\n",
       "    </tr>\n",
       "  </thead>\n",
       "  <tbody>\n",
       "    <tr>\n",
       "      <th>0</th>\n",
       "      <td>A</td>\n",
       "      <td>980</td>\n",
       "      <td>0.282</td>\n",
       "    </tr>\n",
       "    <tr>\n",
       "      <th>1</th>\n",
       "      <td>B</td>\n",
       "      <td>1753</td>\n",
       "      <td>0.673</td>\n",
       "    </tr>\n",
       "  </tbody>\n",
       "</table>\n",
       "</div>"
      ],
      "text/plain": [
       "  group  users_without_events  ratio\n",
       "0     A                   980  0.282\n",
       "1     B                  1753  0.673"
      ]
     },
     "execution_count": 29,
     "metadata": {},
     "output_type": "execute_result"
    }
   ],
   "source": [
    "users_no_events = (\n",
    "    filtered_df\n",
    "    .loc[filtered_df['event_dt'].isnull()]\n",
    "    .groupby('group', as_index=False)\n",
    "    .agg({'user_id':'nunique'})\n",
    "    .rename(columns={'user_id':'users_without_events'})\n",
    ")\n",
    "users_no_events['ratio'] = (users_no_events['users_without_events'] / all_users['all_users']).round(3)\n",
    "users_no_events"
   ]
  },
  {
   "cell_type": "markdown",
   "id": "314dcb43",
   "metadata": {},
   "source": [
    "**Выводы:**\n",
    "- дата последнего события 2020-12-30 23:36:33, при этом дата окончания теста указана 2021-01-04;\n",
    "- в группе A 28.2% пользователей не совершали событий, тогда как в группе B этот процент составляет 67.3%, что серьезно может исказить тестирование."
   ]
  },
  {
   "cell_type": "markdown",
   "id": "715530ed",
   "metadata": {},
   "source": [
    "Мы должны учитывать лайфтайм пользователя 14 дней и отфильтровать события которые происходят после 14-го дня с начала регистрации по каждому пользователю."
   ]
  },
  {
   "cell_type": "code",
   "execution_count": 30,
   "id": "a4212e13",
   "metadata": {},
   "outputs": [
    {
     "data": {
      "text/html": [
       "<div>\n",
       "<style scoped>\n",
       "    .dataframe tbody tr th:only-of-type {\n",
       "        vertical-align: middle;\n",
       "    }\n",
       "\n",
       "    .dataframe tbody tr th {\n",
       "        vertical-align: top;\n",
       "    }\n",
       "\n",
       "    .dataframe thead th {\n",
       "        text-align: right;\n",
       "    }\n",
       "</style>\n",
       "<table border=\"1\" class=\"dataframe\">\n",
       "  <thead>\n",
       "    <tr style=\"text-align: right;\">\n",
       "      <th></th>\n",
       "      <th></th>\n",
       "      <th>user_id</th>\n",
       "    </tr>\n",
       "    <tr>\n",
       "      <th>ab_test</th>\n",
       "      <th>group</th>\n",
       "      <th></th>\n",
       "    </tr>\n",
       "  </thead>\n",
       "  <tbody>\n",
       "    <tr>\n",
       "      <th rowspan=\"2\" valign=\"top\">recommender_system_test</th>\n",
       "      <th>A</th>\n",
       "      <td>3473</td>\n",
       "    </tr>\n",
       "    <tr>\n",
       "      <th>B</th>\n",
       "      <td>2604</td>\n",
       "    </tr>\n",
       "  </tbody>\n",
       "</table>\n",
       "</div>"
      ],
      "text/plain": [
       "                               user_id\n",
       "ab_test                 group         \n",
       "recommender_system_test A         3473\n",
       "                        B         2604"
      ]
     },
     "execution_count": 30,
     "metadata": {},
     "output_type": "execute_result"
    }
   ],
   "source": [
    "# количество уникальных пользователей по группам\n",
    "filtered_df.groupby(['ab_test', 'group']).agg({'user_id': 'nunique'})"
   ]
  },
  {
   "cell_type": "code",
   "execution_count": 31,
   "id": "e6f31453",
   "metadata": {},
   "outputs": [
    {
     "name": "stdout",
     "output_type": "stream",
     "text": [
      "<class 'pandas.core.frame.DataFrame'>\n",
      "Index: 24604 entries, 0 to 25193\n",
      "Data columns (total 10 columns):\n",
      " #   Column      Non-Null Count  Dtype         \n",
      "---  ------      --------------  -----         \n",
      " 0   user_id     24604 non-null  object        \n",
      " 1   first_date  24604 non-null  datetime64[ns]\n",
      " 2   region      24604 non-null  object        \n",
      " 3   device      24604 non-null  object        \n",
      " 4   group       24604 non-null  object        \n",
      " 5   ab_test     24604 non-null  object        \n",
      " 6   event_dt    21871 non-null  datetime64[ns]\n",
      " 7   event_name  21871 non-null  object        \n",
      " 8   details     2967 non-null   float64       \n",
      " 9   lifetime    21871 non-null  float64       \n",
      "dtypes: datetime64[ns](2), float64(2), object(6)\n",
      "memory usage: 2.1+ MB\n"
     ]
    }
   ],
   "source": [
    "filtered_df['lifetime'] = (\n",
    "    filtered_df['event_dt'] - filtered_df['first_date']\n",
    ").dt.days\n",
    "filtered_df = filtered_df.query('lifetime <= 14 or lifetime.isna()')\n",
    "filtered_df.info()"
   ]
  },
  {
   "cell_type": "code",
   "execution_count": 32,
   "id": "47c3526c",
   "metadata": {},
   "outputs": [
    {
     "data": {
      "text/html": [
       "<div>\n",
       "<style scoped>\n",
       "    .dataframe tbody tr th:only-of-type {\n",
       "        vertical-align: middle;\n",
       "    }\n",
       "\n",
       "    .dataframe tbody tr th {\n",
       "        vertical-align: top;\n",
       "    }\n",
       "\n",
       "    .dataframe thead th {\n",
       "        text-align: right;\n",
       "    }\n",
       "</style>\n",
       "<table border=\"1\" class=\"dataframe\">\n",
       "  <thead>\n",
       "    <tr style=\"text-align: right;\">\n",
       "      <th></th>\n",
       "      <th></th>\n",
       "      <th>user_id</th>\n",
       "    </tr>\n",
       "    <tr>\n",
       "      <th>ab_test</th>\n",
       "      <th>group</th>\n",
       "      <th></th>\n",
       "    </tr>\n",
       "  </thead>\n",
       "  <tbody>\n",
       "    <tr>\n",
       "      <th rowspan=\"2\" valign=\"top\">recommender_system_test</th>\n",
       "      <th>A</th>\n",
       "      <td>3473</td>\n",
       "    </tr>\n",
       "    <tr>\n",
       "      <th>B</th>\n",
       "      <td>2604</td>\n",
       "    </tr>\n",
       "  </tbody>\n",
       "</table>\n",
       "</div>"
      ],
      "text/plain": [
       "                               user_id\n",
       "ab_test                 group         \n",
       "recommender_system_test A         3473\n",
       "                        B         2604"
      ]
     },
     "execution_count": 32,
     "metadata": {},
     "output_type": "execute_result"
    }
   ],
   "source": [
    "# количество уникальных пользователей по группам после фильтрации лайфтайма\n",
    "filtered_df.groupby(['ab_test', 'group']).agg({'user_id': 'nunique'})"
   ]
  },
  {
   "cell_type": "markdown",
   "id": "f7a9018f",
   "metadata": {},
   "source": [
    "**Вывод по объединению:** пропуски появились в столбце *details* поскольку значения соответствуют только событиям с покупкой, а также появились пропуски в тех строках, где пользователи не совершали событий, значит датасеты объединены правильно. Количество уникальных пользователей осталось тем же, поскольку в датасете остались пользователи без событий, были убраны лишь те строки событий, лайфтайм которых превышал 14 дней."
   ]
  },
  {
   "cell_type": "markdown",
   "id": "d1550c4d",
   "metadata": {},
   "source": [
    "Продолжим с проверкой требования: в тест должно быть отобрано 15% новых пользователей из региона EU. Посмотрим также общее распределение пользователей по регионам."
   ]
  },
  {
   "cell_type": "markdown",
   "id": "d2742232",
   "metadata": {},
   "source": [
    "Для этого сначала объединим таблицы с новыми пользователями из Европы и участниками тестов, чтобы отфильтровать из них только тех, кто участвует в тесте *recommender_system_test*."
   ]
  },
  {
   "cell_type": "code",
   "execution_count": 33,
   "id": "b96c3250",
   "metadata": {},
   "outputs": [
    {
     "data": {
      "text/plain": [
       "61733"
      ]
     },
     "execution_count": 33,
     "metadata": {},
     "output_type": "execute_result"
    }
   ],
   "source": [
    "final_ab_new_users['user_id'].nunique()"
   ]
  },
  {
   "cell_type": "code",
   "execution_count": 34,
   "id": "a30dc3cd",
   "metadata": {},
   "outputs": [
    {
     "data": {
      "text/plain": [
       "16666"
      ]
     },
     "execution_count": 34,
     "metadata": {},
     "output_type": "execute_result"
    }
   ],
   "source": [
    "ab_participants['user_id'].nunique()"
   ]
  },
  {
   "cell_type": "code",
   "execution_count": 35,
   "id": "63f3edeb",
   "metadata": {},
   "outputs": [],
   "source": [
    "new_users = ab_participants.merge(filtered_ab_new_users.query('region==\"EU\"'), on='user_id')"
   ]
  },
  {
   "cell_type": "code",
   "execution_count": 36,
   "id": "b974e1d8",
   "metadata": {},
   "outputs": [
    {
     "data": {
      "text/plain": [
       "15314"
      ]
     },
     "execution_count": 36,
     "metadata": {},
     "output_type": "execute_result"
    }
   ],
   "source": [
    "new_users['user_id'].nunique()"
   ]
  },
  {
   "cell_type": "markdown",
   "id": "0dd1d995",
   "metadata": {},
   "source": [
    "**Вывод по объединению:** в новой таблице *new_users* остались только те пользователи из региона Европы, которые участвовали в тестах."
   ]
  },
  {
   "cell_type": "code",
   "execution_count": 37,
   "id": "9f1e8e64",
   "metadata": {},
   "outputs": [
    {
     "data": {
      "text/html": [
       "<div>\n",
       "<style scoped>\n",
       "    .dataframe tbody tr th:only-of-type {\n",
       "        vertical-align: middle;\n",
       "    }\n",
       "\n",
       "    .dataframe tbody tr th {\n",
       "        vertical-align: top;\n",
       "    }\n",
       "\n",
       "    .dataframe thead th {\n",
       "        text-align: right;\n",
       "    }\n",
       "</style>\n",
       "<table border=\"1\" class=\"dataframe\">\n",
       "  <thead>\n",
       "    <tr style=\"text-align: right;\">\n",
       "      <th></th>\n",
       "      <th>region</th>\n",
       "      <th>user_id</th>\n",
       "    </tr>\n",
       "  </thead>\n",
       "  <tbody>\n",
       "    <tr>\n",
       "      <th>0</th>\n",
       "      <td>EU</td>\n",
       "      <td>6351</td>\n",
       "    </tr>\n",
       "  </tbody>\n",
       "</table>\n",
       "</div>"
      ],
      "text/plain": [
       "  region  user_id\n",
       "0     EU     6351"
      ]
     },
     "execution_count": 37,
     "metadata": {},
     "output_type": "execute_result"
    }
   ],
   "source": [
    "users_by_region = (\n",
    "    new_users\n",
    "    .query('ab_test == \"recommender_system_test\"')\n",
    "    .groupby('region', as_index=False)\n",
    "    .agg({'user_id':'nunique'})\n",
    "    .sort_values(by='user_id', ascending=False)\n",
    ")\n",
    "users_by_region"
   ]
  },
  {
   "cell_type": "code",
   "execution_count": 38,
   "id": "35fa03f5",
   "metadata": {},
   "outputs": [
    {
     "data": {
      "image/png": "[encoded data removed]",
      "text/plain": [
       "<Figure size 1000x600 with 1 Axes>"
      ]
     },
     "metadata": {
      "image/png": {
       "height": 546,
       "width": 859
      }
     },
     "output_type": "display_data"
    }
   ],
   "source": [
    "plt.figure(figsize=(10, 6))\n",
    "\n",
    "sns.barplot(data=users_by_region, x='region', y='user_id')\n",
    "plt.title('График распределения количества пользователей по регионам')\n",
    "plt.xlabel('Регион')\n",
    "plt.ylabel('Количество пользователей')\n",
    "plt.grid(True)\n",
    "\n",
    "plt.show()"
   ]
  },
  {
   "cell_type": "code",
   "execution_count": 39,
   "id": "058ed2f1",
   "metadata": {},
   "outputs": [
    {
     "name": "stdout",
     "output_type": "stream",
     "text": [
      "Процент пользователей из Европы, отобранных в тест recommender_system_test: 15.00%\n"
     ]
    }
   ],
   "source": [
    "eu_users = filtered_ab_new_users[filtered_ab_new_users['region'] == 'EU']['user_id'].nunique()\n",
    "test_users = new_users.query('ab_test==\"recommender_system_test\"')['user_id'].nunique()\n",
    "print('Процент пользователей из Европы, отобранных в тест recommender_system_test: {0:.2%}'.format(test_users / eu_users))"
   ]
  },
  {
   "cell_type": "markdown",
   "id": "65fd8092",
   "metadata": {},
   "source": [
    "**Вывод по числу новых пользователей из Европы:** доля новых пользователей из Европы, отобранных в тест *recommender_system_test* получилась 15%."
   ]
  },
  {
   "cell_type": "markdown",
   "id": "8f355050",
   "metadata": {},
   "source": [
    "Проверим число участников теста. По ТЗ ожидаемое количество участников теста: 6000."
   ]
  },
  {
   "cell_type": "code",
   "execution_count": 40,
   "id": "cc642492",
   "metadata": {},
   "outputs": [
    {
     "data": {
      "text/plain": [
       "6077"
      ]
     },
     "execution_count": 40,
     "metadata": {},
     "output_type": "execute_result"
    }
   ],
   "source": [
    "filtered_df['user_id'].nunique()"
   ]
  },
  {
   "cell_type": "markdown",
   "id": "5620a4f6",
   "metadata": {},
   "source": [
    "**Вывод по количеству участников теста:** участников получилось 6077, что удовлетворяет требованию по ТЗ."
   ]
  },
  {
   "cell_type": "markdown",
   "id": "ad50e7a6",
   "metadata": {},
   "source": [
    "### Время проведения теста"
   ]
  },
  {
   "cell_type": "markdown",
   "id": "1a921d1f",
   "metadata": {},
   "source": [
    "Проверим с какими маркетинговыми событиями совпадает время проведения теста."
   ]
  },
  {
   "cell_type": "code",
   "execution_count": 41,
   "id": "945e5539",
   "metadata": {
    "scrolled": true
   },
   "outputs": [
    {
     "data": {
      "text/html": [
       "<div>\n",
       "<style scoped>\n",
       "    .dataframe tbody tr th:only-of-type {\n",
       "        vertical-align: middle;\n",
       "    }\n",
       "\n",
       "    .dataframe tbody tr th {\n",
       "        vertical-align: top;\n",
       "    }\n",
       "\n",
       "    .dataframe thead th {\n",
       "        text-align: right;\n",
       "    }\n",
       "</style>\n",
       "<table border=\"1\" class=\"dataframe\">\n",
       "  <thead>\n",
       "    <tr style=\"text-align: right;\">\n",
       "      <th></th>\n",
       "      <th>name</th>\n",
       "      <th>regions</th>\n",
       "      <th>start_dt</th>\n",
       "      <th>finish_dt</th>\n",
       "    </tr>\n",
       "  </thead>\n",
       "  <tbody>\n",
       "    <tr>\n",
       "      <th>0</th>\n",
       "      <td>Christmas&amp;New Year Promo</td>\n",
       "      <td>EU, N.America</td>\n",
       "      <td>2020-12-25</td>\n",
       "      <td>2021-01-03</td>\n",
       "    </tr>\n",
       "    <tr>\n",
       "      <th>10</th>\n",
       "      <td>CIS New Year Gift Lottery</td>\n",
       "      <td>CIS</td>\n",
       "      <td>2020-12-30</td>\n",
       "      <td>2021-01-07</td>\n",
       "    </tr>\n",
       "  </tbody>\n",
       "</table>\n",
       "</div>"
      ],
      "text/plain": [
       "                         name        regions    start_dt   finish_dt\n",
       "0    Christmas&New Year Promo  EU, N.America  2020-12-25  2021-01-03\n",
       "10  CIS New Year Gift Lottery            CIS  2020-12-30  2021-01-07"
      ]
     },
     "execution_count": 41,
     "metadata": {},
     "output_type": "execute_result"
    }
   ],
   "source": [
    "marketing_events.loc[(marketing_events['start_dt']>=start_date)]"
   ]
  },
  {
   "cell_type": "markdown",
   "id": "e3b2f01a",
   "metadata": {},
   "source": [
    "**Вывод по маркетинговым событиям:** в период исследования проходило два маркетинговых события, связанных с празднованием Нового года и Рождества. Стоит отметить, что только одна кампания проходила в Европе, это *Christmas&New Year Promo*. Будем учитывать это в анализе и в выводах."
   ]
  },
  {
   "cell_type": "markdown",
   "id": "c8acbe1f",
   "metadata": {},
   "source": [
    "**Выводы по оценке проведения теста:**\n",
    "\n",
    "В проведенном тесте встречаются серьёзные нарушения:\n",
    "- В период исследования, а именно с 2020-12-25 по 2021-01-03 в регионе Европа проходила промо акция Christmas&New Year Promo.\n",
    "- Дата последнего события 2020-12-30 23:36:33, при этом дата окончания теста указана 2021-01-04.\n",
    "- В группе A 28.2% пользователей не совершали событий, тогда как в группе B этот процент составляет 67.3%, что серьезно может повлиять на результаты тестирования.\n",
    "- Количество участников теста сильно отличается:\n",
    "    - в группе A 3473 участника,\n",
    "    - в группе B 2604 участника.\n",
    "- Помимо Европы в тест попали участники из других регионов, но в малом количестве."
   ]
  },
  {
   "cell_type": "markdown",
   "id": "372648e5",
   "metadata": {},
   "source": [
    "## Исследовательский анализ данных"
   ]
  },
  {
   "cell_type": "markdown",
   "id": "2d7970a4",
   "metadata": {},
   "source": [
    "В ходе исследовательского анализа будем отвечать на вопросы и делать по ним выводы."
   ]
  },
  {
   "cell_type": "markdown",
   "id": "5a43009d",
   "metadata": {},
   "source": [
    "Количество событий на пользователя одинаково распределены в выборках?"
   ]
  },
  {
   "cell_type": "code",
   "execution_count": 42,
   "id": "3ed81b74",
   "metadata": {},
   "outputs": [
    {
     "data": {
      "text/html": [
       "<div>\n",
       "<style scoped>\n",
       "    .dataframe tbody tr th:only-of-type {\n",
       "        vertical-align: middle;\n",
       "    }\n",
       "\n",
       "    .dataframe tbody tr th {\n",
       "        vertical-align: top;\n",
       "    }\n",
       "\n",
       "    .dataframe thead th {\n",
       "        text-align: right;\n",
       "    }\n",
       "</style>\n",
       "<table border=\"1\" class=\"dataframe\">\n",
       "  <thead>\n",
       "    <tr style=\"text-align: right;\">\n",
       "      <th></th>\n",
       "      <th>group</th>\n",
       "      <th>events_quantity</th>\n",
       "    </tr>\n",
       "  </thead>\n",
       "  <tbody>\n",
       "    <tr>\n",
       "      <th>0</th>\n",
       "      <td>A</td>\n",
       "      <td>4.94</td>\n",
       "    </tr>\n",
       "    <tr>\n",
       "      <th>1</th>\n",
       "      <td>B</td>\n",
       "      <td>1.81</td>\n",
       "    </tr>\n",
       "  </tbody>\n",
       "</table>\n",
       "</div>"
      ],
      "text/plain": [
       "  group  events_quantity\n",
       "0     A             4.94\n",
       "1     B             1.81"
      ]
     },
     "execution_count": 42,
     "metadata": {},
     "output_type": "execute_result"
    }
   ],
   "source": [
    "# сделаем выборку по всем пользователям\n",
    "events_by_all_users = (\n",
    "    filtered_df\n",
    "    .groupby(['group', 'user_id'], as_index=False)\n",
    "    .agg({'event_dt':'count'})\n",
    "    .rename(columns={'event_dt':'events_quantity'})\n",
    ")\n",
    "events_by_all_users = events_by_all_users.groupby('group', as_index=False)['events_quantity'].mean().round(2)\n",
    "events_by_all_users"
   ]
  },
  {
   "cell_type": "code",
   "execution_count": 43,
   "id": "c5af684e",
   "metadata": {},
   "outputs": [
    {
     "data": {
      "text/html": [
       "<div>\n",
       "<style scoped>\n",
       "    .dataframe tbody tr th:only-of-type {\n",
       "        vertical-align: middle;\n",
       "    }\n",
       "\n",
       "    .dataframe tbody tr th {\n",
       "        vertical-align: top;\n",
       "    }\n",
       "\n",
       "    .dataframe thead th {\n",
       "        text-align: right;\n",
       "    }\n",
       "</style>\n",
       "<table border=\"1\" class=\"dataframe\">\n",
       "  <thead>\n",
       "    <tr style=\"text-align: right;\">\n",
       "      <th></th>\n",
       "      <th>group</th>\n",
       "      <th>events_quantity</th>\n",
       "    </tr>\n",
       "  </thead>\n",
       "  <tbody>\n",
       "    <tr>\n",
       "      <th>0</th>\n",
       "      <td>A</td>\n",
       "      <td>6.89</td>\n",
       "    </tr>\n",
       "    <tr>\n",
       "      <th>1</th>\n",
       "      <td>B</td>\n",
       "      <td>5.53</td>\n",
       "    </tr>\n",
       "  </tbody>\n",
       "</table>\n",
       "</div>"
      ],
      "text/plain": [
       "  group  events_quantity\n",
       "0     A             6.89\n",
       "1     B             5.53"
      ]
     },
     "execution_count": 43,
     "metadata": {},
     "output_type": "execute_result"
    }
   ],
   "source": [
    "# и отдельно сделаем выборку по пользователям которые совершали события\n",
    "\n",
    "events_by_user = (\n",
    "    filtered_df[filtered_df['event_name'].notnull()]\n",
    "    .groupby(['group', 'user_id'], as_index=False)\n",
    "    .agg({'event_dt':'count'})\n",
    "    .rename(columns={'event_dt':'events_quantity'})\n",
    ")\n",
    "events_by_user = events_by_user.groupby('group', as_index=False)['events_quantity'].mean().round(2)\n",
    "events_by_user"
   ]
  },
  {
   "cell_type": "code",
   "execution_count": 44,
   "id": "0bb9717b",
   "metadata": {},
   "outputs": [
    {
     "data": {
      "image/png": "[encoded data removed]",
      "text/plain": [
       "<Figure size 1000x600 with 1 Axes>"
      ]
     },
     "metadata": {
      "image/png": {
       "height": 593,
       "width": 859
      }
     },
     "output_type": "display_data"
    }
   ],
   "source": [
    "plt.figure(figsize=(10, 6))\n",
    "\n",
    "sns.barplot(data=events_by_all_users, \n",
    "            x='group', \n",
    "            y='events_quantity')\n",
    "\n",
    "plt.title('График распределения количества событий на пользователя по группам (все пользователи)', x=0.5, y=1.1)\n",
    "plt.xlabel('Группа')\n",
    "plt.ylabel('Среднее количество событий на пользователя')\n",
    "plt.grid(True)\n",
    "\n",
    "plt.show()"
   ]
  },
  {
   "cell_type": "code",
   "execution_count": 45,
   "id": "3495dc99",
   "metadata": {},
   "outputs": [
    {
     "data": {
      "image/png": "[encoded data removed]",
      "text/plain": [
       "<Figure size 1000x600 with 1 Axes>"
      ]
     },
     "metadata": {
      "image/png": {
       "height": 593,
       "width": 929
      }
     },
     "output_type": "display_data"
    }
   ],
   "source": [
    "plt.figure(figsize=(10, 6))\n",
    "\n",
    "sns.barplot(data=events_by_user, \n",
    "            x='group', \n",
    "            y='events_quantity')\n",
    "\n",
    "plt.title('График распределения количества событий на пользователя по группам (пользователи с событиями)', x=0.5, y=1.1)\n",
    "plt.xlabel('Группа')\n",
    "plt.ylabel('Среднее количество событий на пользователя')\n",
    "plt.grid(True)\n",
    "\n",
    "plt.show()"
   ]
  },
  {
   "cell_type": "markdown",
   "id": "755bff34",
   "metadata": {},
   "source": [
    "Отдельно посчитаем количество уникальных пользователей в каждой группе с учетом всех пользователей и с учетом только тех кто совершал события."
   ]
  },
  {
   "cell_type": "code",
   "execution_count": 46,
   "id": "70e9ef6e",
   "metadata": {},
   "outputs": [
    {
     "name": "stdout",
     "output_type": "stream",
     "text": [
      "Число всех уникальных пользователей в группе А: 3473\n",
      "Число всех уникальных пользователей в группе B: 2604\n",
      "Число уникальных пользователей с событиями в группе А: 2493\n",
      "Число уникальных пользователей с событиями в группе B: 851\n"
     ]
    }
   ],
   "source": [
    "print('Число всех уникальных пользователей в группе А:',filtered_df.query('group==\"A\"')['user_id'].nunique())\n",
    "print('Число всех уникальных пользователей в группе B:',filtered_df.query('group==\"B\"')['user_id'].nunique())\n",
    "print('Число уникальных пользователей с событиями в группе А:',\n",
    "      filtered_df[(filtered_df['event_name'].notnull()) & (filtered_df['group']=='A')]['user_id'].nunique())\n",
    "print('Число уникальных пользователей с событиями в группе B:',\n",
    "      filtered_df[(filtered_df['event_name'].notnull()) & (filtered_df['group']=='B')]['user_id'].nunique())"
   ]
  },
  {
   "cell_type": "markdown",
   "id": "0ae4426e",
   "metadata": {},
   "source": [
    "**Вывод по количеству событий на пользователя между группами:** исходя из графика по всем пользователям событий в группе A в три раза больше чем в группе B на одного пользователя. Но если посмотреть на график, в котором остались только пользователи с событиями то разница будет уже не такой большой, но в группе B событий на пользователя попрежнему меньше чем в группе A."
   ]
  },
  {
   "cell_type": "markdown",
   "id": "2ee89182",
   "metadata": {},
   "source": [
    "Как число событий в выборках распределено по дням?"
   ]
  },
  {
   "cell_type": "code",
   "execution_count": 47,
   "id": "76e755a8",
   "metadata": {},
   "outputs": [],
   "source": [
    "# выделим отдельно дату события без времени\n",
    "# для дальнейшей визуализации\n",
    "filtered_df['dt'] = filtered_df['event_dt'].dt.date"
   ]
  },
  {
   "cell_type": "code",
   "execution_count": 48,
   "id": "f5820f60",
   "metadata": {},
   "outputs": [
    {
     "data": {
      "text/html": [
       "<div>\n",
       "<style scoped>\n",
       "    .dataframe tbody tr th:only-of-type {\n",
       "        vertical-align: middle;\n",
       "    }\n",
       "\n",
       "    .dataframe tbody tr th {\n",
       "        vertical-align: top;\n",
       "    }\n",
       "\n",
       "    .dataframe thead th {\n",
       "        text-align: right;\n",
       "    }\n",
       "</style>\n",
       "<table border=\"1\" class=\"dataframe\">\n",
       "  <thead>\n",
       "    <tr style=\"text-align: right;\">\n",
       "      <th></th>\n",
       "      <th>dt</th>\n",
       "      <th>group</th>\n",
       "      <th>events_quantity</th>\n",
       "    </tr>\n",
       "  </thead>\n",
       "  <tbody>\n",
       "    <tr>\n",
       "      <th>0</th>\n",
       "      <td>2020-12-07</td>\n",
       "      <td>A</td>\n",
       "      <td>306</td>\n",
       "    </tr>\n",
       "    <tr>\n",
       "      <th>1</th>\n",
       "      <td>2020-12-07</td>\n",
       "      <td>B</td>\n",
       "      <td>344</td>\n",
       "    </tr>\n",
       "    <tr>\n",
       "      <th>2</th>\n",
       "      <td>2020-12-08</td>\n",
       "      <td>A</td>\n",
       "      <td>321</td>\n",
       "    </tr>\n",
       "    <tr>\n",
       "      <th>3</th>\n",
       "      <td>2020-12-08</td>\n",
       "      <td>B</td>\n",
       "      <td>232</td>\n",
       "    </tr>\n",
       "    <tr>\n",
       "      <th>4</th>\n",
       "      <td>2020-12-09</td>\n",
       "      <td>A</td>\n",
       "      <td>342</td>\n",
       "    </tr>\n",
       "  </tbody>\n",
       "</table>\n",
       "</div>"
      ],
      "text/plain": [
       "           dt group  events_quantity\n",
       "0  2020-12-07     A              306\n",
       "1  2020-12-07     B              344\n",
       "2  2020-12-08     A              321\n",
       "3  2020-12-08     B              232\n",
       "4  2020-12-09     A              342"
      ]
     },
     "execution_count": 48,
     "metadata": {},
     "output_type": "execute_result"
    }
   ],
   "source": [
    "events_by_dt = (\n",
    "    filtered_df\n",
    "    .groupby(['dt', 'group'], as_index=False)\n",
    "    .agg({'event_name':'count'})\n",
    "    .rename(columns={'event_name':'events_quantity'})\n",
    ")\n",
    "events_by_dt.head()"
   ]
  },
  {
   "cell_type": "code",
   "execution_count": 49,
   "id": "3ecb7fcc",
   "metadata": {},
   "outputs": [
    {
     "data": {
      "image/png": "[encoded data removed]"
     },
     "metadata": {},
     "output_type": "display_data"
    }
   ],
   "source": [
    "fig = px.bar(events_by_dt, x='dt', y='events_quantity', color='group')\n",
    "fig.update_layout(title='Распределение количества событий по датам',\n",
    "                  xaxis_title='Дата',\n",
    "                  yaxis_title='Количество событий')\n",
    "\n",
    "fig.show()"
   ]
  },
  {
   "cell_type": "markdown",
   "id": "98594637",
   "metadata": {},
   "source": [
    "**Вывод по распределению событий по дням:** больше всего событий наблюдается в период с 14 декабря по 21 декабря, что скорее всего связано с сезоном подготовки к праздникам (покупки подарков). При этом в период промо акции(с 25 декабря) активность начала спадывать."
   ]
  },
  {
   "cell_type": "markdown",
   "id": "01343e0b",
   "metadata": {},
   "source": [
    "Как меняется конверсия в воронке в выборках на разных этапах?"
   ]
  },
  {
   "cell_type": "code",
   "execution_count": 50,
   "id": "0300d9a6",
   "metadata": {},
   "outputs": [
    {
     "data": {
      "text/html": [
       "<div>\n",
       "<style scoped>\n",
       "    .dataframe tbody tr th:only-of-type {\n",
       "        vertical-align: middle;\n",
       "    }\n",
       "\n",
       "    .dataframe tbody tr th {\n",
       "        vertical-align: top;\n",
       "    }\n",
       "\n",
       "    .dataframe thead th {\n",
       "        text-align: right;\n",
       "    }\n",
       "</style>\n",
       "<table border=\"1\" class=\"dataframe\">\n",
       "  <thead>\n",
       "    <tr style=\"text-align: right;\">\n",
       "      <th></th>\n",
       "      <th>event_name</th>\n",
       "      <th>group</th>\n",
       "      <th>quantity_of_users</th>\n",
       "    </tr>\n",
       "  </thead>\n",
       "  <tbody>\n",
       "    <tr>\n",
       "      <th>0</th>\n",
       "      <td>login</td>\n",
       "      <td>A</td>\n",
       "      <td>2493</td>\n",
       "    </tr>\n",
       "    <tr>\n",
       "      <th>4</th>\n",
       "      <td>product_page</td>\n",
       "      <td>A</td>\n",
       "      <td>1606</td>\n",
       "    </tr>\n",
       "    <tr>\n",
       "      <th>1</th>\n",
       "      <td>login</td>\n",
       "      <td>B</td>\n",
       "      <td>850</td>\n",
       "    </tr>\n",
       "    <tr>\n",
       "      <th>6</th>\n",
       "      <td>purchase</td>\n",
       "      <td>A</td>\n",
       "      <td>799</td>\n",
       "    </tr>\n",
       "    <tr>\n",
       "      <th>2</th>\n",
       "      <td>product_cart</td>\n",
       "      <td>A</td>\n",
       "      <td>756</td>\n",
       "    </tr>\n",
       "    <tr>\n",
       "      <th>5</th>\n",
       "      <td>product_page</td>\n",
       "      <td>B</td>\n",
       "      <td>477</td>\n",
       "    </tr>\n",
       "    <tr>\n",
       "      <th>3</th>\n",
       "      <td>product_cart</td>\n",
       "      <td>B</td>\n",
       "      <td>238</td>\n",
       "    </tr>\n",
       "    <tr>\n",
       "      <th>7</th>\n",
       "      <td>purchase</td>\n",
       "      <td>B</td>\n",
       "      <td>237</td>\n",
       "    </tr>\n",
       "  </tbody>\n",
       "</table>\n",
       "</div>"
      ],
      "text/plain": [
       "     event_name group  quantity_of_users\n",
       "0         login     A               2493\n",
       "4  product_page     A               1606\n",
       "1         login     B                850\n",
       "6      purchase     A                799\n",
       "2  product_cart     A                756\n",
       "5  product_page     B                477\n",
       "3  product_cart     B                238\n",
       "7      purchase     B                237"
      ]
     },
     "execution_count": 50,
     "metadata": {},
     "output_type": "execute_result"
    }
   ],
   "source": [
    "# сформируем датафрейм по воронке\n",
    "funnel_events = \\\n",
    "(\n",
    "    filtered_df\n",
    "    .groupby(['event_name', 'group'], as_index=False)\n",
    "    .agg({'user_id':'nunique'})\n",
    "    .rename(columns={'user_id':'quantity_of_users'})\n",
    "    .sort_values(by='quantity_of_users', ascending=False)\n",
    ")\n",
    "funnel_events"
   ]
  },
  {
   "cell_type": "code",
   "execution_count": 52,
   "id": "0915f3d1",
   "metadata": {},
   "outputs": [
    {
     "data": {
      "image/png": "[encoded data removed]"
     },
     "metadata": {},
     "output_type": "display_data"
    }
   ],
   "source": [
    "fig = go.Figure()\n",
    "\n",
    "fig.add_trace(go.Funnel(\n",
    "    name = 'A',\n",
    "    x=funnel_events.query('group==\"A\"')['quantity_of_users'].reindex([0,4,2,6]),\n",
    "    y=funnel_events.query('group==\"A\"')['event_name'],\n",
    "    textposition = \"inside\",\n",
    "    textinfo = \"value+percent initial\"))\n",
    "\n",
    "fig.add_trace(go.Funnel(\n",
    "    name = 'B',\n",
    "    x=funnel_events.query('group==\"B\"')['quantity_of_users'].reindex([1,5,3,7]),\n",
    "    y=funnel_events.query('group==\"B\"')['event_name'],\n",
    "    textposition = \"inside\",\n",
    "    textinfo = \"value+percent initial\"))\n",
    "\n",
    "fig.show()"
   ]
  },
  {
   "cell_type": "markdown",
   "id": "2523135b",
   "metadata": {},
   "source": [
    "**Вывод по воронке:** для начала стоит учитывать тот факт, что пользователям не обязательно выполнять все шаги воронки, т.е. пользователь может сразу зайти на страницу продукта, либо его купить и т.д.. Если сравнивать относительные значения по выборкам, то можно заметить, что в группе А бóльший процент пользователей доходит до покупки (32% против 28% у группы B, от пользователей в группе). Отдельно стоит рассмотреть, что после авторизации на этапе просмотра страницы товара в группе B не доходит 43.9% пользователей, а в группе A всего 35.6% пользователей."
   ]
  },
  {
   "cell_type": "markdown",
   "id": "b91db8d5",
   "metadata": {},
   "source": [
    "Какие особенности данных нужно учесть, прежде чем приступать к A/B тестированию?"
   ]
  },
  {
   "cell_type": "markdown",
   "id": "525fefc7",
   "metadata": {},
   "source": [
    "При тестировании важно учитывать, что выборка B получилась значительно меньше чем выборка A, помимо этого, выборку B в большей части составляют пользователи которые ни разу не совершали событие.\n",
    "\n",
    "Стоит также учитывать что при проведении теста были допущены серьёзные нарушения, которые могут сильно исказить результат."
   ]
  },
  {
   "cell_type": "markdown",
   "id": "a9f3c507",
   "metadata": {},
   "source": [
    "## Оценка результатов A/B тестирования"
   ]
  },
  {
   "cell_type": "markdown",
   "id": "e0e1e1c1",
   "metadata": {},
   "source": [
    "Перед началом проверки гипотез очистим данные от аномалий, будем исключать пользователей с аномально большим числом событий. Границу выбросов определим с помощью перцентилей."
   ]
  },
  {
   "cell_type": "code",
   "execution_count": 53,
   "id": "72e865fa",
   "metadata": {},
   "outputs": [
    {
     "name": "stdout",
     "output_type": "stream",
     "text": [
      "[12. 15. 16.]\n"
     ]
    }
   ],
   "source": [
    "num_events = filtered_df.groupby('user_id', as_index=False).agg(events=('event_name', 'count'))\n",
    "print(np.percentile((num_events['events']), [95, 98, 99])) "
   ]
  },
  {
   "cell_type": "markdown",
   "id": "9996f35a",
   "metadata": {},
   "source": [
    "Исключим пользователей с числом событий более 12."
   ]
  },
  {
   "cell_type": "code",
   "execution_count": 54,
   "id": "37d7b405",
   "metadata": {},
   "outputs": [],
   "source": [
    "abnormal_users = num_events.query('events > 12')"
   ]
  },
  {
   "cell_type": "code",
   "execution_count": 55,
   "id": "c2eba8bb",
   "metadata": {},
   "outputs": [
    {
     "name": "stdout",
     "output_type": "stream",
     "text": [
      "Число аномальных пользователей: 178\n",
      "Число всех пользователей: 6077\n",
      "Число пользователей после удаления выбросов: 5899\n"
     ]
    }
   ],
   "source": [
    "print('Число аномальных пользователей:', abnormal_users['user_id'].nunique())\n",
    "print('Число всех пользователей:', num_events['user_id'].nunique())\n",
    "filtered_df = filtered_df.loc[~filtered_df['user_id'].isin(abnormal_users['user_id'])]\n",
    "print('Число пользователей после удаления выбросов:', filtered_df['user_id'].nunique())"
   ]
  },
  {
   "cell_type": "markdown",
   "id": "e6357085",
   "metadata": {},
   "source": [
    "Перейдем к проверке гипотез."
   ]
  },
  {
   "cell_type": "markdown",
   "id": "0609e99f",
   "metadata": {},
   "source": [
    "Выборки сформируем как отношение оставшихся уникальных пользователей на текущем событии к общему числу  уникальных пользователей в группе."
   ]
  },
  {
   "cell_type": "markdown",
   "id": "318a1486",
   "metadata": {},
   "source": [
    "Для начала A/B тестирования сформируем гипотезы - нулевую и альтернативную:\n",
    "```\n",
    "H_0: Конверсия конкретного события группы A = конверсия конкретного события группы B\n",
    "H_a: Конверсия конкретного события группы A ≠ конверсия конкретного события группы B\n",
    "\n",
    "alpha = 0.05 / n\n",
    "```\n",
    "\n",
    "За статистический критерий будем принимать z-тест(пропорций). Это обусловлено тем, что данный метод позволяет проверить равенство, либо неравенство двух долей (в данном случае конверсии конкретного события) из выборок."
   ]
  },
  {
   "cell_type": "markdown",
   "id": "ee800950",
   "metadata": {},
   "source": [
    "Также воспользуемся поправкой Бонферрони (поскольку мы проводим три теста), чтобы мы контролировали вероятность совершения ошибки I рода."
   ]
  },
  {
   "cell_type": "markdown",
   "id": "eb975746",
   "metadata": {},
   "source": [
    "Начальным шагом воронки будем считать событие `login`. Конверсию будем считать от начального шага."
   ]
  },
  {
   "cell_type": "markdown",
   "id": "b8741261",
   "metadata": {},
   "source": [
    "Определим несколько функций, для удобства рассчётов:\n",
    "- нахождения числа уникальных пользователей по событиям в группе;\n",
    "- проверка гипотез о равенстве долей конверсии z-тестом ипользуя функции;\n",
    "- проверка гипотез о равенстве долей конверсии z-тестом ипользуя встроенную библиотеку."
   ]
  },
  {
   "cell_type": "code",
   "execution_count": 56,
   "id": "e6a410fb",
   "metadata": {},
   "outputs": [],
   "source": [
    "# определим функцию которая находит\n",
    "# число уникальных пользователей\n",
    "# по событиям\n",
    "\n",
    "def count_users_by_events(df, group):\n",
    "    \n",
    "    sample = (\n",
    "    df\n",
    "    .query('group == @group')\n",
    "    .groupby('event_name')\n",
    "    .agg({'user_id':'nunique'})\n",
    "    .rename(columns={'user_id':'quantity_of_users'})\n",
    "    .sort_values(by='quantity_of_users', ascending=False)\n",
    "    )\n",
    "    return sample"
   ]
  },
  {
   "cell_type": "code",
   "execution_count": 57,
   "id": "688ec794",
   "metadata": {},
   "outputs": [],
   "source": [
    "# определяем функцию для проверки\n",
    "# гипотез о равенстве долей\n",
    "# или же z-тест пропорций\n",
    "\n",
    "def check_hypothesis(group_1, group_2, event_name, df):\n",
    "    \n",
    "    # критический уровень статистической значимости\n",
    "    alpha = .05 / df.query('event_name != \"login\"')['event_name'].nunique()\n",
    "    \n",
    "    sample_a = count_users_by_events(df, group_1)\n",
    "    \n",
    "    sample_b = count_users_by_events(df, group_2)\n",
    "    \n",
    "    successes = np.array(\n",
    "        [sample_a.loc[event_name, 'quantity_of_users'], \n",
    "         sample_b.loc[event_name, 'quantity_of_users']]\n",
    "    )\n",
    "    trials = np.array(\n",
    "        [df.query('group == @group_1 and event_name==\"login\"')['user_id'].nunique(),\n",
    "        df.query('group == @group_2 and event_name==\"login\"')['user_id'].nunique()]\n",
    "    )\n",
    "\n",
    "    # пропорция успехов в первой группе:\n",
    "    p1 = successes[0]/trials[0]\n",
    "    # пропорция успехов во второй группе:\n",
    "    p2 = successes[1]/trials[1]\n",
    "\n",
    "    # пропорция успехов в комбинированном датасете:\n",
    "    p_combined = (successes[0] + successes[1]) / (trials[0] + trials[1])\n",
    "\n",
    "    # разница пропорций в датасетах\n",
    "    difference = p1 - p2 \n",
    "    \n",
    "    # считаем статистику в ст.отклонениях стандартного нормального распределения\n",
    "    z_value = difference / mth.sqrt(p_combined * (1 - p_combined) * (1/trials[0] + 1/trials[1]))\n",
    "\n",
    "    # задаем стандартное нормальное распределение (среднее 0, ст.отклонение 1)\n",
    "    distr = st.norm(0, 1)  \n",
    "\n",
    "    p_value = (1 - distr.cdf(abs(z_value))) * 2\n",
    "\n",
    "    print('p-значение: {0:.4f}'.format(p_value))\n",
    "\n",
    "    if p_value < alpha:\n",
    "        print(f'Отвергаем нулевую гипотезу:\\nесть значимая разница долей между группами {group_1} и {group_2}\\nпо {event_name}')\n",
    "    else:\n",
    "        print(\n",
    "            f'Не получилось отвергнуть нулевую гипотезу,\\nвывод о различии долей между группами {group_1} и {group_2}\\nпо {event_name} сделать нельзя')"
   ]
  },
  {
   "cell_type": "code",
   "execution_count": 58,
   "id": "1b60edf2",
   "metadata": {},
   "outputs": [],
   "source": [
    "# определяем функцию для проверки\n",
    "# гипотез о равенстве долей\n",
    "# или же z-тест пропорций\n",
    "# используя встроенную библиотеку\n",
    "\n",
    "def check_hypothesis_stat(group_1, group_2, event_name, df):\n",
    "    \n",
    "    # критический уровень статистической значимости\n",
    "    alpha = .05 / df.query('event_name != \"login\"')['event_name'].nunique()\n",
    "    \n",
    "    sample_a = count_users_by_events(df, group_1)\n",
    "    \n",
    "    sample_b = count_users_by_events(df, group_2)\n",
    "    \n",
    "    successes = np.array(\n",
    "        [sample_a.loc[event_name, 'quantity_of_users'], \n",
    "         sample_b.loc[event_name, 'quantity_of_users']]\n",
    "    )\n",
    "    trials = np.array(\n",
    "        [df.query('group == @group_1 and event_name==\"login\"')['user_id'].nunique(),\n",
    "        df.query('group == @group_2 and event_name==\"login\"')['user_id'].nunique()]\n",
    "    )\n",
    "    \n",
    "    stat, p_value = proportions_ztest(successes, trials)\n",
    "\n",
    "    print('p-значение: {0:.4f}'.format(p_value))\n",
    "    \n",
    "    if p_value < alpha:\n",
    "        print(f'Отвергаем нулевую гипотезу:\\nесть значимая разница долей между группами {group_1} и {group_2}\\nпо {event_name}')\n",
    "    else:\n",
    "        print(\n",
    "            f'Не получилось отвергнуть нулевую гипотезу,\\nвывод о различии долей между группами {group_1} и {group_2}\\nпо {event_name} сделать нельзя')"
   ]
  },
  {
   "cell_type": "code",
   "execution_count": 59,
   "id": "334b2775",
   "metadata": {},
   "outputs": [
    {
     "name": "stdout",
     "output_type": "stream",
     "text": [
      "p-значение: 0.0002\n",
      "Отвергаем нулевую гипотезу:\n",
      "есть значимая разница долей между группами A и B\n",
      "по product_page\n",
      "\n",
      "p-значение: 0.7433\n",
      "Не получилось отвергнуть нулевую гипотезу,\n",
      "вывод о различии долей между группами A и B\n",
      "по product_cart сделать нельзя\n",
      "\n",
      "p-значение: 0.1319\n",
      "Не получилось отвергнуть нулевую гипотезу,\n",
      "вывод о различии долей между группами A и B\n",
      "по purchase сделать нельзя\n",
      "\n"
     ]
    }
   ],
   "source": [
    "# отдельно зададим события\n",
    "\n",
    "events = ['product_page', 'product_cart', 'purchase']\n",
    "\n",
    "# проверим выборки A и B через собственную функцию\n",
    "\n",
    "for event in events:\n",
    "    check_hypothesis('A', 'B', event, filtered_df)\n",
    "    print()"
   ]
  },
  {
   "cell_type": "code",
   "execution_count": 60,
   "id": "86825e96",
   "metadata": {},
   "outputs": [
    {
     "name": "stdout",
     "output_type": "stream",
     "text": [
      "p-значение: 0.0002\n",
      "Отвергаем нулевую гипотезу:\n",
      "есть значимая разница долей между группами A и B\n",
      "по product_page\n",
      "\n",
      "p-значение: 0.7433\n",
      "Не получилось отвергнуть нулевую гипотезу,\n",
      "вывод о различии долей между группами A и B\n",
      "по product_cart сделать нельзя\n",
      "\n",
      "p-значение: 0.1319\n",
      "Не получилось отвергнуть нулевую гипотезу,\n",
      "вывод о различии долей между группами A и B\n",
      "по purchase сделать нельзя\n",
      "\n"
     ]
    }
   ],
   "source": [
    "# проверим выборки A и B через встроенную библиотеку\n",
    "\n",
    "for event in events:\n",
    "    check_hypothesis_stat('A', 'B', event, filtered_df)\n",
    "    print()"
   ]
  },
  {
   "cell_type": "markdown",
   "id": "9598dcf6",
   "metadata": {},
   "source": [
    "**Выводы по тестированию:**\n",
    "- есть статистически значимая разница конверсий между группами A и B по событию `product_page`;\n",
    "- не достаточно оснований считать статистички значимой разницу конверсий между группами A и B по событию `product_cart`;\n",
    "- не достаточно оснований считать статистички значимой разницу конверсий между группами A и B по событию `purchase`."
   ]
  },
  {
   "cell_type": "markdown",
   "id": "280538b0",
   "metadata": {},
   "source": [
    "## Общие выводы"
   ]
  },
  {
   "cell_type": "markdown",
   "id": "0b66d518",
   "metadata": {},
   "source": [
    "Как оказалось, тест проведён с нарушениями:\n",
    "- В период исследования, а именно с 2020-12-25 по 2021-01-03 в регионе Европа проходила промо акция Christmas&New Year Promo. Также само исследование совпало с проведением праздников Рождества и Нового года.\n",
    "- Дата последнего события 2020-12-30 23:36:33, при этом дата окончания теста указана 2021-01-04. Т.е. не хватает информации за последние 5 дней.\n",
    "- В группе A 28.2% пользователей не совершали событий, тогда как в группе B этот процент составляет 67.3%.\n",
    "- Количество участников теста сильно отличается:\n",
    "    - в группе A 3473 участника,\n",
    "    - в группе B 2604 участника.\n",
    "- Помимо Европы в тест попали участники из других регионов, но в малом количестве."
   ]
  },
  {
   "cell_type": "markdown",
   "id": "3fd20ad6",
   "metadata": {},
   "source": [
    "Для более наглядной частоты эксперимента потребуется провести его в те недели, которые не пересекаются с маркетинговыми событиями, также нужно доработать механизм формирования групп и провести его заново."
   ]
  },
  {
   "cell_type": "markdown",
   "id": "469ed3f3",
   "metadata": {},
   "source": [
    "Результаты проверки гипотезы о равенстве конверсий событий:\n",
    "\n",
    "- Конверсия по событию `просмотра страницы товара` между группами отличается. После авторизации на этапе просмотра страницы товара в группе B не доходит 43.9% пользователей, а в группе A всего 35.6% пользователей. Группа B показывает результат хуже.\n",
    "- Отсутствует существенная разница в конверсии между группами А и В при событиях `корзина товара` и `покупка`.\n",
    "\n",
    "Исходя из выше проведенного исследования можно сказать, что новая рекомендательная система не улучшила показатели по конверсии событий. Но стоит учитывать, что группы были сформированы с нарушениями."
   ]
  }
 ],
 "metadata": {
  "ExecuteTimeLog": [
   {
    "duration": 47,
    "start_time": "2023-07-06T05:38:30.548Z"
   },
   {
    "duration": 1215,
    "start_time": "2023-07-06T05:38:52.228Z"
   },
   {
    "duration": 9,
    "start_time": "2023-07-06T05:38:53.444Z"
   },
   {
    "duration": 77,
    "start_time": "2023-07-06T05:38:53.454Z"
   },
   {
    "duration": 96,
    "start_time": "2023-07-06T05:38:53.533Z"
   },
   {
    "duration": 0,
    "start_time": "2023-07-06T05:38:53.632Z"
   },
   {
    "duration": 0,
    "start_time": "2023-07-06T05:38:53.633Z"
   },
   {
    "duration": 0,
    "start_time": "2023-07-06T05:38:53.633Z"
   },
   {
    "duration": 0,
    "start_time": "2023-07-06T05:38:53.634Z"
   },
   {
    "duration": 0,
    "start_time": "2023-07-06T05:38:53.635Z"
   },
   {
    "duration": 0,
    "start_time": "2023-07-06T05:38:53.636Z"
   },
   {
    "duration": 0,
    "start_time": "2023-07-06T05:38:53.636Z"
   },
   {
    "duration": 0,
    "start_time": "2023-07-06T05:38:53.637Z"
   },
   {
    "duration": 0,
    "start_time": "2023-07-06T05:38:53.638Z"
   },
   {
    "duration": 0,
    "start_time": "2023-07-06T05:38:53.639Z"
   },
   {
    "duration": 0,
    "start_time": "2023-07-06T05:38:53.640Z"
   },
   {
    "duration": 0,
    "start_time": "2023-07-06T05:38:53.641Z"
   },
   {
    "duration": 0,
    "start_time": "2023-07-06T05:38:53.641Z"
   },
   {
    "duration": 0,
    "start_time": "2023-07-06T05:38:53.642Z"
   },
   {
    "duration": 0,
    "start_time": "2023-07-06T05:38:53.643Z"
   },
   {
    "duration": 0,
    "start_time": "2023-07-06T05:38:53.644Z"
   },
   {
    "duration": 0,
    "start_time": "2023-07-06T05:38:53.645Z"
   },
   {
    "duration": 0,
    "start_time": "2023-07-06T05:38:53.645Z"
   },
   {
    "duration": 0,
    "start_time": "2023-07-06T05:38:53.646Z"
   },
   {
    "duration": 0,
    "start_time": "2023-07-06T05:38:53.648Z"
   },
   {
    "duration": 1,
    "start_time": "2023-07-06T05:38:53.648Z"
   },
   {
    "duration": 0,
    "start_time": "2023-07-06T05:38:53.649Z"
   },
   {
    "duration": 0,
    "start_time": "2023-07-06T05:38:53.650Z"
   },
   {
    "duration": 0,
    "start_time": "2023-07-06T05:38:53.651Z"
   },
   {
    "duration": 0,
    "start_time": "2023-07-06T05:38:53.652Z"
   },
   {
    "duration": 0,
    "start_time": "2023-07-06T05:38:53.653Z"
   },
   {
    "duration": 0,
    "start_time": "2023-07-06T05:38:53.654Z"
   },
   {
    "duration": 0,
    "start_time": "2023-07-06T05:38:53.654Z"
   },
   {
    "duration": 0,
    "start_time": "2023-07-06T05:38:53.655Z"
   },
   {
    "duration": 0,
    "start_time": "2023-07-06T05:38:53.656Z"
   },
   {
    "duration": 0,
    "start_time": "2023-07-06T05:38:53.657Z"
   },
   {
    "duration": 0,
    "start_time": "2023-07-06T05:38:53.699Z"
   },
   {
    "duration": 0,
    "start_time": "2023-07-06T05:38:53.701Z"
   },
   {
    "duration": 0,
    "start_time": "2023-07-06T05:38:53.702Z"
   },
   {
    "duration": 0,
    "start_time": "2023-07-06T05:38:53.702Z"
   },
   {
    "duration": 0,
    "start_time": "2023-07-06T05:38:53.703Z"
   },
   {
    "duration": 0,
    "start_time": "2023-07-06T05:38:53.704Z"
   },
   {
    "duration": 0,
    "start_time": "2023-07-06T05:38:53.705Z"
   },
   {
    "duration": 0,
    "start_time": "2023-07-06T05:38:53.706Z"
   },
   {
    "duration": 0,
    "start_time": "2023-07-06T05:38:53.706Z"
   },
   {
    "duration": 0,
    "start_time": "2023-07-06T05:38:53.707Z"
   },
   {
    "duration": 0,
    "start_time": "2023-07-06T05:38:53.708Z"
   },
   {
    "duration": 0,
    "start_time": "2023-07-06T05:38:53.709Z"
   },
   {
    "duration": 0,
    "start_time": "2023-07-06T05:38:53.710Z"
   },
   {
    "duration": 0,
    "start_time": "2023-07-06T05:38:53.711Z"
   },
   {
    "duration": 0,
    "start_time": "2023-07-06T05:38:53.711Z"
   },
   {
    "duration": 0,
    "start_time": "2023-07-06T05:38:53.712Z"
   },
   {
    "duration": 0,
    "start_time": "2023-07-06T05:38:53.713Z"
   },
   {
    "duration": 0,
    "start_time": "2023-07-06T05:38:53.714Z"
   },
   {
    "duration": 0,
    "start_time": "2023-07-06T05:38:53.715Z"
   },
   {
    "duration": 0,
    "start_time": "2023-07-06T05:38:53.716Z"
   },
   {
    "duration": 0,
    "start_time": "2023-07-06T05:38:53.716Z"
   },
   {
    "duration": 0,
    "start_time": "2023-07-06T05:38:53.717Z"
   },
   {
    "duration": 530,
    "start_time": "2023-07-06T05:47:33.798Z"
   },
   {
    "duration": 1111,
    "start_time": "2023-07-06T05:47:40.025Z"
   },
   {
    "duration": 9,
    "start_time": "2023-07-06T05:47:41.137Z"
   },
   {
    "duration": 519,
    "start_time": "2023-07-06T05:47:41.147Z"
   },
   {
    "duration": 12,
    "start_time": "2023-07-06T05:47:41.668Z"
   },
   {
    "duration": 9,
    "start_time": "2023-07-06T05:47:41.681Z"
   },
   {
    "duration": 4,
    "start_time": "2023-07-06T05:47:41.691Z"
   },
   {
    "duration": 17,
    "start_time": "2023-07-06T05:47:41.697Z"
   },
   {
    "duration": 19,
    "start_time": "2023-07-06T05:47:41.715Z"
   },
   {
    "duration": 43,
    "start_time": "2023-07-06T05:47:41.735Z"
   },
   {
    "duration": 8,
    "start_time": "2023-07-06T05:47:41.780Z"
   },
   {
    "duration": 52,
    "start_time": "2023-07-06T05:47:41.789Z"
   },
   {
    "duration": 243,
    "start_time": "2023-07-06T05:47:41.842Z"
   },
   {
    "duration": 6,
    "start_time": "2023-07-06T05:47:42.086Z"
   },
   {
    "duration": 8,
    "start_time": "2023-07-06T05:47:42.099Z"
   },
   {
    "duration": 149,
    "start_time": "2023-07-06T05:47:42.109Z"
   },
   {
    "duration": 13,
    "start_time": "2023-07-06T05:47:42.259Z"
   },
   {
    "duration": 36,
    "start_time": "2023-07-06T05:47:42.273Z"
   },
   {
    "duration": 5,
    "start_time": "2023-07-06T05:47:42.311Z"
   },
   {
    "duration": 29,
    "start_time": "2023-07-06T05:47:42.317Z"
   },
   {
    "duration": 9,
    "start_time": "2023-07-06T05:47:42.347Z"
   },
   {
    "duration": 22,
    "start_time": "2023-07-06T05:47:42.358Z"
   },
   {
    "duration": 30,
    "start_time": "2023-07-06T05:47:42.381Z"
   },
   {
    "duration": 12,
    "start_time": "2023-07-06T05:47:42.412Z"
   },
   {
    "duration": 14,
    "start_time": "2023-07-06T05:47:42.426Z"
   },
   {
    "duration": 57,
    "start_time": "2023-07-06T05:47:42.442Z"
   },
   {
    "duration": 29,
    "start_time": "2023-07-06T05:47:42.501Z"
   },
   {
    "duration": 121,
    "start_time": "2023-07-06T05:47:42.531Z"
   },
   {
    "duration": 9,
    "start_time": "2023-07-06T05:47:42.655Z"
   },
   {
    "duration": 8,
    "start_time": "2023-07-06T05:47:42.665Z"
   },
   {
    "duration": 28,
    "start_time": "2023-07-06T05:47:42.674Z"
   },
   {
    "duration": 14,
    "start_time": "2023-07-06T05:47:42.704Z"
   },
   {
    "duration": 14,
    "start_time": "2023-07-06T05:47:42.720Z"
   },
   {
    "duration": 21,
    "start_time": "2023-07-06T05:47:42.736Z"
   },
   {
    "duration": 44,
    "start_time": "2023-07-06T05:47:42.758Z"
   },
   {
    "duration": 17,
    "start_time": "2023-07-06T05:47:42.804Z"
   },
   {
    "duration": 219,
    "start_time": "2023-07-06T05:47:42.822Z"
   },
   {
    "duration": 17,
    "start_time": "2023-07-06T05:47:43.042Z"
   },
   {
    "duration": 7,
    "start_time": "2023-07-06T05:47:43.060Z"
   },
   {
    "duration": 13,
    "start_time": "2023-07-06T05:47:43.069Z"
   },
   {
    "duration": 42,
    "start_time": "2023-07-06T05:47:43.083Z"
   },
   {
    "duration": 21,
    "start_time": "2023-07-06T05:47:43.126Z"
   },
   {
    "duration": 203,
    "start_time": "2023-07-06T05:47:43.148Z"
   },
   {
    "duration": 213,
    "start_time": "2023-07-06T05:47:43.353Z"
   },
   {
    "duration": 22,
    "start_time": "2023-07-06T05:47:43.567Z"
   },
   {
    "duration": 7,
    "start_time": "2023-07-06T05:47:43.600Z"
   },
   {
    "duration": 35,
    "start_time": "2023-07-06T05:47:43.608Z"
   },
   {
    "duration": 568,
    "start_time": "2023-07-06T05:47:43.645Z"
   },
   {
    "duration": 18,
    "start_time": "2023-07-06T05:47:44.215Z"
   },
   {
    "duration": 14,
    "start_time": "2023-07-06T05:47:44.234Z"
   },
   {
    "duration": 18,
    "start_time": "2023-07-06T05:47:44.300Z"
   },
   {
    "duration": 4,
    "start_time": "2023-07-06T05:47:44.319Z"
   },
   {
    "duration": 23,
    "start_time": "2023-07-06T05:47:44.325Z"
   },
   {
    "duration": 51,
    "start_time": "2023-07-06T05:47:44.350Z"
   },
   {
    "duration": 19,
    "start_time": "2023-07-06T05:47:44.403Z"
   },
   {
    "duration": 20,
    "start_time": "2023-07-06T05:47:44.424Z"
   },
   {
    "duration": 105,
    "start_time": "2023-07-06T05:47:44.445Z"
   },
   {
    "duration": 84,
    "start_time": "2023-07-06T05:47:44.552Z"
   },
   {
    "duration": 17,
    "start_time": "2023-07-06T05:48:41.127Z"
   },
   {
    "duration": 17,
    "start_time": "2023-07-06T05:48:41.933Z"
   },
   {
    "duration": 4,
    "start_time": "2023-07-06T14:34:59.427Z"
   },
   {
    "duration": 4,
    "start_time": "2023-07-06T14:35:14.572Z"
   },
   {
    "duration": 58,
    "start_time": "2023-07-06T15:15:30.307Z"
   },
   {
    "duration": 1565,
    "start_time": "2023-07-06T15:15:34.936Z"
   },
   {
    "duration": 20,
    "start_time": "2023-07-06T15:15:36.503Z"
   },
   {
    "duration": 1139,
    "start_time": "2023-07-06T15:15:36.525Z"
   },
   {
    "duration": 14,
    "start_time": "2023-07-06T15:15:37.667Z"
   },
   {
    "duration": 11,
    "start_time": "2023-07-06T15:15:37.682Z"
   },
   {
    "duration": 35,
    "start_time": "2023-07-06T15:15:37.694Z"
   },
   {
    "duration": 23,
    "start_time": "2023-07-06T15:15:37.730Z"
   },
   {
    "duration": 21,
    "start_time": "2023-07-06T15:15:37.755Z"
   },
   {
    "duration": 58,
    "start_time": "2023-07-06T15:15:37.778Z"
   },
   {
    "duration": 10,
    "start_time": "2023-07-06T15:15:37.838Z"
   },
   {
    "duration": 90,
    "start_time": "2023-07-06T15:15:37.850Z"
   },
   {
    "duration": 365,
    "start_time": "2023-07-06T15:15:37.942Z"
   },
   {
    "duration": 8,
    "start_time": "2023-07-06T15:15:38.308Z"
   },
   {
    "duration": 52,
    "start_time": "2023-07-06T15:15:38.318Z"
   },
   {
    "duration": 229,
    "start_time": "2023-07-06T15:15:38.372Z"
   },
   {
    "duration": 21,
    "start_time": "2023-07-06T15:15:38.603Z"
   },
   {
    "duration": 45,
    "start_time": "2023-07-06T15:15:38.626Z"
   },
   {
    "duration": 7,
    "start_time": "2023-07-06T15:15:38.673Z"
   },
   {
    "duration": 57,
    "start_time": "2023-07-06T15:15:38.682Z"
   },
   {
    "duration": 11,
    "start_time": "2023-07-06T15:15:38.741Z"
   },
   {
    "duration": 15,
    "start_time": "2023-07-06T15:15:38.754Z"
   },
   {
    "duration": 14,
    "start_time": "2023-07-06T15:15:38.771Z"
   },
   {
    "duration": 82,
    "start_time": "2023-07-06T15:15:38.787Z"
   },
   {
    "duration": 26,
    "start_time": "2023-07-06T15:21:07.612Z"
   },
   {
    "duration": 9,
    "start_time": "2023-07-06T15:21:22.084Z"
   },
   {
    "duration": 49,
    "start_time": "2023-07-06T15:22:41.602Z"
   },
   {
    "duration": 27,
    "start_time": "2023-07-06T15:22:48.402Z"
   },
   {
    "duration": 9,
    "start_time": "2023-07-06T15:22:55.019Z"
   },
   {
    "duration": 28,
    "start_time": "2023-07-06T15:23:59.984Z"
   },
   {
    "duration": 280,
    "start_time": "2023-07-06T15:24:04.234Z"
   },
   {
    "duration": 30,
    "start_time": "2023-07-06T15:24:07.793Z"
   },
   {
    "duration": 23,
    "start_time": "2023-07-06T15:25:08.264Z"
   },
   {
    "duration": 25,
    "start_time": "2023-07-06T15:25:17.121Z"
   },
   {
    "duration": 39,
    "start_time": "2023-07-06T15:27:20.526Z"
   },
   {
    "duration": 26,
    "start_time": "2023-07-06T15:29:22.757Z"
   },
   {
    "duration": 25,
    "start_time": "2023-07-06T15:29:26.269Z"
   },
   {
    "duration": 102,
    "start_time": "2023-07-06T15:30:15.956Z"
   },
   {
    "duration": 32,
    "start_time": "2023-07-06T15:30:20.897Z"
   },
   {
    "duration": 25,
    "start_time": "2023-07-06T15:30:29.643Z"
   },
   {
    "duration": 16,
    "start_time": "2023-07-06T15:33:23.133Z"
   },
   {
    "duration": 15,
    "start_time": "2023-07-06T15:43:05.752Z"
   },
   {
    "duration": 30,
    "start_time": "2023-07-06T15:43:35.144Z"
   },
   {
    "duration": 39,
    "start_time": "2023-07-06T15:44:30.695Z"
   },
   {
    "duration": 26,
    "start_time": "2023-07-06T15:44:33.722Z"
   },
   {
    "duration": 325,
    "start_time": "2023-07-06T15:44:36.099Z"
   },
   {
    "duration": 28,
    "start_time": "2023-07-06T15:44:42.891Z"
   },
   {
    "duration": 31,
    "start_time": "2023-07-06T15:45:02.361Z"
   },
   {
    "duration": 10,
    "start_time": "2023-07-06T15:45:04.862Z"
   },
   {
    "duration": 19,
    "start_time": "2023-07-06T15:45:07.791Z"
   },
   {
    "duration": 211,
    "start_time": "2023-07-06T15:45:10.995Z"
   },
   {
    "duration": 34,
    "start_time": "2023-07-06T15:45:13.119Z"
   },
   {
    "duration": 23,
    "start_time": "2023-07-06T15:48:10.468Z"
   },
   {
    "duration": 222,
    "start_time": "2023-07-06T15:48:16.207Z"
   },
   {
    "duration": 11,
    "start_time": "2023-07-06T15:48:42.132Z"
   },
   {
    "duration": 6,
    "start_time": "2023-07-06T15:48:46.027Z"
   },
   {
    "duration": 35,
    "start_time": "2023-07-06T15:48:46.035Z"
   },
   {
    "duration": 920,
    "start_time": "2023-07-06T15:48:46.072Z"
   },
   {
    "duration": 11,
    "start_time": "2023-07-06T15:48:46.995Z"
   },
   {
    "duration": 14,
    "start_time": "2023-07-06T15:48:47.008Z"
   },
   {
    "duration": 15,
    "start_time": "2023-07-06T15:48:47.024Z"
   },
   {
    "duration": 14,
    "start_time": "2023-07-06T15:48:47.041Z"
   },
   {
    "duration": 23,
    "start_time": "2023-07-06T15:48:47.057Z"
   },
   {
    "duration": 57,
    "start_time": "2023-07-06T15:48:47.084Z"
   },
   {
    "duration": 13,
    "start_time": "2023-07-06T15:48:47.143Z"
   },
   {
    "duration": 89,
    "start_time": "2023-07-06T15:48:47.158Z"
   },
   {
    "duration": 303,
    "start_time": "2023-07-06T15:48:47.250Z"
   },
   {
    "duration": 9,
    "start_time": "2023-07-06T15:48:47.555Z"
   },
   {
    "duration": 31,
    "start_time": "2023-07-06T15:48:47.566Z"
   },
   {
    "duration": 236,
    "start_time": "2023-07-06T15:48:47.602Z"
   },
   {
    "duration": 19,
    "start_time": "2023-07-06T15:48:47.840Z"
   },
   {
    "duration": 58,
    "start_time": "2023-07-06T15:48:47.861Z"
   },
   {
    "duration": 9,
    "start_time": "2023-07-06T15:48:47.921Z"
   },
   {
    "duration": 36,
    "start_time": "2023-07-06T15:48:47.932Z"
   },
   {
    "duration": 37,
    "start_time": "2023-07-06T15:48:47.970Z"
   },
   {
    "duration": 15,
    "start_time": "2023-07-06T15:48:48.009Z"
   },
   {
    "duration": 23,
    "start_time": "2023-07-06T15:48:48.027Z"
   },
   {
    "duration": 83,
    "start_time": "2023-07-06T15:48:48.052Z"
   },
   {
    "duration": 47,
    "start_time": "2023-07-06T15:48:48.138Z"
   },
   {
    "duration": 201,
    "start_time": "2023-07-06T15:48:48.201Z"
   },
   {
    "duration": 14,
    "start_time": "2023-07-06T15:48:48.403Z"
   },
   {
    "duration": 13,
    "start_time": "2023-07-06T15:48:48.419Z"
   },
   {
    "duration": 27,
    "start_time": "2023-07-06T15:48:48.434Z"
   },
   {
    "duration": 41,
    "start_time": "2023-07-06T15:48:48.463Z"
   },
   {
    "duration": 19,
    "start_time": "2023-07-06T15:48:48.507Z"
   },
   {
    "duration": 27,
    "start_time": "2023-07-06T15:48:48.528Z"
   },
   {
    "duration": 49,
    "start_time": "2023-07-06T15:48:48.557Z"
   },
   {
    "duration": 24,
    "start_time": "2023-07-06T15:48:48.608Z"
   },
   {
    "duration": 8,
    "start_time": "2023-07-06T15:48:48.634Z"
   },
   {
    "duration": 63,
    "start_time": "2023-07-06T15:48:48.643Z"
   },
   {
    "duration": 9,
    "start_time": "2023-07-06T15:48:48.708Z"
   },
   {
    "duration": 21,
    "start_time": "2023-07-06T15:48:48.719Z"
   },
   {
    "duration": 253,
    "start_time": "2023-07-06T15:48:48.742Z"
   },
   {
    "duration": 24,
    "start_time": "2023-07-06T15:48:48.997Z"
   },
   {
    "duration": 9,
    "start_time": "2023-07-06T15:48:49.023Z"
   },
   {
    "duration": 69,
    "start_time": "2023-07-06T15:49:53.721Z"
   },
   {
    "duration": 4,
    "start_time": "2023-07-06T15:49:56.704Z"
   },
   {
    "duration": 17,
    "start_time": "2023-07-06T15:49:56.711Z"
   },
   {
    "duration": 878,
    "start_time": "2023-07-06T15:49:56.730Z"
   },
   {
    "duration": 10,
    "start_time": "2023-07-06T15:49:57.610Z"
   },
   {
    "duration": 22,
    "start_time": "2023-07-06T15:49:57.622Z"
   },
   {
    "duration": 8,
    "start_time": "2023-07-06T15:49:57.646Z"
   },
   {
    "duration": 22,
    "start_time": "2023-07-06T15:49:57.656Z"
   },
   {
    "duration": 25,
    "start_time": "2023-07-06T15:49:57.680Z"
   },
   {
    "duration": 43,
    "start_time": "2023-07-06T15:49:57.710Z"
   },
   {
    "duration": 11,
    "start_time": "2023-07-06T15:49:57.755Z"
   },
   {
    "duration": 87,
    "start_time": "2023-07-06T15:49:57.768Z"
   },
   {
    "duration": 303,
    "start_time": "2023-07-06T15:49:57.856Z"
   },
   {
    "duration": 8,
    "start_time": "2023-07-06T15:49:58.161Z"
   },
   {
    "duration": 18,
    "start_time": "2023-07-06T15:49:58.171Z"
   },
   {
    "duration": 205,
    "start_time": "2023-07-06T15:49:58.202Z"
   },
   {
    "duration": 20,
    "start_time": "2023-07-06T15:49:58.409Z"
   },
   {
    "duration": 32,
    "start_time": "2023-07-06T15:49:58.431Z"
   },
   {
    "duration": 8,
    "start_time": "2023-07-06T15:49:58.465Z"
   },
   {
    "duration": 50,
    "start_time": "2023-07-06T15:49:58.474Z"
   },
   {
    "duration": 12,
    "start_time": "2023-07-06T15:49:58.525Z"
   },
   {
    "duration": 11,
    "start_time": "2023-07-06T15:49:58.539Z"
   },
   {
    "duration": 28,
    "start_time": "2023-07-06T15:49:58.553Z"
   },
   {
    "duration": 111,
    "start_time": "2023-07-06T15:49:58.583Z"
   },
   {
    "duration": 47,
    "start_time": "2023-07-06T15:49:58.698Z"
   },
   {
    "duration": 162,
    "start_time": "2023-07-06T15:49:58.747Z"
   },
   {
    "duration": 13,
    "start_time": "2023-07-06T15:49:58.911Z"
   },
   {
    "duration": 29,
    "start_time": "2023-07-06T15:49:58.926Z"
   },
   {
    "duration": 40,
    "start_time": "2023-07-06T15:49:58.957Z"
   },
   {
    "duration": 18,
    "start_time": "2023-07-06T15:49:58.999Z"
   },
   {
    "duration": 17,
    "start_time": "2023-07-06T15:49:59.019Z"
   },
   {
    "duration": 25,
    "start_time": "2023-07-06T15:49:59.038Z"
   },
   {
    "duration": 50,
    "start_time": "2023-07-06T15:49:59.065Z"
   },
   {
    "duration": 21,
    "start_time": "2023-07-06T15:49:59.117Z"
   },
   {
    "duration": 7,
    "start_time": "2023-07-06T15:49:59.140Z"
   },
   {
    "duration": 57,
    "start_time": "2023-07-06T15:49:59.149Z"
   },
   {
    "duration": 7,
    "start_time": "2023-07-06T15:49:59.208Z"
   },
   {
    "duration": 36,
    "start_time": "2023-07-06T15:49:59.217Z"
   },
   {
    "duration": 211,
    "start_time": "2023-07-06T15:49:59.255Z"
   },
   {
    "duration": 49,
    "start_time": "2023-07-06T15:49:59.468Z"
   },
   {
    "duration": 9,
    "start_time": "2023-07-06T15:49:59.519Z"
   },
   {
    "duration": 15,
    "start_time": "2023-07-06T15:49:59.530Z"
   },
   {
    "duration": 33,
    "start_time": "2023-07-06T15:49:59.547Z"
   },
   {
    "duration": 45,
    "start_time": "2023-07-06T15:49:59.582Z"
   },
   {
    "duration": 238,
    "start_time": "2023-07-06T15:49:59.629Z"
   },
   {
    "duration": 339,
    "start_time": "2023-07-06T15:49:59.869Z"
   },
   {
    "duration": 31,
    "start_time": "2023-07-06T15:50:00.209Z"
   },
   {
    "duration": 27,
    "start_time": "2023-07-06T15:50:00.242Z"
   },
   {
    "duration": 42,
    "start_time": "2023-07-06T15:50:00.271Z"
   },
   {
    "duration": 2312,
    "start_time": "2023-07-06T15:50:00.315Z"
   },
   {
    "duration": 23,
    "start_time": "2023-07-06T15:50:02.629Z"
   },
   {
    "duration": 68,
    "start_time": "2023-07-06T15:50:02.654Z"
   },
   {
    "duration": 2504,
    "start_time": "2023-07-06T15:59:45.825Z"
   },
   {
    "duration": 12,
    "start_time": "2023-07-06T15:59:48.332Z"
   },
   {
    "duration": 821,
    "start_time": "2023-07-06T15:59:48.347Z"
   },
   {
    "duration": 18,
    "start_time": "2023-07-06T15:59:49.170Z"
   },
   {
    "duration": 23,
    "start_time": "2023-07-06T15:59:49.190Z"
   },
   {
    "duration": 10,
    "start_time": "2023-07-06T15:59:49.214Z"
   },
   {
    "duration": 26,
    "start_time": "2023-07-06T15:59:49.226Z"
   },
   {
    "duration": 59,
    "start_time": "2023-07-06T15:59:49.254Z"
   },
   {
    "duration": 60,
    "start_time": "2023-07-06T15:59:49.316Z"
   },
   {
    "duration": 8,
    "start_time": "2023-07-06T15:59:49.379Z"
   },
   {
    "duration": 81,
    "start_time": "2023-07-06T15:59:49.389Z"
   },
   {
    "duration": 366,
    "start_time": "2023-07-06T15:59:49.472Z"
   },
   {
    "duration": 8,
    "start_time": "2023-07-06T15:59:49.839Z"
   },
   {
    "duration": 76,
    "start_time": "2023-07-06T15:59:49.849Z"
   },
   {
    "duration": 215,
    "start_time": "2023-07-06T15:59:49.927Z"
   },
   {
    "duration": 17,
    "start_time": "2023-07-06T15:59:50.144Z"
   },
   {
    "duration": 50,
    "start_time": "2023-07-06T15:59:50.162Z"
   },
   {
    "duration": 18,
    "start_time": "2023-07-06T15:59:50.213Z"
   },
   {
    "duration": 26,
    "start_time": "2023-07-06T15:59:50.233Z"
   },
   {
    "duration": 12,
    "start_time": "2023-07-06T15:59:50.261Z"
   },
   {
    "duration": 28,
    "start_time": "2023-07-06T15:59:50.276Z"
   },
   {
    "duration": 22,
    "start_time": "2023-07-06T15:59:50.306Z"
   },
   {
    "duration": 120,
    "start_time": "2023-07-06T15:59:50.330Z"
   },
   {
    "duration": 61,
    "start_time": "2023-07-06T15:59:50.452Z"
   },
   {
    "duration": 228,
    "start_time": "2023-07-06T15:59:50.517Z"
   },
   {
    "duration": 15,
    "start_time": "2023-07-06T15:59:50.748Z"
   },
   {
    "duration": 27,
    "start_time": "2023-07-06T15:59:50.765Z"
   },
   {
    "duration": 47,
    "start_time": "2023-07-06T15:59:50.802Z"
   },
   {
    "duration": 44,
    "start_time": "2023-07-06T15:59:50.850Z"
   },
   {
    "duration": 24,
    "start_time": "2023-07-06T15:59:50.896Z"
   },
   {
    "duration": 26,
    "start_time": "2023-07-06T15:59:50.922Z"
   },
   {
    "duration": 28,
    "start_time": "2023-07-06T15:59:50.950Z"
   },
   {
    "duration": 48,
    "start_time": "2023-07-06T15:59:50.981Z"
   },
   {
    "duration": 16,
    "start_time": "2023-07-06T15:59:51.031Z"
   },
   {
    "duration": 54,
    "start_time": "2023-07-06T15:59:51.049Z"
   },
   {
    "duration": 7,
    "start_time": "2023-07-06T15:59:51.105Z"
   },
   {
    "duration": 43,
    "start_time": "2023-07-06T15:59:51.113Z"
   },
   {
    "duration": 236,
    "start_time": "2023-07-06T15:59:51.159Z"
   },
   {
    "duration": 25,
    "start_time": "2023-07-06T15:59:51.396Z"
   },
   {
    "duration": 9,
    "start_time": "2023-07-06T15:59:51.423Z"
   },
   {
    "duration": 21,
    "start_time": "2023-07-06T15:59:51.434Z"
   },
   {
    "duration": 57,
    "start_time": "2023-07-06T15:59:51.457Z"
   },
   {
    "duration": 30,
    "start_time": "2023-07-06T15:59:51.516Z"
   },
   {
    "duration": 249,
    "start_time": "2023-07-06T15:59:51.548Z"
   },
   {
    "duration": 328,
    "start_time": "2023-07-06T15:59:51.802Z"
   },
   {
    "duration": 31,
    "start_time": "2023-07-06T15:59:52.131Z"
   },
   {
    "duration": 15,
    "start_time": "2023-07-06T15:59:52.164Z"
   },
   {
    "duration": 36,
    "start_time": "2023-07-06T15:59:52.181Z"
   },
   {
    "duration": 484,
    "start_time": "2023-07-06T15:59:52.219Z"
   },
   {
    "duration": 34,
    "start_time": "2023-07-06T15:59:52.705Z"
   },
   {
    "duration": 83,
    "start_time": "2023-07-06T15:59:52.741Z"
   },
   {
    "duration": 53,
    "start_time": "2023-07-06T15:59:52.826Z"
   },
   {
    "duration": 7,
    "start_time": "2023-07-06T15:59:52.881Z"
   },
   {
    "duration": 43,
    "start_time": "2023-07-06T15:59:52.890Z"
   },
   {
    "duration": 8,
    "start_time": "2023-07-06T15:59:52.935Z"
   },
   {
    "duration": 10,
    "start_time": "2023-07-06T15:59:52.945Z"
   },
   {
    "duration": 10,
    "start_time": "2023-07-06T15:59:52.956Z"
   },
   {
    "duration": 109,
    "start_time": "2023-07-06T15:59:52.968Z"
   },
   {
    "duration": 115,
    "start_time": "2023-07-06T15:59:53.080Z"
   },
   {
    "duration": 1847,
    "start_time": "2023-07-07T14:20:22.792Z"
   },
   {
    "duration": 14,
    "start_time": "2023-07-07T14:20:24.642Z"
   },
   {
    "duration": 1592,
    "start_time": "2023-07-07T14:20:24.658Z"
   },
   {
    "duration": 16,
    "start_time": "2023-07-07T14:20:26.253Z"
   },
   {
    "duration": 37,
    "start_time": "2023-07-07T14:20:26.272Z"
   },
   {
    "duration": 35,
    "start_time": "2023-07-07T14:20:26.321Z"
   },
   {
    "duration": 82,
    "start_time": "2023-07-07T14:20:26.358Z"
   },
   {
    "duration": 51,
    "start_time": "2023-07-07T14:20:26.443Z"
   },
   {
    "duration": 113,
    "start_time": "2023-07-07T14:20:26.496Z"
   },
   {
    "duration": 11,
    "start_time": "2023-07-07T14:20:26.611Z"
   },
   {
    "duration": 85,
    "start_time": "2023-07-07T14:20:26.624Z"
   },
   {
    "duration": 307,
    "start_time": "2023-07-07T14:20:26.719Z"
   },
   {
    "duration": 7,
    "start_time": "2023-07-07T14:20:27.027Z"
   },
   {
    "duration": 16,
    "start_time": "2023-07-07T14:20:27.038Z"
   },
   {
    "duration": 204,
    "start_time": "2023-07-07T14:20:27.056Z"
   },
   {
    "duration": 19,
    "start_time": "2023-07-07T14:20:27.264Z"
   },
   {
    "duration": 71,
    "start_time": "2023-07-07T14:20:27.285Z"
   },
   {
    "duration": 10,
    "start_time": "2023-07-07T14:20:27.358Z"
   },
   {
    "duration": 50,
    "start_time": "2023-07-07T14:20:27.369Z"
   },
   {
    "duration": 13,
    "start_time": "2023-07-07T14:20:27.420Z"
   },
   {
    "duration": 15,
    "start_time": "2023-07-07T14:20:27.435Z"
   },
   {
    "duration": 41,
    "start_time": "2023-07-07T14:20:27.452Z"
   },
   {
    "duration": 93,
    "start_time": "2023-07-07T14:20:27.496Z"
   },
   {
    "duration": 54,
    "start_time": "2023-07-07T14:20:27.591Z"
   },
   {
    "duration": 222,
    "start_time": "2023-07-07T14:20:27.647Z"
   },
   {
    "duration": 17,
    "start_time": "2023-07-07T14:20:27.871Z"
   },
   {
    "duration": 89,
    "start_time": "2023-07-07T14:20:27.891Z"
   },
   {
    "duration": 61,
    "start_time": "2023-07-07T14:20:27.983Z"
   },
   {
    "duration": 36,
    "start_time": "2023-07-07T14:20:28.046Z"
   },
   {
    "duration": 47,
    "start_time": "2023-07-07T14:20:28.083Z"
   },
   {
    "duration": 41,
    "start_time": "2023-07-07T14:20:28.133Z"
   },
   {
    "duration": 37,
    "start_time": "2023-07-07T14:20:28.176Z"
   },
   {
    "duration": 67,
    "start_time": "2023-07-07T14:20:28.215Z"
   },
   {
    "duration": 10,
    "start_time": "2023-07-07T14:20:28.284Z"
   },
   {
    "duration": 81,
    "start_time": "2023-07-07T14:20:28.296Z"
   },
   {
    "duration": 10,
    "start_time": "2023-07-07T14:20:28.379Z"
   },
   {
    "duration": 41,
    "start_time": "2023-07-07T14:20:28.391Z"
   },
   {
    "duration": 325,
    "start_time": "2023-07-07T14:20:28.434Z"
   },
   {
    "duration": 52,
    "start_time": "2023-07-07T14:20:28.761Z"
   },
   {
    "duration": 15,
    "start_time": "2023-07-07T14:20:28.815Z"
   },
   {
    "duration": 29,
    "start_time": "2023-07-07T14:20:28.836Z"
   },
   {
    "duration": 58,
    "start_time": "2023-07-07T14:20:28.867Z"
   },
   {
    "duration": 38,
    "start_time": "2023-07-07T14:20:28.927Z"
   },
   {
    "duration": 339,
    "start_time": "2023-07-07T14:20:28.968Z"
   },
   {
    "duration": 347,
    "start_time": "2023-07-07T14:20:29.308Z"
   },
   {
    "duration": 56,
    "start_time": "2023-07-07T14:20:29.657Z"
   },
   {
    "duration": 25,
    "start_time": "2023-07-07T14:20:29.716Z"
   },
   {
    "duration": 31,
    "start_time": "2023-07-07T14:20:29.744Z"
   },
   {
    "duration": 807,
    "start_time": "2023-07-07T14:20:29.777Z"
   },
   {
    "duration": 57,
    "start_time": "2023-07-07T14:20:30.586Z"
   },
   {
    "duration": 108,
    "start_time": "2023-07-07T14:20:30.645Z"
   },
   {
    "duration": 69,
    "start_time": "2023-07-07T14:20:30.755Z"
   },
   {
    "duration": 20,
    "start_time": "2023-07-07T14:20:30.831Z"
   },
   {
    "duration": 84,
    "start_time": "2023-07-07T14:20:30.853Z"
   },
   {
    "duration": 46,
    "start_time": "2023-07-07T14:20:30.939Z"
   },
   {
    "duration": 107,
    "start_time": "2023-07-07T14:20:30.988Z"
   },
   {
    "duration": 151,
    "start_time": "2023-07-07T14:20:31.097Z"
   },
   {
    "duration": 145,
    "start_time": "2023-07-07T14:20:31.251Z"
   },
   {
    "duration": 101,
    "start_time": "2023-07-07T14:20:31.405Z"
   },
   {
    "duration": 25,
    "start_time": "2023-07-07T14:23:26.560Z"
   },
   {
    "duration": 20,
    "start_time": "2023-07-07T14:24:13.848Z"
   },
   {
    "duration": 16,
    "start_time": "2023-07-07T14:25:41.361Z"
   }
  ],
  "kernelspec": {
   "display_name": "Python 3 (ipykernel)",
   "language": "python",
   "name": "python3"
  },
  "language_info": {
   "codemirror_mode": {
    "name": "ipython",
    "version": 3
   },
   "file_extension": ".py",
   "mimetype": "text/x-python",
   "name": "python",
   "nbconvert_exporter": "python",
   "pygments_lexer": "ipython3",
   "version": "3.9.13"
  },
  "toc": {
   "base_numbering": 1,
   "nav_menu": {},
   "number_sections": true,
   "sideBar": true,
   "skip_h1_title": true,
   "title_cell": "Table of Contents",
   "title_sidebar": "Contents",
   "toc_cell": true,
   "toc_position": {},
   "toc_section_display": true,
   "toc_window_display": false
  }
 },
 "nbformat": 4,
 "nbformat_minor": 5
}
