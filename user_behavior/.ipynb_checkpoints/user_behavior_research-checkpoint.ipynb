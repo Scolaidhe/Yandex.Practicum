{
 "cells": [
  {
   "cell_type": "markdown",
   "id": "b122ec5f",
   "metadata": {
    "toc": true
   },
   "source": [
    "<h1>Table of Contents<span class=\"tocSkip\"></span></h1>\n",
    "<div class=\"toc\"><ul class=\"toc-item\"><li><span><a href=\"#Анализ-поведения-пользователей-в-мобильном-приложении\" data-toc-modified-id=\"Анализ-поведения-пользователей-в-мобильном-приложении-1\">Анализ поведения пользователей в мобильном приложении</a></span><ul class=\"toc-item\"><li><span><a href=\"#Открываем-данные,-выводим-общую-информацию\" data-toc-modified-id=\"Открываем-данные,-выводим-общую-информацию-1.1\">Открываем данные, выводим общую информацию</a></span></li><li><span><a href=\"#Подготовка-данных\" data-toc-modified-id=\"Подготовка-данных-1.2\">Подготовка данных</a></span></li><li><span><a href=\"#Анализ-и-проверка-данных\" data-toc-modified-id=\"Анализ-и-проверка-данных-1.3\">Анализ и проверка данных</a></span></li><li><span><a href=\"#Анализ-воронки-событий\" data-toc-modified-id=\"Анализ-воронки-событий-1.4\">Анализ воронки событий</a></span></li><li><span><a href=\"#Анализируем-результаты-эксперимента\" data-toc-modified-id=\"Анализируем-результаты-эксперимента-1.5\">Анализируем результаты эксперимента</a></span></li><li><span><a href=\"#Итог-проведенных-экспериментов\" data-toc-modified-id=\"Итог-проведенных-экспериментов-1.6\">Итог проведенных экспериментов</a></span></li></ul></li></ul></div>"
   ]
  },
  {
   "cell_type": "markdown",
   "id": "3b28243f",
   "metadata": {},
   "source": [
    "# Анализ поведения пользователей в мобильном приложении"
   ]
  },
  {
   "cell_type": "markdown",
   "id": "68fa6e55",
   "metadata": {},
   "source": [
    "Мы работаем в стартапе, который продаёт продукты питания. Нужно разобраться, как ведут себя пользователи нашего мобильного приложения.\n",
    "\n",
    "Изучить воронку продаж. Узнать, как пользователи доходят до покупки. Сколько пользователей доходит до покупки, а сколько — «застревает» на предыдущих шагах? На каких именно?\n",
    "\n",
    "После этого исследовать результаты A/A/B-эксперимента. Дизайнеры захотели поменять шрифты во всём приложении, а менеджеры испугались, что пользователям будет непривычно. Договорились принять решение по результатам A/A/B-теста. Пользователей разбили на 3 группы: 2 контрольные со старыми шрифтами и одну экспериментальную — с новыми. Выяснить, какой шрифт лучше."
   ]
  },
  {
   "cell_type": "markdown",
   "id": "21dda5d0",
   "metadata": {},
   "source": [
    "_Описание данных._\n",
    "\n",
    "Структура `logs_exp.csv`. Каждая запись в логе — это действие пользователя, или событие.\n",
    "- `EventName` — название события;\n",
    "- `DeviceIDHash` — уникальный идентификатор пользователя;\n",
    "- `EventTimestamp` — время события;\n",
    "- `ExpId` — номер эксперимента: 246 и 247 — контрольные группы, а 248 — экспериментальная."
   ]
  },
  {
   "cell_type": "markdown",
   "id": "0ecdf415",
   "metadata": {},
   "source": [
    "*Цели и задачи:*\n",
    "1. Открыть файл с данными и изучить общую информацию.\n",
    "2. Подготовить данные.\n",
    "    - Заменить названия столбцов на более удобные;\n",
    "    - Проверить пропуски и типы данных. Откорректировать при необходимости;\n",
    "    - Добавить столбец даты и времени, а также отдельный столбец дат.\n",
    "3. Изучить и проверить данные.\n",
    "    - Сколько всего событий в логе?\n",
    "    - Сколько всего пользователей в логе?\n",
    "    - Сколько в среднем событий приходится на пользователя?\n",
    "    - Данными за какой период мы располагаем? Найти максимальную и минимальную дату. Построить гистограмму по дате и времени. Можно ли быть уверенным, что у нас одинаково полные данные за весь период? Технически в логи новых дней по некоторым пользователям могут «доезжать» события из прошлого — это может «перекашивать данные». Определить, с какого момента данные полные и отбросить более старые. Данными за какой период времени мы располагаем на самом деле?\n",
    "    - Много ли событий и пользователей мы потеряли, отбросив старые данные?\n",
    "    - Проверить, что у нас есть пользователи из всех трёх экспериментальных групп.\n",
    "4. Изучить воронку событий.\n",
    "    - Посмотреть, какие события есть в логах, как часто они встречаются. Отсортировать события по частоте.\n",
    "    - Посчитать, сколько пользователей совершали каждое из этих событий. Отсортировать события по числу пользователей. Посчитать долю пользователей, которые хоть раз совершали событие.\n",
    "    - Предположить, в каком порядке происходят события. Все ли они выстраиваются в последовательную цепочку? Их не нужно учитывать при расчёте воронки.\n",
    "    - По воронке событий посчитать, какая доля пользователей проходит на следующий шаг воронки (от числа пользователей на предыдущем). То есть для последовательности событий A → B → C посчитать отношение числа пользователей с событием B к количеству пользователей с событием A, а также отношение числа пользователей с событием C к количеству пользователей с событием B.\n",
    "    - На каком шаге теряем больше всего пользователей?\n",
    "    - Какая доля пользователей доходит от первого события до оплаты?\n",
    "5. Изучить результаты эксперимента.\n",
    "    - Сколько пользователей в каждой экспериментальной группе?\n",
    "    - Есть 2 контрольные группы для А/А-эксперимента, чтобы проверить корректность всех механизмов и расчётов. Проверить, находят ли статистические критерии разницу между выборками 246 и 247.\n",
    "    - Выберать самое популярное событие. Посчитать число пользователей, совершивших это событие в каждой из контрольных групп. Посчитать долю пользователей, совершивших это событие. Проверить, будет ли отличие между группами статистически достоверным. Проделать то же самое для всех других событий (удобно обернуть проверку в отдельную функцию). Можно ли сказать, что разбиение на группы работает корректно?\n",
    "    - Аналогично поступить с группой с изменённым шрифтом. Сравнить результаты с каждой из контрольных групп в отдельности по каждому событию. Сравнить результаты с объединённой контрольной группой. Какие выводы из эксперимента можно сделать?\n",
    "    - Какой уровень значимости мы выбрали при проверке статистических гипотез выше? Посчитать, сколько проверок статистических гипотез мы сделали. При уровне значимости 0.1 каждый десятый раз можно получать ложный результат. Какой уровень значимости стоит применить? Если мы хотим изменить его, проделать предыдущие пункты и проверить свои выводы."
   ]
  },
  {
   "cell_type": "markdown",
   "id": "da6ffcf1",
   "metadata": {},
   "source": [
    "## Открываем данные, выводим общую информацию"
   ]
  },
  {
   "cell_type": "code",
   "execution_count": 1,
   "id": "24932555",
   "metadata": {},
   "outputs": [],
   "source": [
    "# импортируем библиотеки\n",
    "import pandas as pd\n",
    "import datetime as dt\n",
    "import numpy as np\n",
    "import os\n",
    "import math as mth\n",
    "from plotly import graph_objects as go\n",
    "import matplotlib.pyplot as plt\n",
    "import scipy.stats as st\n",
    "from pandas.plotting import register_matplotlib_converters\n",
    "import warnings\n",
    "# конвертеры, которые позволяют использовать типы pandas в matplotlib  \n",
    "register_matplotlib_converters()"
   ]
  },
  {
   "cell_type": "code",
   "execution_count": 2,
   "id": "280aa3f4",
   "metadata": {},
   "outputs": [],
   "source": [
    "# добавим код для отображения plotly графиков в формате png\n",
    "import plotly.io as pio \n",
    "pio.renderers.default = \"png\" \n",
    "svg_renderer = pio.renderers[\"png\"] \n",
    "svg_renderer.scale = 1.2"
   ]
  },
  {
   "cell_type": "code",
   "execution_count": 3,
   "id": "2ec42358",
   "metadata": {},
   "outputs": [],
   "source": [
    "# улучшаем качество графиков (разрешение)\n",
    "%config InlineBackend.figure_format = 'retina'"
   ]
  },
  {
   "cell_type": "code",
   "execution_count": 4,
   "id": "54b3d899",
   "metadata": {},
   "outputs": [],
   "source": [
    "# считываем файл\n",
    "pth1 = 'C:/Users/sorial/Desktop/my_projects/startup_project/logs_exp.csv'\n",
    "pth2 = '/datasets/logs_exp.csv'\n",
    "\n",
    "if os.path.exists(pth1):\n",
    "    logs = pd.read_csv(pth1, sep='\\t')\n",
    "elif os.path.exists(pth2):\n",
    "    logs = pd.read_csv(pth2, sep='\\t')\n",
    "else:\n",
    "    print('Что-то пошло не так')"
   ]
  },
  {
   "cell_type": "markdown",
   "id": "0b04e773",
   "metadata": {},
   "source": [
    "## Подготовка данных"
   ]
  },
  {
   "cell_type": "code",
   "execution_count": 5,
   "id": "d563043a",
   "metadata": {},
   "outputs": [
    {
     "data": {
      "text/html": [
       "<div>\n",
       "<style scoped>\n",
       "    .dataframe tbody tr th:only-of-type {\n",
       "        vertical-align: middle;\n",
       "    }\n",
       "\n",
       "    .dataframe tbody tr th {\n",
       "        vertical-align: top;\n",
       "    }\n",
       "\n",
       "    .dataframe thead th {\n",
       "        text-align: right;\n",
       "    }\n",
       "</style>\n",
       "<table border=\"1\" class=\"dataframe\">\n",
       "  <thead>\n",
       "    <tr style=\"text-align: right;\">\n",
       "      <th></th>\n",
       "      <th>EventName</th>\n",
       "      <th>DeviceIDHash</th>\n",
       "      <th>EventTimestamp</th>\n",
       "      <th>ExpId</th>\n",
       "    </tr>\n",
       "  </thead>\n",
       "  <tbody>\n",
       "    <tr>\n",
       "      <th>0</th>\n",
       "      <td>MainScreenAppear</td>\n",
       "      <td>4575588528974610257</td>\n",
       "      <td>1564029816</td>\n",
       "      <td>246</td>\n",
       "    </tr>\n",
       "    <tr>\n",
       "      <th>1</th>\n",
       "      <td>MainScreenAppear</td>\n",
       "      <td>7416695313311560658</td>\n",
       "      <td>1564053102</td>\n",
       "      <td>246</td>\n",
       "    </tr>\n",
       "    <tr>\n",
       "      <th>2</th>\n",
       "      <td>PaymentScreenSuccessful</td>\n",
       "      <td>3518123091307005509</td>\n",
       "      <td>1564054127</td>\n",
       "      <td>248</td>\n",
       "    </tr>\n",
       "    <tr>\n",
       "      <th>3</th>\n",
       "      <td>CartScreenAppear</td>\n",
       "      <td>3518123091307005509</td>\n",
       "      <td>1564054127</td>\n",
       "      <td>248</td>\n",
       "    </tr>\n",
       "    <tr>\n",
       "      <th>4</th>\n",
       "      <td>PaymentScreenSuccessful</td>\n",
       "      <td>6217807653094995999</td>\n",
       "      <td>1564055322</td>\n",
       "      <td>248</td>\n",
       "    </tr>\n",
       "  </tbody>\n",
       "</table>\n",
       "</div>"
      ],
      "text/plain": [
       "                 EventName         DeviceIDHash  EventTimestamp  ExpId\n",
       "0         MainScreenAppear  4575588528974610257      1564029816    246\n",
       "1         MainScreenAppear  7416695313311560658      1564053102    246\n",
       "2  PaymentScreenSuccessful  3518123091307005509      1564054127    248\n",
       "3         CartScreenAppear  3518123091307005509      1564054127    248\n",
       "4  PaymentScreenSuccessful  6217807653094995999      1564055322    248"
      ]
     },
     "execution_count": 5,
     "metadata": {},
     "output_type": "execute_result"
    }
   ],
   "source": [
    "logs.head(5)"
   ]
  },
  {
   "cell_type": "code",
   "execution_count": 6,
   "id": "8ee6f554",
   "metadata": {},
   "outputs": [
    {
     "name": "stdout",
     "output_type": "stream",
     "text": [
      "<class 'pandas.core.frame.DataFrame'>\n",
      "RangeIndex: 244126 entries, 0 to 244125\n",
      "Data columns (total 4 columns):\n",
      " #   Column          Non-Null Count   Dtype \n",
      "---  ------          --------------   ----- \n",
      " 0   EventName       244126 non-null  object\n",
      " 1   DeviceIDHash    244126 non-null  int64 \n",
      " 2   EventTimestamp  244126 non-null  int64 \n",
      " 3   ExpId           244126 non-null  int64 \n",
      "dtypes: int64(3), object(1)\n",
      "memory usage: 7.5+ MB\n"
     ]
    }
   ],
   "source": [
    "logs.info()"
   ]
  },
  {
   "cell_type": "markdown",
   "id": "4d18c8fe",
   "metadata": {},
   "source": [
    "*Промежуточный вывод:* столбцы не содержат пропусков."
   ]
  },
  {
   "cell_type": "code",
   "execution_count": 7,
   "id": "cf939616",
   "metadata": {},
   "outputs": [],
   "source": [
    "# переименуем столбцы\n",
    "logs.columns = ['event_name', 'device_id_hash', 'event_timestamp', 'exp_id']"
   ]
  },
  {
   "cell_type": "code",
   "execution_count": 8,
   "id": "540bee89",
   "metadata": {},
   "outputs": [],
   "source": [
    "# отдельно выделим столбцы с датой и временем\n",
    "# и просто датой\n",
    "logs['dt'] = pd.to_datetime(logs['event_timestamp'], unit='s')\n",
    "logs['date'] = logs['dt'].dt.date"
   ]
  },
  {
   "cell_type": "code",
   "execution_count": 9,
   "id": "7a50d4e1",
   "metadata": {},
   "outputs": [],
   "source": [
    "#logs.head(5)"
   ]
  },
  {
   "cell_type": "code",
   "execution_count": 10,
   "id": "dc7d1c85",
   "metadata": {},
   "outputs": [
    {
     "data": {
      "text/html": [
       "<div>\n",
       "<style scoped>\n",
       "    .dataframe tbody tr th:only-of-type {\n",
       "        vertical-align: middle;\n",
       "    }\n",
       "\n",
       "    .dataframe tbody tr th {\n",
       "        vertical-align: top;\n",
       "    }\n",
       "\n",
       "    .dataframe thead th {\n",
       "        text-align: right;\n",
       "    }\n",
       "</style>\n",
       "<table border=\"1\" class=\"dataframe\">\n",
       "  <thead>\n",
       "    <tr style=\"text-align: right;\">\n",
       "      <th></th>\n",
       "      <th>event_name</th>\n",
       "      <th>device_id_hash</th>\n",
       "      <th>event_timestamp</th>\n",
       "      <th>exp_id</th>\n",
       "      <th>dt</th>\n",
       "      <th>date</th>\n",
       "    </tr>\n",
       "  </thead>\n",
       "  <tbody>\n",
       "    <tr>\n",
       "      <th>453</th>\n",
       "      <td>MainScreenAppear</td>\n",
       "      <td>5613408041324010552</td>\n",
       "      <td>1564474784</td>\n",
       "      <td>248</td>\n",
       "      <td>2019-07-30 08:19:44</td>\n",
       "      <td>2019-07-30</td>\n",
       "    </tr>\n",
       "    <tr>\n",
       "      <th>2350</th>\n",
       "      <td>CartScreenAppear</td>\n",
       "      <td>1694940645335807244</td>\n",
       "      <td>1564609899</td>\n",
       "      <td>248</td>\n",
       "      <td>2019-07-31 21:51:39</td>\n",
       "      <td>2019-07-31</td>\n",
       "    </tr>\n",
       "    <tr>\n",
       "      <th>3573</th>\n",
       "      <td>MainScreenAppear</td>\n",
       "      <td>434103746454591587</td>\n",
       "      <td>1564628377</td>\n",
       "      <td>248</td>\n",
       "      <td>2019-08-01 02:59:37</td>\n",
       "      <td>2019-08-01</td>\n",
       "    </tr>\n",
       "    <tr>\n",
       "      <th>4076</th>\n",
       "      <td>MainScreenAppear</td>\n",
       "      <td>3761373764179762633</td>\n",
       "      <td>1564631266</td>\n",
       "      <td>247</td>\n",
       "      <td>2019-08-01 03:47:46</td>\n",
       "      <td>2019-08-01</td>\n",
       "    </tr>\n",
       "    <tr>\n",
       "      <th>4803</th>\n",
       "      <td>MainScreenAppear</td>\n",
       "      <td>2835328739789306622</td>\n",
       "      <td>1564634641</td>\n",
       "      <td>248</td>\n",
       "      <td>2019-08-01 04:44:01</td>\n",
       "      <td>2019-08-01</td>\n",
       "    </tr>\n",
       "    <tr>\n",
       "      <th>...</th>\n",
       "      <td>...</td>\n",
       "      <td>...</td>\n",
       "      <td>...</td>\n",
       "      <td>...</td>\n",
       "      <td>...</td>\n",
       "      <td>...</td>\n",
       "    </tr>\n",
       "    <tr>\n",
       "      <th>242329</th>\n",
       "      <td>MainScreenAppear</td>\n",
       "      <td>8870358373313968633</td>\n",
       "      <td>1565206004</td>\n",
       "      <td>247</td>\n",
       "      <td>2019-08-07 19:26:44</td>\n",
       "      <td>2019-08-07</td>\n",
       "    </tr>\n",
       "    <tr>\n",
       "      <th>242332</th>\n",
       "      <td>PaymentScreenSuccessful</td>\n",
       "      <td>4718002964983105693</td>\n",
       "      <td>1565206005</td>\n",
       "      <td>247</td>\n",
       "      <td>2019-08-07 19:26:45</td>\n",
       "      <td>2019-08-07</td>\n",
       "    </tr>\n",
       "    <tr>\n",
       "      <th>242360</th>\n",
       "      <td>PaymentScreenSuccessful</td>\n",
       "      <td>2382591782303281935</td>\n",
       "      <td>1565206049</td>\n",
       "      <td>246</td>\n",
       "      <td>2019-08-07 19:27:29</td>\n",
       "      <td>2019-08-07</td>\n",
       "    </tr>\n",
       "    <tr>\n",
       "      <th>242362</th>\n",
       "      <td>CartScreenAppear</td>\n",
       "      <td>2382591782303281935</td>\n",
       "      <td>1565206049</td>\n",
       "      <td>246</td>\n",
       "      <td>2019-08-07 19:27:29</td>\n",
       "      <td>2019-08-07</td>\n",
       "    </tr>\n",
       "    <tr>\n",
       "      <th>242635</th>\n",
       "      <td>MainScreenAppear</td>\n",
       "      <td>4097782667445790512</td>\n",
       "      <td>1565206618</td>\n",
       "      <td>246</td>\n",
       "      <td>2019-08-07 19:36:58</td>\n",
       "      <td>2019-08-07</td>\n",
       "    </tr>\n",
       "  </tbody>\n",
       "</table>\n",
       "<p>413 rows × 6 columns</p>\n",
       "</div>"
      ],
      "text/plain": [
       "                     event_name       device_id_hash  event_timestamp  exp_id  \\\n",
       "453            MainScreenAppear  5613408041324010552       1564474784     248   \n",
       "2350           CartScreenAppear  1694940645335807244       1564609899     248   \n",
       "3573           MainScreenAppear   434103746454591587       1564628377     248   \n",
       "4076           MainScreenAppear  3761373764179762633       1564631266     247   \n",
       "4803           MainScreenAppear  2835328739789306622       1564634641     248   \n",
       "...                         ...                  ...              ...     ...   \n",
       "242329         MainScreenAppear  8870358373313968633       1565206004     247   \n",
       "242332  PaymentScreenSuccessful  4718002964983105693       1565206005     247   \n",
       "242360  PaymentScreenSuccessful  2382591782303281935       1565206049     246   \n",
       "242362         CartScreenAppear  2382591782303281935       1565206049     246   \n",
       "242635         MainScreenAppear  4097782667445790512       1565206618     246   \n",
       "\n",
       "                        dt        date  \n",
       "453    2019-07-30 08:19:44  2019-07-30  \n",
       "2350   2019-07-31 21:51:39  2019-07-31  \n",
       "3573   2019-08-01 02:59:37  2019-08-01  \n",
       "4076   2019-08-01 03:47:46  2019-08-01  \n",
       "4803   2019-08-01 04:44:01  2019-08-01  \n",
       "...                    ...         ...  \n",
       "242329 2019-08-07 19:26:44  2019-08-07  \n",
       "242332 2019-08-07 19:26:45  2019-08-07  \n",
       "242360 2019-08-07 19:27:29  2019-08-07  \n",
       "242362 2019-08-07 19:27:29  2019-08-07  \n",
       "242635 2019-08-07 19:36:58  2019-08-07  \n",
       "\n",
       "[413 rows x 6 columns]"
      ]
     },
     "execution_count": 10,
     "metadata": {},
     "output_type": "execute_result"
    }
   ],
   "source": [
    "# проверим наличие явных дубликатов\n",
    "logs.loc[logs.duplicated()]"
   ]
  },
  {
   "cell_type": "markdown",
   "id": "e36493f6",
   "metadata": {},
   "source": [
    "В таблице обнаружено 413 строк дубликатов, мы можем их просто удалить, чтобы они не повлияли на дальнейший анализ."
   ]
  },
  {
   "cell_type": "code",
   "execution_count": 11,
   "id": "f305e4da",
   "metadata": {},
   "outputs": [
    {
     "data": {
      "text/html": [
       "<div>\n",
       "<style scoped>\n",
       "    .dataframe tbody tr th:only-of-type {\n",
       "        vertical-align: middle;\n",
       "    }\n",
       "\n",
       "    .dataframe tbody tr th {\n",
       "        vertical-align: top;\n",
       "    }\n",
       "\n",
       "    .dataframe thead th {\n",
       "        text-align: right;\n",
       "    }\n",
       "</style>\n",
       "<table border=\"1\" class=\"dataframe\">\n",
       "  <thead>\n",
       "    <tr style=\"text-align: right;\">\n",
       "      <th></th>\n",
       "      <th>event_name</th>\n",
       "      <th>device_id_hash</th>\n",
       "      <th>event_timestamp</th>\n",
       "      <th>exp_id</th>\n",
       "      <th>dt</th>\n",
       "      <th>date</th>\n",
       "    </tr>\n",
       "  </thead>\n",
       "  <tbody>\n",
       "  </tbody>\n",
       "</table>\n",
       "</div>"
      ],
      "text/plain": [
       "Empty DataFrame\n",
       "Columns: [event_name, device_id_hash, event_timestamp, exp_id, dt, date]\n",
       "Index: []"
      ]
     },
     "execution_count": 11,
     "metadata": {},
     "output_type": "execute_result"
    }
   ],
   "source": [
    "logs = logs.drop_duplicates().reset_index(drop=True)\n",
    "logs.loc[logs.duplicated()]"
   ]
  },
  {
   "cell_type": "code",
   "execution_count": 12,
   "id": "c449643e",
   "metadata": {
    "scrolled": true
   },
   "outputs": [
    {
     "name": "stdout",
     "output_type": "stream",
     "text": [
      "device_id_hash    0\n",
      "exp_id            0\n",
      "dtype: int64\n"
     ]
    }
   ],
   "source": [
    "# проверяем наличие пользователей, которые состоят в трех группах одновременно\n",
    "error_visitors=(\n",
    "logs\n",
    "    .groupby('device_id_hash', as_index=False)\n",
    "    .agg({'exp_id' : 'nunique'})\n",
    "    .query('exp_id > 1')\n",
    ")\n",
    "print(error_visitors.count())"
   ]
  },
  {
   "cell_type": "markdown",
   "id": "73107b43",
   "metadata": {},
   "source": [
    "**Вывод:** нет таких пользователей, которые состоят в нескольких группах одновременно."
   ]
  },
  {
   "cell_type": "markdown",
   "id": "cfe6a1a2",
   "metadata": {},
   "source": [
    "## Анализ и проверка данных"
   ]
  },
  {
   "cell_type": "markdown",
   "id": "9cc98803",
   "metadata": {},
   "source": [
    "Проверим сколько всего событий в логах."
   ]
  },
  {
   "cell_type": "code",
   "execution_count": 13,
   "id": "29661a1a",
   "metadata": {},
   "outputs": [
    {
     "data": {
      "text/plain": [
       "243713"
      ]
     },
     "execution_count": 13,
     "metadata": {},
     "output_type": "execute_result"
    }
   ],
   "source": [
    "logs['event_name'].count()"
   ]
  },
  {
   "cell_type": "markdown",
   "id": "cd344527",
   "metadata": {},
   "source": [
    "Итого в логах имеется 243713 событий."
   ]
  },
  {
   "cell_type": "markdown",
   "id": "aacdbe0a",
   "metadata": {},
   "source": [
    "Посчитаем сколько всего уникальных пользователей."
   ]
  },
  {
   "cell_type": "code",
   "execution_count": 14,
   "id": "969ae332",
   "metadata": {},
   "outputs": [
    {
     "data": {
      "text/plain": [
       "7551"
      ]
     },
     "execution_count": 14,
     "metadata": {},
     "output_type": "execute_result"
    }
   ],
   "source": [
    "logs['device_id_hash'].nunique()"
   ]
  },
  {
   "cell_type": "markdown",
   "id": "9a5cc2dc",
   "metadata": {},
   "source": [
    "Всего 7551 уникальных пользователей."
   ]
  },
  {
   "cell_type": "markdown",
   "id": "aa310609",
   "metadata": {},
   "source": [
    "Посчитаем сколько в среднем событий приходится на одного пользователя"
   ]
  },
  {
   "cell_type": "code",
   "execution_count": 15,
   "id": "a071bbef",
   "metadata": {
    "scrolled": true
   },
   "outputs": [
    {
     "data": {
      "text/plain": [
       "20.0"
      ]
     },
     "execution_count": 15,
     "metadata": {},
     "output_type": "execute_result"
    }
   ],
   "source": [
    "logs.groupby('device_id_hash')['event_name'].count().median()"
   ]
  },
  {
   "cell_type": "code",
   "execution_count": 16,
   "id": "ea01ca12",
   "metadata": {},
   "outputs": [
    {
     "data": {
      "image/png": "[encoded data removed]",
      "text/plain": [
       "<Figure size 1400x500 with 1 Axes>"
      ]
     },
     "metadata": {
      "image/png": {
       "height": 470,
       "width": 1182
      }
     },
     "output_type": "display_data"
    }
   ],
   "source": [
    "(logs.groupby('device_id_hash')['event_name'].count()).hist(bins=500, figsize=(14, 5))\n",
    "\n",
    "plt.title('Гистограмма распределения количества событий на пользователя')\n",
    "plt.xlabel('Количество пользователей')\n",
    "plt.ylabel('Количество событий')\n",
    "plt.grid(True)\n",
    "plt.xlim(0, 300)\n",
    "\n",
    "plt.show()"
   ]
  },
  {
   "cell_type": "markdown",
   "id": "5885b5c8",
   "metadata": {},
   "source": [
    "Итого на одного пользователя по медиане приходится 20 событий. Находим вместо среднего медиану поскольку выбросы в выборке сильно влияют на рассчёт среднего и медиана лучше охарактерезует их поведение."
   ]
  },
  {
   "cell_type": "markdown",
   "id": "00996f86",
   "metadata": {},
   "source": [
    "Посмотрим за какой период имеются данные. Посчитаем минимальную и максимальную дату. Построим гистрограмму по дате и времени."
   ]
  },
  {
   "cell_type": "code",
   "execution_count": 17,
   "id": "43e2283e",
   "metadata": {},
   "outputs": [
    {
     "name": "stdout",
     "output_type": "stream",
     "text": [
      "2019-07-25 04:43:36\n",
      "2019-08-07 21:15:17\n"
     ]
    }
   ],
   "source": [
    "print(logs['dt'].min())\n",
    "print(logs['dt'].max())"
   ]
  },
  {
   "cell_type": "markdown",
   "id": "9e69372b",
   "metadata": {},
   "source": [
    "Минимальная дата 2019-07-25, максимальная 2019-08-07, т.е. имеются данные за две недели."
   ]
  },
  {
   "cell_type": "code",
   "execution_count": 18,
   "id": "f61e7abf",
   "metadata": {},
   "outputs": [
    {
     "data": {
      "image/png": "[encoded data removed]",
      "text/plain": [
       "<Figure size 1400x500 with 1 Axes>"
      ]
     },
     "metadata": {
      "image/png": {
       "height": 522,
       "width": 1169
      }
     },
     "output_type": "display_data"
    }
   ],
   "source": [
    "logs['dt'].hist(bins=14*24, figsize=(14, 5))\n",
    "\n",
    "plt.xticks(rotation=45)\n",
    "plt.ylabel('количество записей')\n",
    "plt.xlabel('дата')\n",
    "plt.title('Гистограмма по дате и времени')\n",
    "plt.show()"
   ]
  },
  {
   "cell_type": "markdown",
   "id": "0b873d6d",
   "metadata": {},
   "source": [
    "**Вывод по гистрограмме:** из графика можно заметить, что количество данных наиболее полное начиная с 2019-08-01, до этого дня данных в значительной степени меньше."
   ]
  },
  {
   "cell_type": "markdown",
   "id": "55f0abf9",
   "metadata": {},
   "source": [
    "Отбросим старые данные, оставим только те события, которые происходили начиная с 2019-08-01."
   ]
  },
  {
   "cell_type": "code",
   "execution_count": 19,
   "id": "26ddace8",
   "metadata": {},
   "outputs": [],
   "source": [
    "logs_relevant = logs.query('dt >= \"2019-08-01\"')"
   ]
  },
  {
   "cell_type": "markdown",
   "id": "3e1fb483",
   "metadata": {},
   "source": [
    "Посмотрим как много пользователей и событий было потеряно в результате фильтровки."
   ]
  },
  {
   "cell_type": "code",
   "execution_count": 20,
   "id": "ac30999f",
   "metadata": {},
   "outputs": [
    {
     "name": "stdout",
     "output_type": "stream",
     "text": [
      "Абсолютное число оставшихся пользователей: 7534\n",
      "Процент отсеявшихся пользователей: 0.23%\n"
     ]
    }
   ],
   "source": [
    "print('Абсолютное число оставшихся пользователей:', logs_relevant['device_id_hash'].nunique())\n",
    "print('Процент отсеявшихся пользователей: {0:.2f}%'.format( \n",
    "      (1 - logs_relevant['device_id_hash'].nunique() / logs['device_id_hash'].nunique()) * 100))"
   ]
  },
  {
   "cell_type": "code",
   "execution_count": 21,
   "id": "d2a9db1e",
   "metadata": {},
   "outputs": [
    {
     "name": "stdout",
     "output_type": "stream",
     "text": [
      "Абсолютное число оставшихся событий: 240887\n",
      "Процент остеявшихся событий: 1.16%\n"
     ]
    }
   ],
   "source": [
    "print('Абсолютное число оставшихся событий:', logs_relevant['event_name'].count())\n",
    "print('Процент остеявшихся событий: {0:.2f}%'.format( \n",
    "      (1 - logs_relevant['event_name'].count() / logs['event_name'].count()) * 100))"
   ]
  },
  {
   "cell_type": "markdown",
   "id": "ac0955ca",
   "metadata": {},
   "source": [
    "**Вывод о фильтровке:** мы отфильтровали ненужные данные, при этом потеряли всего около 0.23% уникальных пользователей и 1.16% от всех событий, следовательно такие минимальные потери не должны повлиять на дальнейший анализ. "
   ]
  },
  {
   "cell_type": "markdown",
   "id": "dc3d6f4f",
   "metadata": {},
   "source": [
    "Также проверим сколько пользователей у нас осталось в каждой группе теста."
   ]
  },
  {
   "cell_type": "code",
   "execution_count": 22,
   "id": "4a785d2c",
   "metadata": {},
   "outputs": [],
   "source": [
    "quantity_of_users_per_group = logs_relevant.groupby('exp_id')['device_id_hash'].nunique()"
   ]
  },
  {
   "cell_type": "markdown",
   "id": "8b7a7d36",
   "metadata": {},
   "source": [
    "**Вывод:** в каждой группе остались уникальные пользователи, примерно в равных значениях."
   ]
  },
  {
   "cell_type": "markdown",
   "id": "134561dc",
   "metadata": {},
   "source": [
    "## Анализ воронки событий"
   ]
  },
  {
   "cell_type": "markdown",
   "id": "70b86ddf",
   "metadata": {},
   "source": [
    "Посмотрим, какие события есть в логах, как часто они встречаются. Отсортируем события по частоте."
   ]
  },
  {
   "cell_type": "code",
   "execution_count": 23,
   "id": "e6a9f866",
   "metadata": {},
   "outputs": [
    {
     "data": {
      "text/html": [
       "<div>\n",
       "<style scoped>\n",
       "    .dataframe tbody tr th:only-of-type {\n",
       "        vertical-align: middle;\n",
       "    }\n",
       "\n",
       "    .dataframe tbody tr th {\n",
       "        vertical-align: top;\n",
       "    }\n",
       "\n",
       "    .dataframe thead th {\n",
       "        text-align: right;\n",
       "    }\n",
       "</style>\n",
       "<table border=\"1\" class=\"dataframe\">\n",
       "  <thead>\n",
       "    <tr style=\"text-align: right;\">\n",
       "      <th></th>\n",
       "      <th>quantity_of_events</th>\n",
       "    </tr>\n",
       "    <tr>\n",
       "      <th>event_name</th>\n",
       "      <th></th>\n",
       "    </tr>\n",
       "  </thead>\n",
       "  <tbody>\n",
       "    <tr>\n",
       "      <th>MainScreenAppear</th>\n",
       "      <td>117328</td>\n",
       "    </tr>\n",
       "    <tr>\n",
       "      <th>OffersScreenAppear</th>\n",
       "      <td>46333</td>\n",
       "    </tr>\n",
       "    <tr>\n",
       "      <th>CartScreenAppear</th>\n",
       "      <td>42303</td>\n",
       "    </tr>\n",
       "    <tr>\n",
       "      <th>PaymentScreenSuccessful</th>\n",
       "      <td>33918</td>\n",
       "    </tr>\n",
       "    <tr>\n",
       "      <th>Tutorial</th>\n",
       "      <td>1005</td>\n",
       "    </tr>\n",
       "  </tbody>\n",
       "</table>\n",
       "</div>"
      ],
      "text/plain": [
       "                         quantity_of_events\n",
       "event_name                                 \n",
       "MainScreenAppear                     117328\n",
       "OffersScreenAppear                    46333\n",
       "CartScreenAppear                      42303\n",
       "PaymentScreenSuccessful               33918\n",
       "Tutorial                               1005"
      ]
     },
     "execution_count": 23,
     "metadata": {},
     "output_type": "execute_result"
    }
   ],
   "source": [
    "(\n",
    "    logs_relevant\n",
    "    .groupby('event_name')\n",
    "    .agg({'event_name':'count'})\n",
    "    .rename(columns={'event_name':'quantity_of_events'})\n",
    "    .sort_values(by='quantity_of_events', ascending=False)\n",
    ")"
   ]
  },
  {
   "cell_type": "markdown",
   "id": "cc1ce3c5",
   "metadata": {},
   "source": [
    "**Вывод:** получилось всего 5 уникальных событий: появление основного экрана, появление экрана предложений, появления экрана корзины, экран успешной покупки, туториал. При этом туториал был задействован меньше всех: 1005 раз, а на основной экан попадали 117328 раз."
   ]
  },
  {
   "cell_type": "markdown",
   "id": "e6c323d5",
   "metadata": {},
   "source": [
    "Посчитаем, сколько пользователей совершали каждое из этих событий. Отсортируем события по числу пользователей. Посчитаем долю пользователей, которые хоть раз совершали событие."
   ]
  },
  {
   "cell_type": "code",
   "execution_count": 24,
   "id": "0d073b41",
   "metadata": {},
   "outputs": [
    {
     "data": {
      "text/html": [
       "<div>\n",
       "<style scoped>\n",
       "    .dataframe tbody tr th:only-of-type {\n",
       "        vertical-align: middle;\n",
       "    }\n",
       "\n",
       "    .dataframe tbody tr th {\n",
       "        vertical-align: top;\n",
       "    }\n",
       "\n",
       "    .dataframe thead th {\n",
       "        text-align: right;\n",
       "    }\n",
       "</style>\n",
       "<table border=\"1\" class=\"dataframe\">\n",
       "  <thead>\n",
       "    <tr style=\"text-align: right;\">\n",
       "      <th></th>\n",
       "      <th>quantity_of_users</th>\n",
       "    </tr>\n",
       "    <tr>\n",
       "      <th>event_name</th>\n",
       "      <th></th>\n",
       "    </tr>\n",
       "  </thead>\n",
       "  <tbody>\n",
       "    <tr>\n",
       "      <th>MainScreenAppear</th>\n",
       "      <td>7419</td>\n",
       "    </tr>\n",
       "    <tr>\n",
       "      <th>OffersScreenAppear</th>\n",
       "      <td>4593</td>\n",
       "    </tr>\n",
       "    <tr>\n",
       "      <th>CartScreenAppear</th>\n",
       "      <td>3734</td>\n",
       "    </tr>\n",
       "    <tr>\n",
       "      <th>PaymentScreenSuccessful</th>\n",
       "      <td>3539</td>\n",
       "    </tr>\n",
       "    <tr>\n",
       "      <th>Tutorial</th>\n",
       "      <td>840</td>\n",
       "    </tr>\n",
       "  </tbody>\n",
       "</table>\n",
       "</div>"
      ],
      "text/plain": [
       "                         quantity_of_users\n",
       "event_name                                \n",
       "MainScreenAppear                      7419\n",
       "OffersScreenAppear                    4593\n",
       "CartScreenAppear                      3734\n",
       "PaymentScreenSuccessful               3539\n",
       "Tutorial                               840"
      ]
     },
     "execution_count": 24,
     "metadata": {},
     "output_type": "execute_result"
    }
   ],
   "source": [
    "funnel_events = \\\n",
    "(\n",
    "    logs_relevant\n",
    "    .groupby('event_name')\n",
    "    .agg({'device_id_hash':'nunique'})\n",
    "    .rename(columns={'device_id_hash':'quantity_of_users'})\n",
    "    .sort_values(by='quantity_of_users', ascending=False)\n",
    ")\n",
    "funnel_events"
   ]
  },
  {
   "cell_type": "markdown",
   "id": "07d3e79a",
   "metadata": {},
   "source": [
    "**Вывод:** у 7419 уникальных пользователей появлялся основной экран, и меньше всего уникальных пользователей прошло событие туториал."
   ]
  },
  {
   "cell_type": "markdown",
   "id": "5e9d979a",
   "metadata": {},
   "source": [
    "Предположить, в каком порядке происходят события. Все ли они выстраиваются в последовательную цепочку? Их не нужно учитывать при расчёте воронки."
   ]
  },
  {
   "cell_type": "markdown",
   "id": "d9a3e2ee",
   "metadata": {},
   "source": [
    "**Предположение:** на основе предыдущих выводов, можно предположить, что события выстраиваются в следующую цепочку: *MainScreenAppear*, *OffersScreenAppear*, *CartScreenAppear*, *PaymentScreenSuccessful*. Исходя из логики, получается та же цепочка, т.е. сначала пользователь заходит на основной экран, далее переходит на экран предложений, добавляет в корзину желаемый продукт и оплачивает его. Туториал при этом стоит исключить, т.к. он не вписывается в данную цепь. "
   ]
  },
  {
   "cell_type": "markdown",
   "id": "3f8412a9",
   "metadata": {},
   "source": [
    "По воронке событий посчитать, какая доля пользователей проходит на следующий шаг воронки (от числа пользователей на предыдущем). То есть для последовательности событий A → B → C посчитать отношение числа пользователей с событием B к количеству пользователей с событием A, а также отношение числа пользователей с событием C к количеству пользователей с событием B."
   ]
  },
  {
   "cell_type": "code",
   "execution_count": 25,
   "id": "3f103892",
   "metadata": {
    "scrolled": true
   },
   "outputs": [
    {
     "data": {
      "text/html": [
       "<div>\n",
       "<style scoped>\n",
       "    .dataframe tbody tr th:only-of-type {\n",
       "        vertical-align: middle;\n",
       "    }\n",
       "\n",
       "    .dataframe tbody tr th {\n",
       "        vertical-align: top;\n",
       "    }\n",
       "\n",
       "    .dataframe thead th {\n",
       "        text-align: right;\n",
       "    }\n",
       "</style>\n",
       "<table border=\"1\" class=\"dataframe\">\n",
       "  <thead>\n",
       "    <tr style=\"text-align: right;\">\n",
       "      <th></th>\n",
       "      <th>quantity_of_users</th>\n",
       "      <th>rel_decrease</th>\n",
       "    </tr>\n",
       "    <tr>\n",
       "      <th>event_name</th>\n",
       "      <th></th>\n",
       "      <th></th>\n",
       "    </tr>\n",
       "  </thead>\n",
       "  <tbody>\n",
       "    <tr>\n",
       "      <th>MainScreenAppear</th>\n",
       "      <td>7419</td>\n",
       "      <td>NaN</td>\n",
       "    </tr>\n",
       "    <tr>\n",
       "      <th>OffersScreenAppear</th>\n",
       "      <td>4593</td>\n",
       "      <td>0.62</td>\n",
       "    </tr>\n",
       "    <tr>\n",
       "      <th>CartScreenAppear</th>\n",
       "      <td>3734</td>\n",
       "      <td>0.81</td>\n",
       "    </tr>\n",
       "    <tr>\n",
       "      <th>PaymentScreenSuccessful</th>\n",
       "      <td>3539</td>\n",
       "      <td>0.95</td>\n",
       "    </tr>\n",
       "    <tr>\n",
       "      <th>Tutorial</th>\n",
       "      <td>840</td>\n",
       "      <td>0.24</td>\n",
       "    </tr>\n",
       "  </tbody>\n",
       "</table>\n",
       "</div>"
      ],
      "text/plain": [
       "                         quantity_of_users  rel_decrease\n",
       "event_name                                              \n",
       "MainScreenAppear                      7419           NaN\n",
       "OffersScreenAppear                    4593          0.62\n",
       "CartScreenAppear                      3734          0.81\n",
       "PaymentScreenSuccessful               3539          0.95\n",
       "Tutorial                               840          0.24"
      ]
     },
     "execution_count": 25,
     "metadata": {},
     "output_type": "execute_result"
    }
   ],
   "source": [
    "# считаем долю пользователей дошедших\n",
    "# до текущего события по сравнению с предыдущим\n",
    "\n",
    "funnel_events['rel_decrease'] = abs(1+funnel_events['quantity_of_users'].pct_change()).round(2)\n",
    "funnel_events"
   ]
  },
  {
   "cell_type": "markdown",
   "id": "92a68c90",
   "metadata": {},
   "source": [
    "На каком шаге теряется больше всего пользователей?"
   ]
  },
  {
   "cell_type": "markdown",
   "id": "004d1feb",
   "metadata": {},
   "source": [
    "**Вывод:** не учитывая туториал, больше всего людей теряется на шаге с предложениями."
   ]
  },
  {
   "cell_type": "markdown",
   "id": "fdc0ae94",
   "metadata": {},
   "source": [
    "Какая доля пользователей доходит от первого события до оплаты?"
   ]
  },
  {
   "cell_type": "code",
   "execution_count": 26,
   "id": "41e2839f",
   "metadata": {},
   "outputs": [
    {
     "name": "stdout",
     "output_type": "stream",
     "text": [
      "От первого шага до оплаты доходит: 47.7% пользователей\n"
     ]
    }
   ],
   "source": [
    "success_rel = (\n",
    "    funnel_events.loc['PaymentScreenSuccessful', 'quantity_of_users']\\\n",
    "    / funnel_events.loc['MainScreenAppear', 'quantity_of_users']\n",
    ")\n",
    "print('От первого шага до оплаты доходит: {0:.1f}% пользователей'.format(success_rel*100))"
   ]
  },
  {
   "cell_type": "code",
   "execution_count": 27,
   "id": "a187e2ae",
   "metadata": {},
   "outputs": [
    {
     "data": {
      "image/png": "[encoded data removed]"
     },
     "metadata": {},
     "output_type": "display_data"
    }
   ],
   "source": [
    "fig = go.Figure(go.Funnel(\n",
    "                          x=funnel_events['quantity_of_users'],\n",
    "                          y=funnel_events.index,\n",
    "                          textposition = \"inside\",\n",
    "                          textinfo = \"value+percent initial\",\n",
    "                         )\n",
    "               )\n",
    "fig.show()"
   ]
  },
  {
   "cell_type": "markdown",
   "id": "fb4c01a5",
   "metadata": {},
   "source": [
    "**Вывод:** от первого шага (MainScreenAppear) до оплаты (PaymentScreenSuccessful) доходит 47.7% пользователей."
   ]
  },
  {
   "cell_type": "markdown",
   "id": "48b5f854",
   "metadata": {},
   "source": [
    "## Анализируем результаты эксперимента"
   ]
  },
  {
   "cell_type": "markdown",
   "id": "491f6349",
   "metadata": {},
   "source": [
    "Посчитаем сколько пользователей в каждой экспериментальной группе."
   ]
  },
  {
   "cell_type": "code",
   "execution_count": 28,
   "id": "ce8d8036",
   "metadata": {},
   "outputs": [
    {
     "data": {
      "text/plain": [
       "exp_id\n",
       "246    2484\n",
       "247    2513\n",
       "248    2537\n",
       "Name: device_id_hash, dtype: int64"
      ]
     },
     "execution_count": 28,
     "metadata": {},
     "output_type": "execute_result"
    }
   ],
   "source": [
    "quantity_of_users_per_group"
   ]
  },
  {
   "cell_type": "markdown",
   "id": "76bdbc3c",
   "metadata": {},
   "source": [
    "**Вывод:** в каждой группе остались уникальные пользователи, примерно в равных значениях."
   ]
  },
  {
   "cell_type": "markdown",
   "id": "eaef88c9",
   "metadata": {},
   "source": [
    "Есть 2 контрольные группы для А/А-эксперимента, чтобы проверить корректность всех механизмов и расчётов. Проверим, находят ли статистические критерии разницу между выборками 246 и 247.\n",
    "\n",
    "Выберем самое популярное событие. Посчитаем число пользователей, совершивших это событие в каждой из контрольных групп. Посчитаем долю пользователей, совершивших это событие. Проверим, будет ли отличие между группами статистически достоверным. Проделаем то же самое для всех других событий. Можно ли сказать, что разбиение на группы работает корректно?"
   ]
  },
  {
   "cell_type": "markdown",
   "id": "f0ead99e",
   "metadata": {},
   "source": [
    "За популярное событие будем принимать основной экран, это объсняется тем, что пользователи больше всего заходили на него."
   ]
  },
  {
   "cell_type": "markdown",
   "id": "b329e8a9",
   "metadata": {},
   "source": [
    "Выборки сформируем как отношение оставшихся пользователей на текущем событии к общему числу пользователей в группе."
   ]
  },
  {
   "cell_type": "markdown",
   "id": "823ca3f4",
   "metadata": {},
   "source": [
    "Для начала A/A тестирования сформируем гипотезы - нулевую и альтернативную:\n",
    "```\n",
    "H_0: Конверсия конкретного события группы 246 (А) = конверсия конкретного события группы 247 (А)\n",
    "H_a: Конверсия конкретного события группы 246 (А) ≠ конверсия конкретного события группы 247 (А)\n",
    "\n",
    "alpha=0.05\n",
    "```\n",
    "\n",
    "За статистический критерий будем принимать z-тест(пропорций). Это обусловлено тем, что данный метод позволяет проверить равенство, либо неравенство двух долей (в данном случае конверсии конкретного события) из выборок."
   ]
  },
  {
   "cell_type": "markdown",
   "id": "f828a903",
   "metadata": {},
   "source": [
    "Для начала определим несколько функций, для удобства рассчётов:\n",
    "- нахождения числа уникальных пользователей по событиям в группе;\n",
    "- нахождения конверсии события в группе;\n",
    "- нахождения конверсии события в шаг в группе;\n",
    "- проверка гипотез о равенстве долей конверсии z-тестом. "
   ]
  },
  {
   "cell_type": "code",
   "execution_count": 29,
   "id": "b96edef4",
   "metadata": {},
   "outputs": [],
   "source": [
    "# определим функцию которая находит\n",
    "# число уникальных пользователей\n",
    "# по событиям\n",
    "\n",
    "def count_users_by_events(df, group):\n",
    "    \n",
    "    exp = (\n",
    "    df\n",
    "    .query('exp_id == @group and event_name != \"Tutorial\"')\n",
    "    .groupby('event_name')\n",
    "    .agg({'device_id_hash':'nunique'})\n",
    "    .rename(columns={'device_id_hash':'quantity_of_users'})\n",
    "    .sort_values(by='quantity_of_users', ascending=False)\n",
    "    )\n",
    "    return exp"
   ]
  },
  {
   "cell_type": "code",
   "execution_count": 30,
   "id": "3c7862b8",
   "metadata": {},
   "outputs": [],
   "source": [
    "# определим функцию которая находит\n",
    "# долю оставшихся пользователей\n",
    "# по событию\n",
    "\n",
    "def get_conversion(exp, df, group):\n",
    "    \n",
    "    exp['conversion'] = (\n",
    "    exp['quantity_of_users']\\\n",
    "    / df.query('exp_id == @group')['device_id_hash'].nunique()\n",
    "    ).round(3)\n",
    "    return exp"
   ]
  },
  {
   "cell_type": "code",
   "execution_count": 31,
   "id": "1e718461",
   "metadata": {},
   "outputs": [],
   "source": [
    "# определим функцию которая считает\n",
    "# конверсию в шаг\n",
    "\n",
    "def get_conversion_per_step(exp):\n",
    "    \n",
    "    exp['conversion_per_step'] = (\n",
    "        abs(1+exp['quantity_of_users'].pct_change())\n",
    "        .round(3)\n",
    "        .fillna(1)\n",
    "    )\n",
    "    return exp"
   ]
  },
  {
   "cell_type": "code",
   "execution_count": 32,
   "id": "01517324",
   "metadata": {},
   "outputs": [],
   "source": [
    "# определяем функцию для проверки\n",
    "# гипотез о равенстве долей\n",
    "# или же z-тест пропорций\n",
    "\n",
    "def check_hypothesis(group_1, group_2, event_name):\n",
    "    \n",
    "    alpha = .05 # критический уровень статистической значимости\n",
    "    \n",
    "    sample_a = count_users_by_events(logs_relevant, group_1)\n",
    "    \n",
    "    sample_b = count_users_by_events(logs_relevant, group_2)\n",
    "    \n",
    "    successes = np.array(\n",
    "        [sample_a.loc[event_name, 'quantity_of_users'], \n",
    "         sample_b.loc[event_name, 'quantity_of_users']]\n",
    "    )\n",
    "    trials = np.array(\n",
    "        [logs_relevant.query('exp_id == @group_1')['device_id_hash'].nunique(),\n",
    "        logs_relevant.query('exp_id == @group_2')['device_id_hash'].nunique()]\n",
    "    )\n",
    "\n",
    "    # пропорция успехов в первой группе:\n",
    "    p1 = successes[0]/trials[0]\n",
    "    # пропорция успехов во второй группе:\n",
    "    p2 = successes[1]/trials[1]\n",
    "\n",
    "    # пропорция успехов в комбинированном датасете:\n",
    "    p_combined = (successes[0] + successes[1]) / (trials[0] + trials[1])\n",
    "\n",
    "    # разница пропорций в датасетах\n",
    "    difference = p1 - p2 \n",
    "    \n",
    "    # считаем статистику в ст.отклонениях стандартного нормального распределения\n",
    "    z_value = difference / mth.sqrt(p_combined * (1 - p_combined) * (1/trials[0] + 1/trials[1]))\n",
    "\n",
    "    # задаем стандартное нормальное распределение (среднее 0, ст.отклонение 1)\n",
    "    distr = st.norm(0, 1)  \n",
    "\n",
    "    p_value = (1 - distr.cdf(abs(z_value))) * 2\n",
    "\n",
    "    print('p-значение: {0:.4f}'.format(p_value))\n",
    "\n",
    "    if p_value < alpha:\n",
    "        print(f'Отвергаем нулевую гипотезу:\\nесть значимая разница долей между группами {group_1} и {group_2}\\nпо {event_name}')\n",
    "    else:\n",
    "        print(\n",
    "            f'Не получилось отвергнуть нулевую гипотезу,\\nвывод о различии долей между группами {group_1} и {group_2}\\nпо {event_name} сделать нельзя')"
   ]
  },
  {
   "cell_type": "code",
   "execution_count": 33,
   "id": "ef3a72fb",
   "metadata": {},
   "outputs": [
    {
     "name": "stdout",
     "output_type": "stream",
     "text": [
      "p-значение: 0.7571\n",
      "Не получилось отвергнуть нулевую гипотезу,\n",
      "вывод о различии долей между группами 246 и 247\n",
      "по MainScreenAppear сделать нельзя\n",
      "\n",
      "p-значение: 0.2288\n",
      "Не получилось отвергнуть нулевую гипотезу,\n",
      "вывод о различии долей между группами 246 и 247\n",
      "по CartScreenAppear сделать нельзя\n",
      "\n",
      "p-значение: 0.2481\n",
      "Не получилось отвергнуть нулевую гипотезу,\n",
      "вывод о различии долей между группами 246 и 247\n",
      "по OffersScreenAppear сделать нельзя\n",
      "\n",
      "p-значение: 0.1146\n",
      "Не получилось отвергнуть нулевую гипотезу,\n",
      "вывод о различии долей между группами 246 и 247\n",
      "по PaymentScreenSuccessful сделать нельзя\n",
      "\n"
     ]
    }
   ],
   "source": [
    "# отдельно зададим события\n",
    "\n",
    "events = ['MainScreenAppear', 'CartScreenAppear', 'OffersScreenAppear', 'PaymentScreenSuccessful']\n",
    "\n",
    "# проверим выборки 246 и 247\n",
    "\n",
    "for event in events:\n",
    "    check_hypothesis(246, 247, event)\n",
    "    print()"
   ]
  },
  {
   "cell_type": "markdown",
   "id": "a0d3b2d7",
   "metadata": {},
   "source": [
    "**Вывод:** не получилось отвергнуть нулевую гипотезу, а значит нет основний считать конверсию по конкретному событию между группами 246 и 247 разными. Такой вывод получился по каждому событию."
   ]
  },
  {
   "cell_type": "markdown",
   "id": "5a9fd368",
   "metadata": {},
   "source": [
    "Посчитаем число пользователей, совершивших популярное событие в каждой из контрольных групп. Посчитаем долю пользователей, совершивших это событие."
   ]
  },
  {
   "cell_type": "code",
   "execution_count": 34,
   "id": "81e2653b",
   "metadata": {},
   "outputs": [
    {
     "data": {
      "text/html": [
       "<div>\n",
       "<style scoped>\n",
       "    .dataframe tbody tr th:only-of-type {\n",
       "        vertical-align: middle;\n",
       "    }\n",
       "\n",
       "    .dataframe tbody tr th {\n",
       "        vertical-align: top;\n",
       "    }\n",
       "\n",
       "    .dataframe thead th {\n",
       "        text-align: right;\n",
       "    }\n",
       "</style>\n",
       "<table border=\"1\" class=\"dataframe\">\n",
       "  <thead>\n",
       "    <tr style=\"text-align: right;\">\n",
       "      <th></th>\n",
       "      <th>quantity_of_users</th>\n",
       "      <th>conversion</th>\n",
       "      <th>conversion_per_step</th>\n",
       "    </tr>\n",
       "    <tr>\n",
       "      <th>event_name</th>\n",
       "      <th></th>\n",
       "      <th></th>\n",
       "      <th></th>\n",
       "    </tr>\n",
       "  </thead>\n",
       "  <tbody>\n",
       "    <tr>\n",
       "      <th>MainScreenAppear</th>\n",
       "      <td>2450</td>\n",
       "      <td>0.986</td>\n",
       "      <td>1.000</td>\n",
       "    </tr>\n",
       "    <tr>\n",
       "      <th>OffersScreenAppear</th>\n",
       "      <td>1542</td>\n",
       "      <td>0.621</td>\n",
       "      <td>0.629</td>\n",
       "    </tr>\n",
       "    <tr>\n",
       "      <th>CartScreenAppear</th>\n",
       "      <td>1266</td>\n",
       "      <td>0.510</td>\n",
       "      <td>0.821</td>\n",
       "    </tr>\n",
       "    <tr>\n",
       "      <th>PaymentScreenSuccessful</th>\n",
       "      <td>1200</td>\n",
       "      <td>0.483</td>\n",
       "      <td>0.948</td>\n",
       "    </tr>\n",
       "  </tbody>\n",
       "</table>\n",
       "</div>"
      ],
      "text/plain": [
       "                         quantity_of_users  conversion  conversion_per_step\n",
       "event_name                                                                 \n",
       "MainScreenAppear                      2450       0.986                1.000\n",
       "OffersScreenAppear                    1542       0.621                0.629\n",
       "CartScreenAppear                      1266       0.510                0.821\n",
       "PaymentScreenSuccessful               1200       0.483                0.948"
      ]
     },
     "execution_count": 34,
     "metadata": {},
     "output_type": "execute_result"
    }
   ],
   "source": [
    "exp_246 = count_users_by_events(logs_relevant, 246)\n",
    "exp_246 = get_conversion(exp_246, logs_relevant, 246)\n",
    "exp_246 = get_conversion_per_step(exp_246)\n",
    "exp_246"
   ]
  },
  {
   "cell_type": "code",
   "execution_count": 35,
   "id": "0cba7125",
   "metadata": {
    "scrolled": true
   },
   "outputs": [
    {
     "data": {
      "text/html": [
       "<div>\n",
       "<style scoped>\n",
       "    .dataframe tbody tr th:only-of-type {\n",
       "        vertical-align: middle;\n",
       "    }\n",
       "\n",
       "    .dataframe tbody tr th {\n",
       "        vertical-align: top;\n",
       "    }\n",
       "\n",
       "    .dataframe thead th {\n",
       "        text-align: right;\n",
       "    }\n",
       "</style>\n",
       "<table border=\"1\" class=\"dataframe\">\n",
       "  <thead>\n",
       "    <tr style=\"text-align: right;\">\n",
       "      <th></th>\n",
       "      <th>quantity_of_users</th>\n",
       "      <th>conversion</th>\n",
       "      <th>conversion_per_step</th>\n",
       "    </tr>\n",
       "    <tr>\n",
       "      <th>event_name</th>\n",
       "      <th></th>\n",
       "      <th></th>\n",
       "      <th></th>\n",
       "    </tr>\n",
       "  </thead>\n",
       "  <tbody>\n",
       "    <tr>\n",
       "      <th>MainScreenAppear</th>\n",
       "      <td>2476</td>\n",
       "      <td>0.985</td>\n",
       "      <td>1.000</td>\n",
       "    </tr>\n",
       "    <tr>\n",
       "      <th>OffersScreenAppear</th>\n",
       "      <td>1520</td>\n",
       "      <td>0.605</td>\n",
       "      <td>0.614</td>\n",
       "    </tr>\n",
       "    <tr>\n",
       "      <th>CartScreenAppear</th>\n",
       "      <td>1238</td>\n",
       "      <td>0.493</td>\n",
       "      <td>0.814</td>\n",
       "    </tr>\n",
       "    <tr>\n",
       "      <th>PaymentScreenSuccessful</th>\n",
       "      <td>1158</td>\n",
       "      <td>0.461</td>\n",
       "      <td>0.935</td>\n",
       "    </tr>\n",
       "  </tbody>\n",
       "</table>\n",
       "</div>"
      ],
      "text/plain": [
       "                         quantity_of_users  conversion  conversion_per_step\n",
       "event_name                                                                 \n",
       "MainScreenAppear                      2476       0.985                1.000\n",
       "OffersScreenAppear                    1520       0.605                0.614\n",
       "CartScreenAppear                      1238       0.493                0.814\n",
       "PaymentScreenSuccessful               1158       0.461                0.935"
      ]
     },
     "execution_count": 35,
     "metadata": {},
     "output_type": "execute_result"
    }
   ],
   "source": [
    "exp_247 = count_users_by_events(logs_relevant, 247)\n",
    "exp_247 = get_conversion(exp_247, logs_relevant, 247)\n",
    "exp_247 = get_conversion_per_step(exp_247)\n",
    "exp_247"
   ]
  },
  {
   "cell_type": "code",
   "execution_count": 36,
   "id": "ad85a143",
   "metadata": {},
   "outputs": [
    {
     "data": {
      "text/plain": [
       "event_name\n",
       "MainScreenAppear           0.000\n",
       "OffersScreenAppear         0.015\n",
       "CartScreenAppear           0.007\n",
       "PaymentScreenSuccessful    0.013\n",
       "Name: conversion_per_step, dtype: float64"
      ]
     },
     "execution_count": 36,
     "metadata": {},
     "output_type": "execute_result"
    }
   ],
   "source": [
    "delta_AA_rel = exp_246['conversion_per_step'] - exp_247['conversion_per_step']\n",
    "delta_AA_rel"
   ]
  },
  {
   "cell_type": "markdown",
   "id": "8d543121",
   "metadata": {},
   "source": [
    "**Вывод:** сравнивая числа уникальных пользователей на каждом событии, и о доли пользователей, совершивших это событие, можно сказать, что разбиение на группы работает корректно. Также на это указывает проверка гипотез о равенстве долей, которая указывает, что нет оснований считать пропорции в выборках разными."
   ]
  },
  {
   "cell_type": "markdown",
   "id": "ab33d1e7",
   "metadata": {},
   "source": [
    "Аналогично поступим с группой с изменённым шрифтом. Сравним результаты с каждой из контрольных групп в отдельности по каждому событию. Сравним результаты с объединённой контрольной группой. Сделаем выводы из эксперимента."
   ]
  },
  {
   "cell_type": "code",
   "execution_count": 37,
   "id": "d7852fed",
   "metadata": {},
   "outputs": [
    {
     "data": {
      "text/html": [
       "<div>\n",
       "<style scoped>\n",
       "    .dataframe tbody tr th:only-of-type {\n",
       "        vertical-align: middle;\n",
       "    }\n",
       "\n",
       "    .dataframe tbody tr th {\n",
       "        vertical-align: top;\n",
       "    }\n",
       "\n",
       "    .dataframe thead th {\n",
       "        text-align: right;\n",
       "    }\n",
       "</style>\n",
       "<table border=\"1\" class=\"dataframe\">\n",
       "  <thead>\n",
       "    <tr style=\"text-align: right;\">\n",
       "      <th></th>\n",
       "      <th>quantity_of_users</th>\n",
       "      <th>conversion</th>\n",
       "      <th>conversion_per_step</th>\n",
       "    </tr>\n",
       "    <tr>\n",
       "      <th>event_name</th>\n",
       "      <th></th>\n",
       "      <th></th>\n",
       "      <th></th>\n",
       "    </tr>\n",
       "  </thead>\n",
       "  <tbody>\n",
       "    <tr>\n",
       "      <th>MainScreenAppear</th>\n",
       "      <td>2493</td>\n",
       "      <td>0.983</td>\n",
       "      <td>1.000</td>\n",
       "    </tr>\n",
       "    <tr>\n",
       "      <th>OffersScreenAppear</th>\n",
       "      <td>1531</td>\n",
       "      <td>0.603</td>\n",
       "      <td>0.614</td>\n",
       "    </tr>\n",
       "    <tr>\n",
       "      <th>CartScreenAppear</th>\n",
       "      <td>1230</td>\n",
       "      <td>0.485</td>\n",
       "      <td>0.803</td>\n",
       "    </tr>\n",
       "    <tr>\n",
       "      <th>PaymentScreenSuccessful</th>\n",
       "      <td>1181</td>\n",
       "      <td>0.466</td>\n",
       "      <td>0.960</td>\n",
       "    </tr>\n",
       "  </tbody>\n",
       "</table>\n",
       "</div>"
      ],
      "text/plain": [
       "                         quantity_of_users  conversion  conversion_per_step\n",
       "event_name                                                                 \n",
       "MainScreenAppear                      2493       0.983                1.000\n",
       "OffersScreenAppear                    1531       0.603                0.614\n",
       "CartScreenAppear                      1230       0.485                0.803\n",
       "PaymentScreenSuccessful               1181       0.466                0.960"
      ]
     },
     "execution_count": 37,
     "metadata": {},
     "output_type": "execute_result"
    }
   ],
   "source": [
    "exp_248 = count_users_by_events(logs_relevant, 248)\n",
    "exp_248 = get_conversion(exp_248, logs_relevant, 248)\n",
    "exp_248 = get_conversion_per_step(exp_248)\n",
    "exp_248"
   ]
  },
  {
   "cell_type": "markdown",
   "id": "2819df22",
   "metadata": {},
   "source": [
    "Проведем A/B тесты в отдельности с каждой A группой."
   ]
  },
  {
   "cell_type": "markdown",
   "id": "3f8e45f9",
   "metadata": {},
   "source": [
    "Для начала A/B тестирования сформируем гипотезы - нулевую и альтернативную:\n",
    "```\n",
    "H_0: Конверсия конкретного события группы 246 (А) = конверсия конкретного события группы 248 (B)\n",
    "H_a: Конверсия конкретного события групп 246 (А) ≠ конверсия конкретного события группы 248 (B)\n",
    "\n",
    "alpha=0.05\n",
    "```"
   ]
  },
  {
   "cell_type": "code",
   "execution_count": 38,
   "id": "c769a085",
   "metadata": {},
   "outputs": [
    {
     "name": "stdout",
     "output_type": "stream",
     "text": [
      "p-значение: 0.2950\n",
      "Не получилось отвергнуть нулевую гипотезу,\n",
      "вывод о различии долей между группами 246 и 248\n",
      "по MainScreenAppear сделать нельзя\n",
      "\n",
      "p-значение: 0.0784\n",
      "Не получилось отвергнуть нулевую гипотезу,\n",
      "вывод о различии долей между группами 246 и 248\n",
      "по CartScreenAppear сделать нельзя\n",
      "\n",
      "p-значение: 0.2084\n",
      "Не получилось отвергнуть нулевую гипотезу,\n",
      "вывод о различии долей между группами 246 и 248\n",
      "по OffersScreenAppear сделать нельзя\n",
      "\n",
      "p-значение: 0.2123\n",
      "Не получилось отвергнуть нулевую гипотезу,\n",
      "вывод о различии долей между группами 246 и 248\n",
      "по PaymentScreenSuccessful сделать нельзя\n",
      "\n"
     ]
    }
   ],
   "source": [
    "# проверим выборки 246 и 248\n",
    "\n",
    "for event in events:\n",
    "    check_hypothesis(246, 248, event)\n",
    "    print()"
   ]
  },
  {
   "cell_type": "markdown",
   "id": "9e07ddc1",
   "metadata": {},
   "source": [
    "Для начала A/B тестирования сформируем гипотезы - нулевую и альтернативную:\n",
    "```\n",
    "H_0: Конверсия конкретного события группы 247 (А) = конверсия конкретного события группы 248 (B)\n",
    "H_a: Конверсия конкретного события группы 247 (А) ≠ конверсия конкретного события группы 248 (B)\n",
    "\n",
    "alpha=0.05\n",
    "```"
   ]
  },
  {
   "cell_type": "code",
   "execution_count": 39,
   "id": "ba5e195e",
   "metadata": {},
   "outputs": [
    {
     "name": "stdout",
     "output_type": "stream",
     "text": [
      "p-значение: 0.4587\n",
      "Не получилось отвергнуть нулевую гипотезу,\n",
      "вывод о различии долей между группами 247 и 248\n",
      "по MainScreenAppear сделать нельзя\n",
      "\n",
      "p-значение: 0.5786\n",
      "Не получилось отвергнуть нулевую гипотезу,\n",
      "вывод о различии долей между группами 247 и 248\n",
      "по CartScreenAppear сделать нельзя\n",
      "\n",
      "p-значение: 0.9198\n",
      "Не получилось отвергнуть нулевую гипотезу,\n",
      "вывод о различии долей между группами 247 и 248\n",
      "по OffersScreenAppear сделать нельзя\n",
      "\n",
      "p-значение: 0.7373\n",
      "Не получилось отвергнуть нулевую гипотезу,\n",
      "вывод о различии долей между группами 247 и 248\n",
      "по PaymentScreenSuccessful сделать нельзя\n",
      "\n"
     ]
    }
   ],
   "source": [
    "# проверим выборки 247 и 248\n",
    "\n",
    "for event in events:\n",
    "    check_hypothesis(247, 248, event)\n",
    "    print()"
   ]
  },
  {
   "cell_type": "code",
   "execution_count": 40,
   "id": "7aeabe8a",
   "metadata": {
    "scrolled": true
   },
   "outputs": [
    {
     "data": {
      "text/html": [
       "<div>\n",
       "<style scoped>\n",
       "    .dataframe tbody tr th:only-of-type {\n",
       "        vertical-align: middle;\n",
       "    }\n",
       "\n",
       "    .dataframe tbody tr th {\n",
       "        vertical-align: top;\n",
       "    }\n",
       "\n",
       "    .dataframe thead th {\n",
       "        text-align: right;\n",
       "    }\n",
       "</style>\n",
       "<table border=\"1\" class=\"dataframe\">\n",
       "  <thead>\n",
       "    <tr style=\"text-align: right;\">\n",
       "      <th></th>\n",
       "      <th>quantity_of_users</th>\n",
       "      <th>conversion</th>\n",
       "      <th>conversion_per_step</th>\n",
       "    </tr>\n",
       "    <tr>\n",
       "      <th>event_name</th>\n",
       "      <th></th>\n",
       "      <th></th>\n",
       "      <th></th>\n",
       "    </tr>\n",
       "  </thead>\n",
       "  <tbody>\n",
       "    <tr>\n",
       "      <th>MainScreenAppear</th>\n",
       "      <td>4926</td>\n",
       "      <td>0.986</td>\n",
       "      <td>1.000</td>\n",
       "    </tr>\n",
       "    <tr>\n",
       "      <th>OffersScreenAppear</th>\n",
       "      <td>3062</td>\n",
       "      <td>0.613</td>\n",
       "      <td>0.622</td>\n",
       "    </tr>\n",
       "    <tr>\n",
       "      <th>CartScreenAppear</th>\n",
       "      <td>2504</td>\n",
       "      <td>0.501</td>\n",
       "      <td>0.818</td>\n",
       "    </tr>\n",
       "    <tr>\n",
       "      <th>PaymentScreenSuccessful</th>\n",
       "      <td>2358</td>\n",
       "      <td>0.472</td>\n",
       "      <td>0.942</td>\n",
       "    </tr>\n",
       "  </tbody>\n",
       "</table>\n",
       "</div>"
      ],
      "text/plain": [
       "                         quantity_of_users  conversion  conversion_per_step\n",
       "event_name                                                                 \n",
       "MainScreenAppear                      4926       0.986                1.000\n",
       "OffersScreenAppear                    3062       0.613                0.622\n",
       "CartScreenAppear                      2504       0.501                0.818\n",
       "PaymentScreenSuccessful               2358       0.472                0.942"
      ]
     },
     "execution_count": 40,
     "metadata": {},
     "output_type": "execute_result"
    }
   ],
   "source": [
    "# сделаем объединенную AA выборку\n",
    "\n",
    "exp_AA = count_users_by_events(logs_relevant, [246, 247])\n",
    "exp_AA = get_conversion(exp_AA, logs_relevant, [246, 247])\n",
    "exp_AA = get_conversion_per_step(exp_AA)\n",
    "\n",
    "exp_AA"
   ]
  },
  {
   "cell_type": "code",
   "execution_count": 41,
   "id": "61846534",
   "metadata": {},
   "outputs": [
    {
     "data": {
      "text/plain": [
       "event_name\n",
       "MainScreenAppear           0.000\n",
       "OffersScreenAppear         0.008\n",
       "CartScreenAppear           0.015\n",
       "PaymentScreenSuccessful   -0.018\n",
       "Name: conversion_per_step, dtype: float64"
      ]
     },
     "execution_count": 41,
     "metadata": {},
     "output_type": "execute_result"
    }
   ],
   "source": [
    "# разница долей пользователей совершивших событие\n",
    "# между группами AA и B\n",
    "\n",
    "delta_AAB_rel_users = exp_AA['conversion_per_step'] - exp_248['conversion_per_step']\n",
    "delta_AAB_rel_users"
   ]
  },
  {
   "cell_type": "markdown",
   "id": "e94c8616",
   "metadata": {},
   "source": [
    "**Вывод:** из полученных рассчётов мы можем увидеть, что значительных различий в долях между выборками нет. Соответственно у нас нет оснований считать доли разными."
   ]
  },
  {
   "cell_type": "markdown",
   "id": "1c52be59",
   "metadata": {},
   "source": [
    "Для начала A/B тестирования сформируем гипотезы - нулевую и альтернативную:\n",
    "```\n",
    "H_0: Конверсия конкретного события группы 246, 247 (АA) = конверсия конкретного события группы 248 (B)\n",
    "H_a: Конверсия конкретного события группы 246, 247 (АA) ≠ конверсия конкретного события группы 248 (B)\n",
    "\n",
    "alpha=0.05\n",
    "```"
   ]
  },
  {
   "cell_type": "code",
   "execution_count": 42,
   "id": "d3d58140",
   "metadata": {},
   "outputs": [
    {
     "name": "stdout",
     "output_type": "stream",
     "text": [
      "p-значение: 0.2942\n",
      "Не получилось отвергнуть нулевую гипотезу,\n",
      "вывод о различии долей между группами [246, 247] и 248\n",
      "по MainScreenAppear сделать нельзя\n",
      "\n",
      "p-значение: 0.1818\n",
      "Не получилось отвергнуть нулевую гипотезу,\n",
      "вывод о различии долей между группами [246, 247] и 248\n",
      "по CartScreenAppear сделать нельзя\n",
      "\n",
      "p-значение: 0.4343\n",
      "Не получилось отвергнуть нулевую гипотезу,\n",
      "вывод о различии долей между группами [246, 247] и 248\n",
      "по OffersScreenAppear сделать нельзя\n",
      "\n",
      "p-значение: 0.6004\n",
      "Не получилось отвергнуть нулевую гипотезу,\n",
      "вывод о различии долей между группами [246, 247] и 248\n",
      "по PaymentScreenSuccessful сделать нельзя\n",
      "\n"
     ]
    }
   ],
   "source": [
    "# проверим выборки AA(246+247) и B(248)\n",
    "\n",
    "for event in events:\n",
    "    check_hypothesis([246, 247], 248, event)\n",
    "    print()"
   ]
  },
  {
   "cell_type": "markdown",
   "id": "715621ef",
   "metadata": {},
   "source": [
    "**Вывод:** не получилось отвергнуть нулевую гипотезу по каждому событию в сравнении выборок: 246 и 247, 246 и 248, 247 и 248, 246+247 и 248. Это означает что у нас нет оснований считать конверсии по каждому событию в этих группах разными."
   ]
  },
  {
   "cell_type": "markdown",
   "id": "ed47afd7",
   "metadata": {},
   "source": [
    "Какой уровень значимости вы выбрали при проверке статистических гипотез выше? Посчитайте, сколько проверок статистических гипотез вы сделали. При уровне значимости 0.1 каждый десятый раз можно получать ложный результат. Какой уровень значимости стоит применить? Если вы хотите изменить его, проделайте предыдущие пункты и проверьте свои выводы."
   ]
  },
  {
   "cell_type": "markdown",
   "id": "4b6c59ef",
   "metadata": {},
   "source": [
    "Было проведено 16 проверок статистических гипотез. Критический уровень статистической значимости был выбран 5% или же 0.05, а например не 10%, это объясняется тем, что при повышении α увеличивается вероятность ошибки первого рода (значит увеличился критический регион, при попадании в который нулевую гипотезу отвергают), т.е. будет больше ложных срабатываний, но при этом снижаются риски принять неверное для бизнеса решение."
   ]
  },
  {
   "cell_type": "markdown",
   "id": "8cbb6f71",
   "metadata": {},
   "source": [
    "## Итог проведенных экспериментов"
   ]
  },
  {
   "cell_type": "markdown",
   "id": "1d72b205",
   "metadata": {},
   "source": [
    "**Общий вывод:** \n",
    "\n",
    "Определим какие шаги совершает пользователь к покупкам:\n",
    "- заходит в основное меню приложения;\n",
    "- заходит на экран предложений;\n",
    "- добавляет продукты в корзину;\n",
    "- переходит на экран оплаты.\n",
    "\n",
    "\n",
    "Из проведенных A/A/B тестирований выяснилось что нет оснований считать разными распределения по каждому событию между группами, следовательно новый шрифт никак не повлиял на поведение пользователей и можно оставить старый шрифт."
   ]
  }
 ],
 "metadata": {
  "ExecuteTimeLog": [
   {
    "duration": 1205,
    "start_time": "2023-05-04T22:23:43.140Z"
   },
   {
    "duration": 24,
    "start_time": "2023-05-04T22:23:44.347Z"
   },
   {
    "duration": 242,
    "start_time": "2023-05-04T22:23:44.373Z"
   },
   {
    "duration": 12,
    "start_time": "2023-05-04T22:23:44.617Z"
   },
   {
    "duration": 41,
    "start_time": "2023-05-04T22:23:44.631Z"
   },
   {
    "duration": 3,
    "start_time": "2023-05-04T22:23:44.674Z"
   },
   {
    "duration": 101,
    "start_time": "2023-05-04T22:23:44.678Z"
   },
   {
    "duration": 3,
    "start_time": "2023-05-04T22:23:44.781Z"
   },
   {
    "duration": 147,
    "start_time": "2023-05-04T22:23:44.786Z"
   },
   {
    "duration": 216,
    "start_time": "2023-05-04T22:23:44.936Z"
   },
   {
    "duration": 25,
    "start_time": "2023-05-04T22:23:45.154Z"
   },
   {
    "duration": 24,
    "start_time": "2023-05-04T22:23:45.180Z"
   },
   {
    "duration": 29,
    "start_time": "2023-05-04T22:23:45.205Z"
   },
   {
    "duration": 6,
    "start_time": "2023-05-04T22:23:45.235Z"
   },
   {
    "duration": 357,
    "start_time": "2023-05-04T22:23:45.243Z"
   },
   {
    "duration": 16,
    "start_time": "2023-05-04T22:23:45.603Z"
   },
   {
    "duration": 36,
    "start_time": "2023-05-04T22:23:45.621Z"
   },
   {
    "duration": 47,
    "start_time": "2023-05-04T22:23:45.659Z"
   },
   {
    "duration": 34,
    "start_time": "2023-05-04T22:23:45.708Z"
   },
   {
    "duration": 58,
    "start_time": "2023-05-04T22:23:45.743Z"
   },
   {
    "duration": 75,
    "start_time": "2023-05-04T22:23:45.803Z"
   },
   {
    "duration": 11,
    "start_time": "2023-05-04T22:23:45.880Z"
   },
   {
    "duration": 12,
    "start_time": "2023-05-04T22:23:45.893Z"
   },
   {
    "duration": 14,
    "start_time": "2023-05-04T22:23:45.906Z"
   },
   {
    "duration": 27,
    "start_time": "2023-05-04T22:23:45.922Z"
   },
   {
    "duration": 22,
    "start_time": "2023-05-04T22:23:45.951Z"
   },
   {
    "duration": 14,
    "start_time": "2023-05-04T22:23:45.974Z"
   },
   {
    "duration": 42,
    "start_time": "2023-05-04T22:23:45.991Z"
   },
   {
    "duration": 44,
    "start_time": "2023-05-04T22:23:46.035Z"
   },
   {
    "duration": 5,
    "start_time": "2023-05-04T22:23:46.081Z"
   },
   {
    "duration": 7,
    "start_time": "2023-05-04T22:23:46.088Z"
   },
   {
    "duration": 31,
    "start_time": "2023-05-04T22:23:46.097Z"
   },
   {
    "duration": 17,
    "start_time": "2023-05-04T22:23:46.130Z"
   },
   {
    "duration": 12,
    "start_time": "2023-05-04T22:23:46.149Z"
   },
   {
    "duration": 14,
    "start_time": "2023-05-04T22:23:46.163Z"
   },
   {
    "duration": 62,
    "start_time": "2023-05-04T22:23:46.179Z"
   },
   {
    "duration": 4,
    "start_time": "2023-05-04T22:23:46.242Z"
   },
   {
    "duration": 19,
    "start_time": "2023-05-04T22:23:46.258Z"
   },
   {
    "duration": 101,
    "start_time": "2023-05-04T22:23:46.279Z"
   },
   {
    "duration": 6,
    "start_time": "2023-05-04T22:23:46.381Z"
   },
   {
    "duration": 36,
    "start_time": "2023-05-04T22:23:46.388Z"
   },
   {
    "duration": 14,
    "start_time": "2023-05-04T22:30:18.391Z"
   },
   {
    "duration": 655,
    "start_time": "2023-05-04T22:30:25.252Z"
   },
   {
    "duration": 1432,
    "start_time": "2023-05-06T11:46:47.424Z"
   },
   {
    "duration": 16,
    "start_time": "2023-05-06T11:46:48.865Z"
   },
   {
    "duration": 882,
    "start_time": "2023-05-06T11:46:48.883Z"
   },
   {
    "duration": 11,
    "start_time": "2023-05-06T11:46:49.766Z"
   },
   {
    "duration": 25,
    "start_time": "2023-05-06T11:46:49.779Z"
   },
   {
    "duration": 19,
    "start_time": "2023-05-06T11:50:50.453Z"
   },
   {
    "duration": 13,
    "start_time": "2023-05-06T11:51:20.097Z"
   },
   {
    "duration": 13,
    "start_time": "2023-05-06T11:52:43.719Z"
   },
   {
    "duration": 14,
    "start_time": "2023-05-06T11:53:31.455Z"
   },
   {
    "duration": 17,
    "start_time": "2023-05-06T11:53:44.067Z"
   },
   {
    "duration": 4,
    "start_time": "2023-05-06T11:54:11.514Z"
   },
   {
    "duration": 5,
    "start_time": "2023-05-06T11:59:56.450Z"
   },
   {
    "duration": 33,
    "start_time": "2023-05-06T11:59:56.457Z"
   },
   {
    "duration": 279,
    "start_time": "2023-05-06T11:59:56.492Z"
   },
   {
    "duration": 11,
    "start_time": "2023-05-06T11:59:56.774Z"
   },
   {
    "duration": 55,
    "start_time": "2023-05-06T11:59:56.787Z"
   },
   {
    "duration": 4,
    "start_time": "2023-05-06T11:59:56.844Z"
   },
   {
    "duration": 142,
    "start_time": "2023-05-06T11:59:56.850Z"
   },
   {
    "duration": 2,
    "start_time": "2023-05-06T11:59:56.997Z"
   },
   {
    "duration": 137,
    "start_time": "2023-05-06T11:59:57.001Z"
   },
   {
    "duration": 225,
    "start_time": "2023-05-06T11:59:57.141Z"
   },
   {
    "duration": 39,
    "start_time": "2023-05-06T11:59:57.791Z"
   },
   {
    "duration": 209,
    "start_time": "2023-05-06T12:02:10.646Z"
   },
   {
    "duration": 214,
    "start_time": "2023-05-06T12:05:12.853Z"
   },
   {
    "duration": 51,
    "start_time": "2023-05-06T12:11:10.955Z"
   },
   {
    "duration": 102,
    "start_time": "2023-05-06T12:11:22.285Z"
   },
   {
    "duration": 309,
    "start_time": "2023-05-06T12:11:26.286Z"
   },
   {
    "duration": 206,
    "start_time": "2023-05-06T12:11:54.349Z"
   },
   {
    "duration": 188,
    "start_time": "2023-05-06T12:12:20.404Z"
   },
   {
    "duration": 201,
    "start_time": "2023-05-06T12:12:33.300Z"
   },
   {
    "duration": 221,
    "start_time": "2023-05-06T12:13:13.389Z"
   },
   {
    "duration": 232,
    "start_time": "2023-05-06T12:13:18.516Z"
   },
   {
    "duration": 253,
    "start_time": "2023-05-06T12:13:23.100Z"
   },
   {
    "duration": 15,
    "start_time": "2023-05-06T12:15:20.555Z"
   },
   {
    "duration": 217,
    "start_time": "2023-05-06T12:15:26.906Z"
   },
   {
    "duration": 884,
    "start_time": "2023-05-06T12:18:31.087Z"
   },
   {
    "duration": 121,
    "start_time": "2023-05-06T12:21:41.419Z"
   },
   {
    "duration": 784,
    "start_time": "2023-05-06T12:21:53.770Z"
   },
   {
    "duration": 1057,
    "start_time": "2023-05-06T12:22:06.251Z"
   },
   {
    "duration": 9,
    "start_time": "2023-05-06T12:24:05.697Z"
   },
   {
    "duration": 4,
    "start_time": "2023-05-06T12:24:10.619Z"
   },
   {
    "duration": 18,
    "start_time": "2023-05-06T12:24:10.625Z"
   },
   {
    "duration": 212,
    "start_time": "2023-05-06T12:24:10.648Z"
   },
   {
    "duration": 8,
    "start_time": "2023-05-06T12:24:10.863Z"
   },
   {
    "duration": 30,
    "start_time": "2023-05-06T12:24:10.873Z"
   },
   {
    "duration": 3,
    "start_time": "2023-05-06T12:24:10.905Z"
   },
   {
    "duration": 99,
    "start_time": "2023-05-06T12:24:10.910Z"
   },
   {
    "duration": 2,
    "start_time": "2023-05-06T12:24:11.011Z"
   },
   {
    "duration": 127,
    "start_time": "2023-05-06T12:24:11.016Z"
   },
   {
    "duration": 232,
    "start_time": "2023-05-06T12:24:11.149Z"
   },
   {
    "duration": 49,
    "start_time": "2023-05-06T12:24:11.383Z"
   },
   {
    "duration": 20,
    "start_time": "2023-05-06T12:24:11.436Z"
   },
   {
    "duration": 7,
    "start_time": "2023-05-06T12:24:11.458Z"
   },
   {
    "duration": 18,
    "start_time": "2023-05-06T12:24:11.467Z"
   },
   {
    "duration": 982,
    "start_time": "2023-05-06T12:24:11.487Z"
   },
   {
    "duration": 6,
    "start_time": "2023-05-06T12:24:12.470Z"
   },
   {
    "duration": 745,
    "start_time": "2023-05-06T12:24:12.477Z"
   },
   {
    "duration": 649,
    "start_time": "2023-05-06T12:24:13.224Z"
   },
   {
    "duration": 14,
    "start_time": "2023-05-06T12:24:13.875Z"
   },
   {
    "duration": 15,
    "start_time": "2023-05-06T12:24:13.890Z"
   },
   {
    "duration": 52,
    "start_time": "2023-05-06T12:24:13.908Z"
   },
   {
    "duration": 33,
    "start_time": "2023-05-06T12:24:37.347Z"
   },
   {
    "duration": 14,
    "start_time": "2023-05-06T12:24:39.847Z"
   },
   {
    "duration": 14,
    "start_time": "2023-05-06T12:24:43.687Z"
   },
   {
    "duration": 31,
    "start_time": "2023-05-06T12:24:47.295Z"
   },
   {
    "duration": 33,
    "start_time": "2023-05-06T12:25:02.999Z"
   },
   {
    "duration": 29,
    "start_time": "2023-05-06T12:25:12.574Z"
   },
   {
    "duration": 18,
    "start_time": "2023-05-06T12:25:24.783Z"
   },
   {
    "duration": 32,
    "start_time": "2023-05-06T12:26:25.669Z"
   },
   {
    "duration": 57,
    "start_time": "2023-05-06T12:29:58.785Z"
   },
   {
    "duration": 86,
    "start_time": "2023-05-06T12:40:51.918Z"
   },
   {
    "duration": 62,
    "start_time": "2023-05-06T12:42:40.565Z"
   },
   {
    "duration": 10,
    "start_time": "2023-05-06T12:42:51.652Z"
   },
   {
    "duration": 1026,
    "start_time": "2023-05-06T12:42:55.028Z"
   },
   {
    "duration": 1011,
    "start_time": "2023-05-06T12:43:23.885Z"
   },
   {
    "duration": 13,
    "start_time": "2023-05-06T12:43:34.973Z"
   },
   {
    "duration": 59,
    "start_time": "2023-05-06T12:45:12.386Z"
   },
   {
    "duration": 9,
    "start_time": "2023-05-06T12:45:16.747Z"
   },
   {
    "duration": 3,
    "start_time": "2023-05-06T12:45:19.602Z"
   },
   {
    "duration": 10,
    "start_time": "2023-05-06T12:45:58.209Z"
   },
   {
    "duration": 1253,
    "start_time": "2023-05-06T12:46:12.684Z"
   },
   {
    "duration": 12,
    "start_time": "2023-05-06T12:46:13.947Z"
   },
   {
    "duration": 244,
    "start_time": "2023-05-06T12:46:13.961Z"
   },
   {
    "duration": 12,
    "start_time": "2023-05-06T12:46:14.207Z"
   },
   {
    "duration": 37,
    "start_time": "2023-05-06T12:46:14.220Z"
   },
   {
    "duration": 3,
    "start_time": "2023-05-06T12:46:14.259Z"
   },
   {
    "duration": 125,
    "start_time": "2023-05-06T12:46:14.263Z"
   },
   {
    "duration": 3,
    "start_time": "2023-05-06T12:46:14.391Z"
   },
   {
    "duration": 164,
    "start_time": "2023-05-06T12:46:14.396Z"
   },
   {
    "duration": 295,
    "start_time": "2023-05-06T12:46:14.564Z"
   },
   {
    "duration": 44,
    "start_time": "2023-05-06T12:46:14.861Z"
   },
   {
    "duration": 34,
    "start_time": "2023-05-06T12:46:14.907Z"
   },
   {
    "duration": 16,
    "start_time": "2023-05-06T12:46:14.943Z"
   },
   {
    "duration": 20,
    "start_time": "2023-05-06T12:46:14.961Z"
   },
   {
    "duration": 818,
    "start_time": "2023-05-06T12:46:14.982Z"
   },
   {
    "duration": 5,
    "start_time": "2023-05-06T12:46:15.802Z"
   },
   {
    "duration": 939,
    "start_time": "2023-05-06T12:46:15.808Z"
   },
   {
    "duration": 901,
    "start_time": "2023-05-06T12:46:16.749Z"
   },
   {
    "duration": 16,
    "start_time": "2023-05-06T12:46:17.652Z"
   },
   {
    "duration": 18,
    "start_time": "2023-05-06T12:46:17.669Z"
   },
   {
    "duration": 58,
    "start_time": "2023-05-06T12:46:17.688Z"
   },
   {
    "duration": 34,
    "start_time": "2023-05-06T12:46:17.748Z"
   },
   {
    "duration": 31,
    "start_time": "2023-05-06T12:46:17.784Z"
   },
   {
    "duration": 74,
    "start_time": "2023-05-06T12:46:17.816Z"
   },
   {
    "duration": 10,
    "start_time": "2023-05-06T12:46:17.891Z"
   },
   {
    "duration": 12,
    "start_time": "2023-05-06T12:46:17.902Z"
   },
   {
    "duration": 134,
    "start_time": "2023-05-06T12:46:17.917Z"
   },
   {
    "duration": 439,
    "start_time": "2023-05-06T12:46:25.581Z"
   },
   {
    "duration": 66,
    "start_time": "2023-05-06T12:50:54.910Z"
   },
   {
    "duration": 4,
    "start_time": "2023-05-06T12:51:16.620Z"
   },
   {
    "duration": 61,
    "start_time": "2023-05-06T12:51:16.627Z"
   },
   {
    "duration": 275,
    "start_time": "2023-05-06T12:51:16.690Z"
   },
   {
    "duration": 15,
    "start_time": "2023-05-06T12:51:16.967Z"
   },
   {
    "duration": 38,
    "start_time": "2023-05-06T12:51:16.985Z"
   },
   {
    "duration": 34,
    "start_time": "2023-05-06T12:51:17.025Z"
   },
   {
    "duration": 133,
    "start_time": "2023-05-06T12:51:17.062Z"
   },
   {
    "duration": 2,
    "start_time": "2023-05-06T12:51:17.197Z"
   },
   {
    "duration": 128,
    "start_time": "2023-05-06T12:51:17.202Z"
   },
   {
    "duration": 282,
    "start_time": "2023-05-06T12:51:17.333Z"
   },
   {
    "duration": 60,
    "start_time": "2023-05-06T12:51:17.618Z"
   },
   {
    "duration": 15,
    "start_time": "2023-05-06T12:51:17.681Z"
   },
   {
    "duration": 12,
    "start_time": "2023-05-06T12:51:17.698Z"
   },
   {
    "duration": 46,
    "start_time": "2023-05-06T12:51:17.712Z"
   },
   {
    "duration": 890,
    "start_time": "2023-05-06T12:51:17.760Z"
   },
   {
    "duration": 6,
    "start_time": "2023-05-06T12:51:18.653Z"
   },
   {
    "duration": 901,
    "start_time": "2023-05-06T12:51:18.660Z"
   },
   {
    "duration": 703,
    "start_time": "2023-05-06T12:51:19.563Z"
   },
   {
    "duration": 16,
    "start_time": "2023-05-06T12:51:20.267Z"
   },
   {
    "duration": 14,
    "start_time": "2023-05-06T12:51:20.285Z"
   },
   {
    "duration": 57,
    "start_time": "2023-05-06T12:51:20.301Z"
   },
   {
    "duration": 32,
    "start_time": "2023-05-06T12:51:20.360Z"
   },
   {
    "duration": 65,
    "start_time": "2023-05-06T12:51:20.394Z"
   },
   {
    "duration": 49,
    "start_time": "2023-05-06T12:51:20.462Z"
   },
   {
    "duration": 21,
    "start_time": "2023-05-06T12:51:20.513Z"
   },
   {
    "duration": 13,
    "start_time": "2023-05-06T12:51:20.546Z"
   },
   {
    "duration": 31,
    "start_time": "2023-05-06T12:51:20.561Z"
   },
   {
    "duration": 22,
    "start_time": "2023-05-06T12:54:11.730Z"
   },
   {
    "duration": 16,
    "start_time": "2023-05-06T12:56:24.769Z"
   },
   {
    "duration": 1001,
    "start_time": "2023-05-06T13:00:18.982Z"
   },
   {
    "duration": 882,
    "start_time": "2023-05-06T13:00:53.828Z"
   },
   {
    "duration": 881,
    "start_time": "2023-05-06T13:01:19.323Z"
   },
   {
    "duration": 872,
    "start_time": "2023-05-06T13:01:43.846Z"
   },
   {
    "duration": 1219,
    "start_time": "2023-05-06T13:02:14.973Z"
   },
   {
    "duration": 795,
    "start_time": "2023-05-06T13:02:25.114Z"
   },
   {
    "duration": 1080,
    "start_time": "2023-05-06T13:02:39.668Z"
   },
   {
    "duration": 13,
    "start_time": "2023-05-06T13:29:33.833Z"
   },
   {
    "duration": 3,
    "start_time": "2023-05-06T13:33:54.272Z"
   },
   {
    "duration": 14,
    "start_time": "2023-05-06T13:33:54.277Z"
   },
   {
    "duration": 230,
    "start_time": "2023-05-06T13:33:54.293Z"
   },
   {
    "duration": 20,
    "start_time": "2023-05-06T13:33:54.525Z"
   },
   {
    "duration": 18,
    "start_time": "2023-05-06T13:33:54.548Z"
   },
   {
    "duration": 3,
    "start_time": "2023-05-06T13:33:54.567Z"
   },
   {
    "duration": 88,
    "start_time": "2023-05-06T13:33:54.571Z"
   },
   {
    "duration": 2,
    "start_time": "2023-05-06T13:33:54.661Z"
   },
   {
    "duration": 101,
    "start_time": "2023-05-06T13:33:54.665Z"
   },
   {
    "duration": 201,
    "start_time": "2023-05-06T13:33:54.768Z"
   },
   {
    "duration": 37,
    "start_time": "2023-05-06T13:33:54.971Z"
   },
   {
    "duration": 33,
    "start_time": "2023-05-06T13:33:55.009Z"
   },
   {
    "duration": 8,
    "start_time": "2023-05-06T13:33:55.048Z"
   },
   {
    "duration": 18,
    "start_time": "2023-05-06T13:33:55.058Z"
   },
   {
    "duration": 938,
    "start_time": "2023-05-06T13:33:55.077Z"
   },
   {
    "duration": 6,
    "start_time": "2023-05-06T13:33:56.018Z"
   },
   {
    "duration": 677,
    "start_time": "2023-05-06T13:33:56.025Z"
   },
   {
    "duration": 682,
    "start_time": "2023-05-06T13:33:56.704Z"
   },
   {
    "duration": 16,
    "start_time": "2023-05-06T13:33:57.388Z"
   },
   {
    "duration": 13,
    "start_time": "2023-05-06T13:33:57.406Z"
   },
   {
    "duration": 28,
    "start_time": "2023-05-06T13:33:57.444Z"
   },
   {
    "duration": 28,
    "start_time": "2023-05-06T13:33:57.474Z"
   },
   {
    "duration": 45,
    "start_time": "2023-05-06T13:33:57.504Z"
   },
   {
    "duration": 50,
    "start_time": "2023-05-06T13:33:57.551Z"
   },
   {
    "duration": 8,
    "start_time": "2023-05-06T13:33:57.603Z"
   },
   {
    "duration": 23,
    "start_time": "2023-05-06T13:33:57.613Z"
   },
   {
    "duration": 9,
    "start_time": "2023-05-06T13:33:57.641Z"
   },
   {
    "duration": 4,
    "start_time": "2023-05-06T13:33:57.652Z"
   },
   {
    "duration": 6,
    "start_time": "2023-05-06T13:33:57.657Z"
   },
   {
    "duration": 7,
    "start_time": "2023-05-06T13:33:57.665Z"
   },
   {
    "duration": 11,
    "start_time": "2023-05-06T13:33:57.673Z"
   },
   {
    "duration": 58,
    "start_time": "2023-05-06T13:33:57.686Z"
   },
   {
    "duration": 24,
    "start_time": "2023-05-06T13:34:36.831Z"
   },
   {
    "duration": 18,
    "start_time": "2023-05-06T14:09:26.879Z"
   },
   {
    "duration": 12,
    "start_time": "2023-05-06T14:11:05.126Z"
   },
   {
    "duration": 1234,
    "start_time": "2023-05-06T14:12:25.693Z"
   },
   {
    "duration": 13,
    "start_time": "2023-05-06T14:12:26.929Z"
   },
   {
    "duration": 250,
    "start_time": "2023-05-06T14:12:26.943Z"
   },
   {
    "duration": 12,
    "start_time": "2023-05-06T14:12:27.195Z"
   },
   {
    "duration": 29,
    "start_time": "2023-05-06T14:12:27.209Z"
   },
   {
    "duration": 7,
    "start_time": "2023-05-06T14:12:27.244Z"
   },
   {
    "duration": 76,
    "start_time": "2023-05-06T14:12:27.253Z"
   },
   {
    "duration": 4,
    "start_time": "2023-05-06T14:12:27.331Z"
   },
   {
    "duration": 137,
    "start_time": "2023-05-06T14:12:27.338Z"
   },
   {
    "duration": 195,
    "start_time": "2023-05-06T14:12:27.478Z"
   },
   {
    "duration": 38,
    "start_time": "2023-05-06T14:12:27.674Z"
   },
   {
    "duration": 35,
    "start_time": "2023-05-06T14:12:27.713Z"
   },
   {
    "duration": 7,
    "start_time": "2023-05-06T14:12:27.750Z"
   },
   {
    "duration": 18,
    "start_time": "2023-05-06T14:12:27.759Z"
   },
   {
    "duration": 849,
    "start_time": "2023-05-06T14:12:27.778Z"
   },
   {
    "duration": 10,
    "start_time": "2023-05-06T14:12:28.634Z"
   },
   {
    "duration": 853,
    "start_time": "2023-05-06T14:12:28.646Z"
   },
   {
    "duration": 665,
    "start_time": "2023-05-06T14:12:29.501Z"
   },
   {
    "duration": 15,
    "start_time": "2023-05-06T14:12:30.168Z"
   },
   {
    "duration": 18,
    "start_time": "2023-05-06T14:12:30.184Z"
   },
   {
    "duration": 50,
    "start_time": "2023-05-06T14:12:30.203Z"
   },
   {
    "duration": 59,
    "start_time": "2023-05-06T14:12:30.255Z"
   },
   {
    "duration": 40,
    "start_time": "2023-05-06T14:12:30.316Z"
   },
   {
    "duration": 91,
    "start_time": "2023-05-06T14:12:30.358Z"
   },
   {
    "duration": 36,
    "start_time": "2023-05-06T14:12:30.451Z"
   },
   {
    "duration": 60,
    "start_time": "2023-05-06T14:12:30.488Z"
   },
   {
    "duration": 322,
    "start_time": "2023-05-06T14:12:30.550Z"
   },
   {
    "duration": 4,
    "start_time": "2023-05-06T14:12:30.876Z"
   },
   {
    "duration": 44,
    "start_time": "2023-05-06T14:12:30.882Z"
   },
   {
    "duration": 75,
    "start_time": "2023-05-06T14:12:30.928Z"
   },
   {
    "duration": 66,
    "start_time": "2023-05-06T14:12:31.004Z"
   },
   {
    "duration": 81,
    "start_time": "2023-05-06T14:12:31.071Z"
   },
   {
    "duration": 93,
    "start_time": "2023-05-06T14:12:31.154Z"
   },
   {
    "duration": 20,
    "start_time": "2023-05-06T14:12:31.249Z"
   },
   {
    "duration": 124,
    "start_time": "2023-05-06T14:12:31.271Z"
   },
   {
    "duration": 0,
    "start_time": "2023-05-06T14:12:31.396Z"
   },
   {
    "duration": 0,
    "start_time": "2023-05-06T14:12:31.397Z"
   },
   {
    "duration": 0,
    "start_time": "2023-05-06T14:12:31.398Z"
   },
   {
    "duration": 0,
    "start_time": "2023-05-06T14:12:31.399Z"
   },
   {
    "duration": 0,
    "start_time": "2023-05-06T14:12:31.400Z"
   },
   {
    "duration": 0,
    "start_time": "2023-05-06T14:12:31.401Z"
   },
   {
    "duration": 0,
    "start_time": "2023-05-06T14:12:31.402Z"
   },
   {
    "duration": 0,
    "start_time": "2023-05-06T14:12:31.403Z"
   },
   {
    "duration": 0,
    "start_time": "2023-05-06T14:12:31.405Z"
   },
   {
    "duration": 0,
    "start_time": "2023-05-06T14:12:31.406Z"
   },
   {
    "duration": 0,
    "start_time": "2023-05-06T14:12:31.406Z"
   },
   {
    "duration": 0,
    "start_time": "2023-05-06T14:12:31.407Z"
   },
   {
    "duration": 0,
    "start_time": "2023-05-06T14:12:31.408Z"
   },
   {
    "duration": 2106,
    "start_time": "2023-05-06T14:13:07.901Z"
   },
   {
    "duration": 44,
    "start_time": "2023-05-06T14:14:22.551Z"
   },
   {
    "duration": 26,
    "start_time": "2023-05-06T14:14:43.227Z"
   },
   {
    "duration": 55,
    "start_time": "2023-05-06T14:15:02.061Z"
   },
   {
    "duration": 103,
    "start_time": "2023-05-06T14:15:30.877Z"
   },
   {
    "duration": 85,
    "start_time": "2023-05-06T14:15:43.171Z"
   },
   {
    "duration": 82,
    "start_time": "2023-05-06T14:17:18.369Z"
   },
   {
    "duration": 57,
    "start_time": "2023-05-06T14:18:52.139Z"
   },
   {
    "duration": 107,
    "start_time": "2023-05-06T14:19:02.416Z"
   },
   {
    "duration": 86,
    "start_time": "2023-05-06T14:19:25.862Z"
   },
   {
    "duration": 89,
    "start_time": "2023-05-06T14:20:04.112Z"
   },
   {
    "duration": 106,
    "start_time": "2023-05-06T14:24:41.194Z"
   },
   {
    "duration": 107,
    "start_time": "2023-05-06T14:25:07.995Z"
   },
   {
    "duration": 114,
    "start_time": "2023-05-06T14:25:24.779Z"
   },
   {
    "duration": 110,
    "start_time": "2023-05-06T14:29:51.478Z"
   },
   {
    "duration": 146,
    "start_time": "2023-05-06T14:41:47.983Z"
   },
   {
    "duration": 119,
    "start_time": "2023-05-06T14:42:08.434Z"
   },
   {
    "duration": 107,
    "start_time": "2023-05-06T14:42:34.450Z"
   },
   {
    "duration": 105,
    "start_time": "2023-05-06T14:43:00.209Z"
   },
   {
    "duration": 115,
    "start_time": "2023-05-06T14:43:19.073Z"
   },
   {
    "duration": 125,
    "start_time": "2023-05-06T14:43:26.001Z"
   },
   {
    "duration": 65,
    "start_time": "2023-05-06T14:43:42.681Z"
   },
   {
    "duration": 143,
    "start_time": "2023-05-06T14:43:50.520Z"
   },
   {
    "duration": 58,
    "start_time": "2023-05-06T14:45:00.055Z"
   },
   {
    "duration": 163,
    "start_time": "2023-05-06T14:46:16.254Z"
   },
   {
    "duration": 119,
    "start_time": "2023-05-06T14:47:57.405Z"
   },
   {
    "duration": 136,
    "start_time": "2023-05-06T14:48:02.796Z"
   },
   {
    "duration": 10,
    "start_time": "2023-05-06T14:55:12.182Z"
   },
   {
    "duration": 5,
    "start_time": "2023-05-06T14:55:43.015Z"
   },
   {
    "duration": 944,
    "start_time": "2023-05-06T14:55:50.820Z"
   },
   {
    "duration": 5,
    "start_time": "2023-05-06T14:56:52.027Z"
   },
   {
    "duration": 70,
    "start_time": "2023-05-06T14:56:58.212Z"
   },
   {
    "duration": 72,
    "start_time": "2023-05-06T14:58:14.454Z"
   },
   {
    "duration": 72,
    "start_time": "2023-05-06T14:58:24.046Z"
   },
   {
    "duration": 4,
    "start_time": "2023-05-06T15:06:53.881Z"
   },
   {
    "duration": 4,
    "start_time": "2023-05-06T15:12:30.224Z"
   },
   {
    "duration": 10,
    "start_time": "2023-05-06T15:13:33.365Z"
   },
   {
    "duration": 6,
    "start_time": "2023-05-06T15:14:01.519Z"
   },
   {
    "duration": 161,
    "start_time": "2023-05-06T15:14:26.692Z"
   },
   {
    "duration": 4,
    "start_time": "2023-05-06T15:14:55.085Z"
   },
   {
    "duration": 9,
    "start_time": "2023-05-06T15:15:26.405Z"
   },
   {
    "duration": 6,
    "start_time": "2023-05-06T15:15:33.269Z"
   },
   {
    "duration": 116,
    "start_time": "2023-05-06T15:15:38.604Z"
   },
   {
    "duration": 3,
    "start_time": "2023-05-06T15:17:41.700Z"
   },
   {
    "duration": 122,
    "start_time": "2023-05-06T15:17:46.707Z"
   },
   {
    "duration": 4,
    "start_time": "2023-05-06T15:18:50.882Z"
   },
   {
    "duration": 149,
    "start_time": "2023-05-06T15:18:56.730Z"
   },
   {
    "duration": 6,
    "start_time": "2023-05-06T15:20:08.611Z"
   },
   {
    "duration": 163,
    "start_time": "2023-05-06T15:20:13.329Z"
   },
   {
    "duration": 502,
    "start_time": "2023-05-06T15:22:45.800Z"
   },
   {
    "duration": 498,
    "start_time": "2023-05-06T15:22:53.216Z"
   },
   {
    "duration": 479,
    "start_time": "2023-05-06T15:22:56.008Z"
   },
   {
    "duration": 419,
    "start_time": "2023-05-06T15:43:35.478Z"
   },
   {
    "duration": 26,
    "start_time": "2023-05-06T15:54:52.028Z"
   },
   {
    "duration": 8,
    "start_time": "2023-05-06T15:54:52.804Z"
   },
   {
    "duration": 2846,
    "start_time": "2023-05-06T15:55:08.125Z"
   },
   {
    "duration": 10,
    "start_time": "2023-05-06T15:55:10.973Z"
   },
   {
    "duration": 572,
    "start_time": "2023-05-06T15:55:10.984Z"
   },
   {
    "duration": 10,
    "start_time": "2023-05-06T15:55:11.558Z"
   },
   {
    "duration": 20,
    "start_time": "2023-05-06T15:55:11.569Z"
   },
   {
    "duration": 3,
    "start_time": "2023-05-06T15:55:11.591Z"
   },
   {
    "duration": 91,
    "start_time": "2023-05-06T15:55:11.595Z"
   },
   {
    "duration": 2,
    "start_time": "2023-05-06T15:55:11.688Z"
   },
   {
    "duration": 120,
    "start_time": "2023-05-06T15:55:11.692Z"
   },
   {
    "duration": 195,
    "start_time": "2023-05-06T15:55:11.815Z"
   },
   {
    "duration": 52,
    "start_time": "2023-05-06T15:55:12.011Z"
   },
   {
    "duration": 12,
    "start_time": "2023-05-06T15:55:12.065Z"
   },
   {
    "duration": 9,
    "start_time": "2023-05-06T15:55:12.078Z"
   },
   {
    "duration": 20,
    "start_time": "2023-05-06T15:55:12.087Z"
   },
   {
    "duration": 859,
    "start_time": "2023-05-06T15:55:12.108Z"
   },
   {
    "duration": 5,
    "start_time": "2023-05-06T15:55:12.969Z"
   },
   {
    "duration": 813,
    "start_time": "2023-05-06T15:55:12.975Z"
   },
   {
    "duration": 647,
    "start_time": "2023-05-06T15:55:13.789Z"
   },
   {
    "duration": 16,
    "start_time": "2023-05-06T15:55:14.441Z"
   },
   {
    "duration": 16,
    "start_time": "2023-05-06T15:55:14.458Z"
   },
   {
    "duration": 28,
    "start_time": "2023-05-06T15:55:14.475Z"
   },
   {
    "duration": 54,
    "start_time": "2023-05-06T15:55:14.505Z"
   },
   {
    "duration": 31,
    "start_time": "2023-05-06T15:55:14.561Z"
   },
   {
    "duration": 65,
    "start_time": "2023-05-06T15:55:14.594Z"
   },
   {
    "duration": 19,
    "start_time": "2023-05-06T15:55:14.661Z"
   },
   {
    "duration": 4,
    "start_time": "2023-05-06T15:55:14.681Z"
   },
   {
    "duration": 573,
    "start_time": "2023-05-06T15:55:14.687Z"
   },
   {
    "duration": 4,
    "start_time": "2023-05-06T15:55:15.263Z"
   },
   {
    "duration": 28,
    "start_time": "2023-05-06T15:55:15.269Z"
   },
   {
    "duration": 38,
    "start_time": "2023-05-06T15:55:15.299Z"
   },
   {
    "duration": 36,
    "start_time": "2023-05-06T15:55:15.339Z"
   },
   {
    "duration": 71,
    "start_time": "2023-05-06T15:55:15.376Z"
   },
   {
    "duration": 501,
    "start_time": "2023-05-06T15:55:15.449Z"
   },
   {
    "duration": 107,
    "start_time": "2023-05-06T15:55:15.952Z"
   },
   {
    "duration": 0,
    "start_time": "2023-05-06T15:55:16.061Z"
   },
   {
    "duration": 0,
    "start_time": "2023-05-06T15:55:16.062Z"
   },
   {
    "duration": 0,
    "start_time": "2023-05-06T15:55:16.063Z"
   },
   {
    "duration": 0,
    "start_time": "2023-05-06T15:55:16.064Z"
   },
   {
    "duration": 0,
    "start_time": "2023-05-06T15:55:16.065Z"
   },
   {
    "duration": 0,
    "start_time": "2023-05-06T15:55:16.066Z"
   },
   {
    "duration": 0,
    "start_time": "2023-05-06T15:55:16.067Z"
   },
   {
    "duration": 3,
    "start_time": "2023-05-06T15:57:04.468Z"
   },
   {
    "duration": 3,
    "start_time": "2023-05-06T15:57:05.082Z"
   },
   {
    "duration": 45,
    "start_time": "2023-05-06T15:57:19.626Z"
   },
   {
    "duration": 45,
    "start_time": "2023-05-06T15:57:30.875Z"
   },
   {
    "duration": 3,
    "start_time": "2023-05-06T16:00:08.071Z"
   },
   {
    "duration": 44,
    "start_time": "2023-05-06T16:00:29.647Z"
   },
   {
    "duration": 56,
    "start_time": "2023-05-06T16:00:30.512Z"
   },
   {
    "duration": 41,
    "start_time": "2023-05-06T16:01:01.903Z"
   },
   {
    "duration": 46,
    "start_time": "2023-05-06T16:01:12.535Z"
   },
   {
    "duration": 9,
    "start_time": "2023-05-06T16:01:16.643Z"
   },
   {
    "duration": 6,
    "start_time": "2023-05-06T16:01:21.319Z"
   },
   {
    "duration": 52,
    "start_time": "2023-05-06T16:02:55.352Z"
   },
   {
    "duration": 477,
    "start_time": "2023-05-06T16:05:50.839Z"
   },
   {
    "duration": 450,
    "start_time": "2023-05-06T16:06:17.898Z"
   },
   {
    "duration": 89,
    "start_time": "2023-05-06T16:06:28.051Z"
   },
   {
    "duration": 5,
    "start_time": "2023-05-06T16:06:45.194Z"
   },
   {
    "duration": 627,
    "start_time": "2023-05-06T16:08:48.729Z"
   },
   {
    "duration": 1117,
    "start_time": "2023-05-06T16:20:33.195Z"
   },
   {
    "duration": 10,
    "start_time": "2023-05-06T16:20:34.314Z"
   },
   {
    "duration": 232,
    "start_time": "2023-05-06T16:20:34.325Z"
   },
   {
    "duration": 12,
    "start_time": "2023-05-06T16:20:34.559Z"
   },
   {
    "duration": 44,
    "start_time": "2023-05-06T16:20:34.573Z"
   },
   {
    "duration": 3,
    "start_time": "2023-05-06T16:20:34.619Z"
   },
   {
    "duration": 136,
    "start_time": "2023-05-06T16:20:34.624Z"
   },
   {
    "duration": 3,
    "start_time": "2023-05-06T16:20:34.762Z"
   },
   {
    "duration": 177,
    "start_time": "2023-05-06T16:20:34.766Z"
   },
   {
    "duration": 264,
    "start_time": "2023-05-06T16:20:34.946Z"
   },
   {
    "duration": 58,
    "start_time": "2023-05-06T16:20:35.212Z"
   },
   {
    "duration": 15,
    "start_time": "2023-05-06T16:20:35.272Z"
   },
   {
    "duration": 15,
    "start_time": "2023-05-06T16:20:35.289Z"
   },
   {
    "duration": 51,
    "start_time": "2023-05-06T16:20:35.308Z"
   },
   {
    "duration": 997,
    "start_time": "2023-05-06T16:20:35.362Z"
   },
   {
    "duration": 7,
    "start_time": "2023-05-06T16:20:36.361Z"
   },
   {
    "duration": 1000,
    "start_time": "2023-05-06T16:20:36.369Z"
   },
   {
    "duration": 705,
    "start_time": "2023-05-06T16:20:37.371Z"
   },
   {
    "duration": 15,
    "start_time": "2023-05-06T16:20:38.078Z"
   },
   {
    "duration": 16,
    "start_time": "2023-05-06T16:20:38.094Z"
   },
   {
    "duration": 50,
    "start_time": "2023-05-06T16:20:38.111Z"
   },
   {
    "duration": 31,
    "start_time": "2023-05-06T16:20:38.163Z"
   },
   {
    "duration": 58,
    "start_time": "2023-05-06T16:20:38.196Z"
   },
   {
    "duration": 67,
    "start_time": "2023-05-06T16:20:38.256Z"
   },
   {
    "duration": 27,
    "start_time": "2023-05-06T16:20:38.325Z"
   },
   {
    "duration": 5,
    "start_time": "2023-05-06T16:20:38.354Z"
   },
   {
    "duration": 162,
    "start_time": "2023-05-06T16:20:38.361Z"
   },
   {
    "duration": 5,
    "start_time": "2023-05-06T16:20:38.525Z"
   },
   {
    "duration": 31,
    "start_time": "2023-05-06T16:20:38.531Z"
   },
   {
    "duration": 7,
    "start_time": "2023-05-06T16:20:38.564Z"
   },
   {
    "duration": 6,
    "start_time": "2023-05-06T16:20:38.573Z"
   },
   {
    "duration": 6,
    "start_time": "2023-05-06T16:20:38.581Z"
   },
   {
    "duration": 530,
    "start_time": "2023-05-06T16:20:38.589Z"
   },
   {
    "duration": 53,
    "start_time": "2023-05-06T16:20:39.121Z"
   },
   {
    "duration": 42,
    "start_time": "2023-05-06T16:20:39.175Z"
   },
   {
    "duration": 23,
    "start_time": "2023-05-06T16:20:39.218Z"
   },
   {
    "duration": 118,
    "start_time": "2023-05-06T16:20:39.242Z"
   },
   {
    "duration": 0,
    "start_time": "2023-05-06T16:20:39.361Z"
   },
   {
    "duration": 0,
    "start_time": "2023-05-06T16:20:39.362Z"
   },
   {
    "duration": 0,
    "start_time": "2023-05-06T16:20:39.365Z"
   },
   {
    "duration": 0,
    "start_time": "2023-05-06T16:20:39.366Z"
   },
   {
    "duration": 0,
    "start_time": "2023-05-06T16:20:39.367Z"
   },
   {
    "duration": 53,
    "start_time": "2023-05-06T16:23:14.924Z"
   },
   {
    "duration": 439,
    "start_time": "2023-05-06T16:23:20.163Z"
   },
   {
    "duration": 453,
    "start_time": "2023-05-06T16:23:22.996Z"
   },
   {
    "duration": 73,
    "start_time": "2023-05-06T16:23:23.451Z"
   },
   {
    "duration": 6,
    "start_time": "2023-05-06T16:23:24.918Z"
   },
   {
    "duration": 628,
    "start_time": "2023-05-06T16:23:27.483Z"
   },
   {
    "duration": 1149,
    "start_time": "2023-05-06T21:38:03.490Z"
   },
   {
    "duration": 17,
    "start_time": "2023-05-06T21:38:04.642Z"
   },
   {
    "duration": 266,
    "start_time": "2023-05-06T21:38:04.661Z"
   },
   {
    "duration": 16,
    "start_time": "2023-05-06T21:38:04.929Z"
   },
   {
    "duration": 40,
    "start_time": "2023-05-06T21:38:04.947Z"
   },
   {
    "duration": 2,
    "start_time": "2023-05-06T21:38:04.989Z"
   },
   {
    "duration": 105,
    "start_time": "2023-05-06T21:38:04.992Z"
   },
   {
    "duration": 2,
    "start_time": "2023-05-06T21:38:05.099Z"
   },
   {
    "duration": 163,
    "start_time": "2023-05-06T21:38:05.102Z"
   },
   {
    "duration": 243,
    "start_time": "2023-05-06T21:38:05.269Z"
   },
   {
    "duration": 67,
    "start_time": "2023-05-06T21:38:05.514Z"
   },
   {
    "duration": 12,
    "start_time": "2023-05-06T21:38:05.582Z"
   },
   {
    "duration": 12,
    "start_time": "2023-05-06T21:38:05.596Z"
   },
   {
    "duration": 18,
    "start_time": "2023-05-06T21:38:05.609Z"
   },
   {
    "duration": 940,
    "start_time": "2023-05-06T21:38:05.629Z"
   },
   {
    "duration": 6,
    "start_time": "2023-05-06T21:38:06.571Z"
   },
   {
    "duration": 929,
    "start_time": "2023-05-06T21:38:06.579Z"
   },
   {
    "duration": 691,
    "start_time": "2023-05-06T21:38:07.510Z"
   },
   {
    "duration": 14,
    "start_time": "2023-05-06T21:38:08.203Z"
   },
   {
    "duration": 26,
    "start_time": "2023-05-06T21:38:08.219Z"
   },
   {
    "duration": 34,
    "start_time": "2023-05-06T21:38:08.251Z"
   },
   {
    "duration": 32,
    "start_time": "2023-05-06T21:38:08.286Z"
   },
   {
    "duration": 61,
    "start_time": "2023-05-06T21:38:08.319Z"
   },
   {
    "duration": 54,
    "start_time": "2023-05-06T21:38:08.381Z"
   },
   {
    "duration": 12,
    "start_time": "2023-05-06T21:38:08.436Z"
   },
   {
    "duration": 23,
    "start_time": "2023-05-06T21:38:08.450Z"
   },
   {
    "duration": 358,
    "start_time": "2023-05-06T21:38:08.474Z"
   },
   {
    "duration": 13,
    "start_time": "2023-05-06T21:38:08.844Z"
   },
   {
    "duration": 6,
    "start_time": "2023-05-06T21:38:08.858Z"
   },
   {
    "duration": 8,
    "start_time": "2023-05-06T21:38:08.865Z"
   },
   {
    "duration": 4,
    "start_time": "2023-05-06T21:38:08.875Z"
   },
   {
    "duration": 16,
    "start_time": "2023-05-06T21:38:08.881Z"
   },
   {
    "duration": 523,
    "start_time": "2023-05-06T21:38:08.899Z"
   },
   {
    "duration": 58,
    "start_time": "2023-05-06T21:38:09.423Z"
   },
   {
    "duration": 39,
    "start_time": "2023-05-06T21:38:09.483Z"
   },
   {
    "duration": 13,
    "start_time": "2023-05-06T21:38:09.523Z"
   },
   {
    "duration": 72,
    "start_time": "2023-05-06T21:38:09.537Z"
   },
   {
    "duration": 497,
    "start_time": "2023-05-06T21:38:09.610Z"
   },
   {
    "duration": 490,
    "start_time": "2023-05-06T21:38:10.108Z"
   },
   {
    "duration": 86,
    "start_time": "2023-05-06T21:38:10.600Z"
   },
   {
    "duration": 5,
    "start_time": "2023-05-06T21:38:10.687Z"
   },
   {
    "duration": 719,
    "start_time": "2023-05-06T21:38:10.693Z"
   },
   {
    "duration": 4,
    "start_time": "2023-05-06T21:41:51.569Z"
   },
   {
    "duration": 540,
    "start_time": "2023-05-06T21:41:54.127Z"
   },
   {
    "duration": 5,
    "start_time": "2023-05-06T21:42:15.308Z"
   },
   {
    "duration": 453,
    "start_time": "2023-05-06T21:42:17.885Z"
   },
   {
    "duration": 63,
    "start_time": "2023-05-07T07:34:16.818Z"
   },
   {
    "duration": 1631,
    "start_time": "2023-05-07T07:34:22.524Z"
   },
   {
    "duration": 14,
    "start_time": "2023-05-07T07:34:24.157Z"
   },
   {
    "duration": 1220,
    "start_time": "2023-05-07T07:34:24.173Z"
   },
   {
    "duration": 21,
    "start_time": "2023-05-07T07:34:25.399Z"
   },
   {
    "duration": 40,
    "start_time": "2023-05-07T07:34:25.423Z"
   },
   {
    "duration": 20,
    "start_time": "2023-05-07T07:34:25.466Z"
   },
   {
    "duration": 163,
    "start_time": "2023-05-07T07:34:25.489Z"
   },
   {
    "duration": 3,
    "start_time": "2023-05-07T07:34:25.659Z"
   },
   {
    "duration": 193,
    "start_time": "2023-05-07T07:34:25.665Z"
   },
   {
    "duration": 290,
    "start_time": "2023-05-07T07:34:25.861Z"
   },
   {
    "duration": 71,
    "start_time": "2023-05-07T07:34:26.154Z"
   },
   {
    "duration": 19,
    "start_time": "2023-05-07T07:34:26.228Z"
   },
   {
    "duration": 13,
    "start_time": "2023-05-07T07:34:26.253Z"
   },
   {
    "duration": 41,
    "start_time": "2023-05-07T07:34:26.269Z"
   },
   {
    "duration": 6,
    "start_time": "2023-05-07T09:35:44.876Z"
   },
   {
    "duration": 3,
    "start_time": "2023-05-07T09:44:50.850Z"
   },
   {
    "duration": 65,
    "start_time": "2023-05-07T09:46:54.968Z"
   },
   {
    "duration": 1159,
    "start_time": "2023-05-07T09:48:05.363Z"
   },
   {
    "duration": 10,
    "start_time": "2023-05-07T09:48:06.523Z"
   },
   {
    "duration": 208,
    "start_time": "2023-05-07T09:48:06.534Z"
   },
   {
    "duration": 11,
    "start_time": "2023-05-07T09:48:06.745Z"
   },
   {
    "duration": 43,
    "start_time": "2023-05-07T09:48:06.757Z"
   },
   {
    "duration": 5,
    "start_time": "2023-05-07T09:48:06.802Z"
   },
   {
    "duration": 104,
    "start_time": "2023-05-07T09:48:06.809Z"
   },
   {
    "duration": 3,
    "start_time": "2023-05-07T09:48:06.914Z"
   },
   {
    "duration": 188,
    "start_time": "2023-05-07T09:48:06.919Z"
   },
   {
    "duration": 240,
    "start_time": "2023-05-07T09:48:07.112Z"
   },
   {
    "duration": 66,
    "start_time": "2023-05-07T09:48:07.354Z"
   },
   {
    "duration": 12,
    "start_time": "2023-05-07T09:48:07.422Z"
   },
   {
    "duration": 32,
    "start_time": "2023-05-07T09:48:07.436Z"
   },
   {
    "duration": 36,
    "start_time": "2023-05-07T09:48:07.470Z"
   },
   {
    "duration": 1407,
    "start_time": "2023-05-07T09:48:07.508Z"
   },
   {
    "duration": 5,
    "start_time": "2023-05-07T09:48:08.916Z"
   },
   {
    "duration": 920,
    "start_time": "2023-05-07T09:48:08.923Z"
   },
   {
    "duration": 689,
    "start_time": "2023-05-07T09:48:09.845Z"
   },
   {
    "duration": 17,
    "start_time": "2023-05-07T09:48:10.536Z"
   },
   {
    "duration": 16,
    "start_time": "2023-05-07T09:48:10.555Z"
   },
   {
    "duration": 61,
    "start_time": "2023-05-07T09:48:10.573Z"
   },
   {
    "duration": 138,
    "start_time": "2023-05-07T09:48:10.636Z"
   },
   {
    "duration": 0,
    "start_time": "2023-05-07T09:48:10.775Z"
   },
   {
    "duration": 0,
    "start_time": "2023-05-07T09:48:10.776Z"
   },
   {
    "duration": 0,
    "start_time": "2023-05-07T09:48:10.778Z"
   },
   {
    "duration": 0,
    "start_time": "2023-05-07T09:48:10.779Z"
   },
   {
    "duration": 0,
    "start_time": "2023-05-07T09:48:10.793Z"
   },
   {
    "duration": 0,
    "start_time": "2023-05-07T09:48:10.794Z"
   },
   {
    "duration": 0,
    "start_time": "2023-05-07T09:48:10.797Z"
   },
   {
    "duration": 0,
    "start_time": "2023-05-07T09:48:10.798Z"
   },
   {
    "duration": 0,
    "start_time": "2023-05-07T09:48:10.799Z"
   },
   {
    "duration": 0,
    "start_time": "2023-05-07T09:48:10.799Z"
   },
   {
    "duration": 0,
    "start_time": "2023-05-07T09:48:10.800Z"
   },
   {
    "duration": 0,
    "start_time": "2023-05-07T09:48:10.801Z"
   },
   {
    "duration": 0,
    "start_time": "2023-05-07T09:48:10.801Z"
   },
   {
    "duration": 0,
    "start_time": "2023-05-07T09:48:10.802Z"
   },
   {
    "duration": 0,
    "start_time": "2023-05-07T09:48:10.802Z"
   },
   {
    "duration": 0,
    "start_time": "2023-05-07T09:48:10.803Z"
   },
   {
    "duration": 0,
    "start_time": "2023-05-07T09:48:10.804Z"
   },
   {
    "duration": 0,
    "start_time": "2023-05-07T09:48:10.804Z"
   },
   {
    "duration": 0,
    "start_time": "2023-05-07T09:48:10.805Z"
   },
   {
    "duration": 0,
    "start_time": "2023-05-07T09:48:10.805Z"
   },
   {
    "duration": 1180,
    "start_time": "2023-05-07T09:48:28.387Z"
   },
   {
    "duration": 9,
    "start_time": "2023-05-07T09:48:29.569Z"
   },
   {
    "duration": 204,
    "start_time": "2023-05-07T09:48:29.581Z"
   },
   {
    "duration": 19,
    "start_time": "2023-05-07T09:48:29.788Z"
   },
   {
    "duration": 23,
    "start_time": "2023-05-07T09:48:29.809Z"
   },
   {
    "duration": 4,
    "start_time": "2023-05-07T09:48:29.833Z"
   },
   {
    "duration": 93,
    "start_time": "2023-05-07T09:48:29.838Z"
   },
   {
    "duration": 3,
    "start_time": "2023-05-07T09:48:29.933Z"
   },
   {
    "duration": 138,
    "start_time": "2023-05-07T09:48:29.938Z"
   },
   {
    "duration": 201,
    "start_time": "2023-05-07T09:48:30.078Z"
   },
   {
    "duration": 52,
    "start_time": "2023-05-07T09:48:30.281Z"
   },
   {
    "duration": 12,
    "start_time": "2023-05-07T09:48:30.334Z"
   },
   {
    "duration": 28,
    "start_time": "2023-05-07T09:48:30.348Z"
   },
   {
    "duration": 54,
    "start_time": "2023-05-07T09:48:30.378Z"
   },
   {
    "duration": 994,
    "start_time": "2023-05-07T09:48:30.433Z"
   },
   {
    "duration": 5,
    "start_time": "2023-05-07T09:48:31.429Z"
   },
   {
    "duration": 972,
    "start_time": "2023-05-07T09:48:31.436Z"
   },
   {
    "duration": 748,
    "start_time": "2023-05-07T09:48:32.410Z"
   },
   {
    "duration": 15,
    "start_time": "2023-05-07T09:48:33.160Z"
   },
   {
    "duration": 35,
    "start_time": "2023-05-07T09:48:33.177Z"
   },
   {
    "duration": 41,
    "start_time": "2023-05-07T09:48:33.214Z"
   },
   {
    "duration": 43,
    "start_time": "2023-05-07T09:48:33.257Z"
   },
   {
    "duration": 32,
    "start_time": "2023-05-07T09:48:33.307Z"
   },
   {
    "duration": 69,
    "start_time": "2023-05-07T09:48:33.340Z"
   },
   {
    "duration": 9,
    "start_time": "2023-05-07T09:48:33.411Z"
   },
   {
    "duration": 29,
    "start_time": "2023-05-07T09:48:33.422Z"
   },
   {
    "duration": 161,
    "start_time": "2023-05-07T09:48:33.453Z"
   },
   {
    "duration": 5,
    "start_time": "2023-05-07T09:48:33.618Z"
   },
   {
    "duration": 9,
    "start_time": "2023-05-07T09:48:33.624Z"
   },
   {
    "duration": 20,
    "start_time": "2023-05-07T09:48:33.635Z"
   },
   {
    "duration": 36,
    "start_time": "2023-05-07T09:48:33.657Z"
   },
   {
    "duration": 12,
    "start_time": "2023-05-07T09:48:33.699Z"
   },
   {
    "duration": 242,
    "start_time": "2023-05-07T09:48:33.714Z"
   },
   {
    "duration": 0,
    "start_time": "2023-05-07T09:48:33.958Z"
   },
   {
    "duration": 0,
    "start_time": "2023-05-07T09:48:33.959Z"
   },
   {
    "duration": 0,
    "start_time": "2023-05-07T09:48:33.961Z"
   },
   {
    "duration": 0,
    "start_time": "2023-05-07T09:48:33.963Z"
   },
   {
    "duration": 0,
    "start_time": "2023-05-07T09:48:33.964Z"
   },
   {
    "duration": 0,
    "start_time": "2023-05-07T09:48:33.965Z"
   },
   {
    "duration": 0,
    "start_time": "2023-05-07T09:48:33.966Z"
   },
   {
    "duration": 0,
    "start_time": "2023-05-07T09:48:33.967Z"
   },
   {
    "duration": 0,
    "start_time": "2023-05-07T09:48:33.997Z"
   },
   {
    "duration": 22,
    "start_time": "2023-05-07T09:53:15.890Z"
   },
   {
    "duration": 92,
    "start_time": "2023-05-07T09:53:18.693Z"
   },
   {
    "duration": 7,
    "start_time": "2023-05-07T09:54:07.043Z"
   },
   {
    "duration": 90,
    "start_time": "2023-05-07T09:54:09.620Z"
   },
   {
    "duration": 6,
    "start_time": "2023-05-07T09:55:25.875Z"
   },
   {
    "duration": 72,
    "start_time": "2023-05-07T09:55:29.353Z"
   },
   {
    "duration": 73,
    "start_time": "2023-05-07T09:57:06.514Z"
   },
   {
    "duration": 16,
    "start_time": "2023-05-07T09:57:14.184Z"
   },
   {
    "duration": 81,
    "start_time": "2023-05-07T09:57:16.992Z"
   },
   {
    "duration": 9,
    "start_time": "2023-05-07T09:57:49.056Z"
   },
   {
    "duration": 5,
    "start_time": "2023-05-07T09:57:55.086Z"
   },
   {
    "duration": 10,
    "start_time": "2023-05-07T09:58:16.215Z"
   },
   {
    "duration": 16,
    "start_time": "2023-05-07T09:58:30.901Z"
   },
   {
    "duration": 85,
    "start_time": "2023-05-07T09:58:34.346Z"
   },
   {
    "duration": 8,
    "start_time": "2023-05-07T10:00:24.625Z"
   },
   {
    "duration": 77,
    "start_time": "2023-05-07T10:00:27.173Z"
   },
   {
    "duration": 8,
    "start_time": "2023-05-07T10:02:35.156Z"
   },
   {
    "duration": 76,
    "start_time": "2023-05-07T10:02:37.814Z"
   },
   {
    "duration": 7,
    "start_time": "2023-05-07T10:02:58.475Z"
   },
   {
    "duration": 238,
    "start_time": "2023-05-07T10:03:01.476Z"
   },
   {
    "duration": 11,
    "start_time": "2023-05-07T10:04:50.185Z"
   },
   {
    "duration": 307,
    "start_time": "2023-05-07T10:04:53.109Z"
   },
   {
    "duration": 1148,
    "start_time": "2023-05-07T10:05:31.734Z"
   },
   {
    "duration": 19,
    "start_time": "2023-05-07T10:05:32.885Z"
   },
   {
    "duration": 216,
    "start_time": "2023-05-07T10:05:32.909Z"
   },
   {
    "duration": 10,
    "start_time": "2023-05-07T10:05:33.128Z"
   },
   {
    "duration": 18,
    "start_time": "2023-05-07T10:05:33.140Z"
   },
   {
    "duration": 3,
    "start_time": "2023-05-07T10:05:33.160Z"
   },
   {
    "duration": 94,
    "start_time": "2023-05-07T10:05:33.193Z"
   },
   {
    "duration": 3,
    "start_time": "2023-05-07T10:05:33.292Z"
   },
   {
    "duration": 138,
    "start_time": "2023-05-07T10:05:33.296Z"
   },
   {
    "duration": 204,
    "start_time": "2023-05-07T10:05:33.436Z"
   },
   {
    "duration": 56,
    "start_time": "2023-05-07T10:05:33.642Z"
   },
   {
    "duration": 13,
    "start_time": "2023-05-07T10:05:33.704Z"
   },
   {
    "duration": 13,
    "start_time": "2023-05-07T10:05:33.719Z"
   },
   {
    "duration": 43,
    "start_time": "2023-05-07T10:05:33.735Z"
   },
   {
    "duration": 904,
    "start_time": "2023-05-07T10:05:33.780Z"
   },
   {
    "duration": 16,
    "start_time": "2023-05-07T10:05:34.686Z"
   },
   {
    "duration": 962,
    "start_time": "2023-05-07T10:05:34.705Z"
   },
   {
    "duration": 676,
    "start_time": "2023-05-07T10:05:35.669Z"
   },
   {
    "duration": 15,
    "start_time": "2023-05-07T10:05:36.347Z"
   },
   {
    "duration": 33,
    "start_time": "2023-05-07T10:05:36.364Z"
   },
   {
    "duration": 44,
    "start_time": "2023-05-07T10:05:36.399Z"
   },
   {
    "duration": 54,
    "start_time": "2023-05-07T10:05:36.445Z"
   },
   {
    "duration": 32,
    "start_time": "2023-05-07T10:05:36.504Z"
   },
   {
    "duration": 64,
    "start_time": "2023-05-07T10:05:36.538Z"
   },
   {
    "duration": 12,
    "start_time": "2023-05-07T10:05:36.608Z"
   },
   {
    "duration": 5,
    "start_time": "2023-05-07T10:05:36.621Z"
   },
   {
    "duration": 196,
    "start_time": "2023-05-07T10:05:36.627Z"
   },
   {
    "duration": 4,
    "start_time": "2023-05-07T10:05:36.827Z"
   },
   {
    "duration": 3,
    "start_time": "2023-05-07T10:05:36.833Z"
   },
   {
    "duration": 7,
    "start_time": "2023-05-07T10:05:36.837Z"
   },
   {
    "duration": 5,
    "start_time": "2023-05-07T10:05:36.846Z"
   },
   {
    "duration": 9,
    "start_time": "2023-05-07T10:05:36.852Z"
   },
   {
    "duration": 421,
    "start_time": "2023-05-07T10:05:36.862Z"
   },
   {
    "duration": 63,
    "start_time": "2023-05-07T10:05:37.285Z"
   },
   {
    "duration": 70,
    "start_time": "2023-05-07T10:05:37.350Z"
   },
   {
    "duration": 6,
    "start_time": "2023-05-07T10:05:37.422Z"
   },
   {
    "duration": 85,
    "start_time": "2023-05-07T10:05:37.432Z"
   },
   {
    "duration": 439,
    "start_time": "2023-05-07T10:05:37.519Z"
   },
   {
    "duration": 383,
    "start_time": "2023-05-07T10:05:37.960Z"
   },
   {
    "duration": 190,
    "start_time": "2023-05-07T10:05:38.345Z"
   },
   {
    "duration": 0,
    "start_time": "2023-05-07T10:05:38.537Z"
   },
   {
    "duration": 0,
    "start_time": "2023-05-07T10:05:38.538Z"
   },
   {
    "duration": 95,
    "start_time": "2023-05-07T10:06:14.718Z"
   },
   {
    "duration": 8,
    "start_time": "2023-05-07T10:06:19.105Z"
   },
   {
    "duration": 464,
    "start_time": "2023-05-07T10:06:21.648Z"
   },
   {
    "duration": 7,
    "start_time": "2023-05-07T10:13:45.074Z"
   },
   {
    "duration": 8,
    "start_time": "2023-05-07T10:13:52.139Z"
   },
   {
    "duration": 1175,
    "start_time": "2023-05-07T10:17:39.094Z"
   },
   {
    "duration": 10,
    "start_time": "2023-05-07T10:17:40.271Z"
   },
   {
    "duration": 222,
    "start_time": "2023-05-07T10:17:40.283Z"
   },
   {
    "duration": 11,
    "start_time": "2023-05-07T10:17:40.509Z"
   },
   {
    "duration": 20,
    "start_time": "2023-05-07T10:17:40.521Z"
   },
   {
    "duration": 3,
    "start_time": "2023-05-07T10:17:40.542Z"
   },
   {
    "duration": 101,
    "start_time": "2023-05-07T10:17:40.547Z"
   },
   {
    "duration": 3,
    "start_time": "2023-05-07T10:17:40.649Z"
   },
   {
    "duration": 132,
    "start_time": "2023-05-07T10:17:40.653Z"
   },
   {
    "duration": 217,
    "start_time": "2023-05-07T10:17:40.792Z"
   },
   {
    "duration": 48,
    "start_time": "2023-05-07T10:17:41.011Z"
   },
   {
    "duration": 12,
    "start_time": "2023-05-07T10:17:41.060Z"
   },
   {
    "duration": 27,
    "start_time": "2023-05-07T10:17:41.073Z"
   },
   {
    "duration": 25,
    "start_time": "2023-05-07T10:17:41.101Z"
   },
   {
    "duration": 901,
    "start_time": "2023-05-07T10:17:41.128Z"
   },
   {
    "duration": 5,
    "start_time": "2023-05-07T10:17:42.031Z"
   },
   {
    "duration": 943,
    "start_time": "2023-05-07T10:17:42.038Z"
   },
   {
    "duration": 729,
    "start_time": "2023-05-07T10:17:42.983Z"
   },
   {
    "duration": 21,
    "start_time": "2023-05-07T10:17:43.714Z"
   },
   {
    "duration": 23,
    "start_time": "2023-05-07T10:17:43.738Z"
   },
   {
    "duration": 58,
    "start_time": "2023-05-07T10:17:43.763Z"
   },
   {
    "duration": 31,
    "start_time": "2023-05-07T10:17:43.823Z"
   },
   {
    "duration": 59,
    "start_time": "2023-05-07T10:17:43.855Z"
   },
   {
    "duration": 57,
    "start_time": "2023-05-07T10:17:43.916Z"
   },
   {
    "duration": 20,
    "start_time": "2023-05-07T10:17:43.974Z"
   },
   {
    "duration": 19,
    "start_time": "2023-05-07T10:17:43.996Z"
   },
   {
    "duration": 146,
    "start_time": "2023-05-07T10:17:44.017Z"
   },
   {
    "duration": 4,
    "start_time": "2023-05-07T10:17:44.168Z"
   },
   {
    "duration": 4,
    "start_time": "2023-05-07T10:17:44.173Z"
   },
   {
    "duration": 14,
    "start_time": "2023-05-07T10:17:44.179Z"
   },
   {
    "duration": 9,
    "start_time": "2023-05-07T10:17:44.195Z"
   },
   {
    "duration": 11,
    "start_time": "2023-05-07T10:17:44.205Z"
   },
   {
    "duration": 415,
    "start_time": "2023-05-07T10:17:44.218Z"
   },
   {
    "duration": 79,
    "start_time": "2023-05-07T10:17:44.635Z"
   },
   {
    "duration": 51,
    "start_time": "2023-05-07T10:17:44.716Z"
   },
   {
    "duration": 6,
    "start_time": "2023-05-07T10:17:44.768Z"
   },
   {
    "duration": 65,
    "start_time": "2023-05-07T10:17:44.775Z"
   },
   {
    "duration": 326,
    "start_time": "2023-05-07T10:17:44.842Z"
   },
   {
    "duration": 340,
    "start_time": "2023-05-07T10:17:45.169Z"
   },
   {
    "duration": 102,
    "start_time": "2023-05-07T10:17:45.510Z"
   },
   {
    "duration": 5,
    "start_time": "2023-05-07T10:17:45.614Z"
   },
   {
    "duration": 496,
    "start_time": "2023-05-07T10:17:45.621Z"
   }
  ],
  "kernelspec": {
   "display_name": "Python 3 (ipykernel)",
   "language": "python",
   "name": "python3"
  },
  "language_info": {
   "codemirror_mode": {
    "name": "ipython",
    "version": 3
   },
   "file_extension": ".py",
   "mimetype": "text/x-python",
   "name": "python",
   "nbconvert_exporter": "python",
   "pygments_lexer": "ipython3",
   "version": "3.9.13"
  },
  "toc": {
   "base_numbering": 1,
   "nav_menu": {},
   "number_sections": false,
   "sideBar": true,
   "skip_h1_title": false,
   "title_cell": "Table of Contents",
   "title_sidebar": "Contents",
   "toc_cell": true,
   "toc_position": {
    "height": "calc(100% - 180px)",
    "left": "10px",
    "top": "150px",
    "width": "165px"
   },
   "toc_section_display": true,
   "toc_window_display": true
  }
 },
 "nbformat": 4,
 "nbformat_minor": 5
}
