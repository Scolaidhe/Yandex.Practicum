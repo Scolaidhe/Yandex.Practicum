{
 "cells": [
  {
   "cell_type": "markdown",
   "metadata": {
    "deletable": false,
    "editable": false,
    "id": "E0vqbgi9ay0H"
   },
   "source": [
    "# Яндекс Музыка"
   ]
  },
  {
   "cell_type": "markdown",
   "metadata": {
    "deletable": false,
    "editable": false,
    "id": "VUC88oWjTJw2"
   },
   "source": [
    "Сравнение Москвы и Петербурга окружено мифами. Например:\n",
    " * Москва — мегаполис, подчинённый жёсткому ритму рабочей недели;\n",
    " * Петербург — культурная столица, со своими вкусами.\n",
    "\n",
    "На данных Яндекс Музыки вы сравните поведение пользователей двух столиц.\n",
    "\n",
    "**Цель исследования** — проверьте три гипотезы:\n",
    "1. Активность пользователей зависит от дня недели. Причём в Москве и Петербурге это проявляется по-разному.\n",
    "2. В понедельник утром в Москве преобладают одни жанры, а в Петербурге — другие. Так же и вечером пятницы преобладают разные жанры — в зависимости от города. \n",
    "3. Москва и Петербург предпочитают разные жанры музыки. В Москве чаще слушают поп-музыку, в Петербурге — русский рэп.\n",
    "\n",
    "**Ход исследования**\n",
    "\n",
    "Данные о поведении пользователей вы получите из файла `yandex_music_project.csv`. О качестве данных ничего не известно. Поэтому перед проверкой гипотез понадобится обзор данных. \n",
    "\n",
    "Вы проверите данные на ошибки и оцените их влияние на исследование. Затем, на этапе предобработки вы поищете возможность исправить самые критичные ошибки данных.\n",
    " \n",
    "Таким образом, исследование пройдёт в три этапа:\n",
    " 1. Обзор данных.\n",
    " 2. Предобработка данных.\n",
    " 3. Проверка гипотез.\n",
    "\n"
   ]
  },
  {
   "cell_type": "markdown",
   "metadata": {
    "deletable": false,
    "editable": false,
    "id": "Ml1hmfXC_Zcs"
   },
   "source": [
    "## Обзор данных\n",
    "\n",
    "Составьте первое представление о данных Яндекс Музыки.\n",
    "\n",
    "\n"
   ]
  },
  {
   "cell_type": "markdown",
   "metadata": {
    "deletable": false,
    "editable": false,
    "id": "57eAOGIz_Zcs",
    "tags": [
     "start_task"
    ]
   },
   "source": [
    "**Задание 1**\n",
    "\n",
    "Основной инструмент аналитика — `pandas`. Импортируйте эту библиотеку."
   ]
  },
  {
   "cell_type": "code",
   "execution_count": 1,
   "metadata": {
    "deletable": false,
    "id": "AXN7PHPN_Zcs"
   },
   "outputs": [],
   "source": [
    "# импорт библиотеки pandas\n",
    "import pandas as pd"
   ]
  },
  {
   "cell_type": "markdown",
   "metadata": {
    "deletable": false,
    "editable": false,
    "id": "SG23P8tt_Zcs",
    "tags": [
     "start_task"
    ]
   },
   "source": [
    "**Задание 2**\n",
    "\n",
    "Прочитайте файл `yandex_music_project.csv` из папки `/datasets` и сохраните его в переменной `df`:"
   ]
  },
  {
   "cell_type": "code",
   "execution_count": 2,
   "metadata": {
    "deletable": false,
    "id": "fFVu7vqh_Zct"
   },
   "outputs": [],
   "source": [
    "# чтение файла с данными и сохранение в df\n",
    "df = pd.read_csv('/datasets/yandex_music_project.csv')"
   ]
  },
  {
   "cell_type": "markdown",
   "metadata": {
    "deletable": false,
    "editable": false,
    "id": "rDoOMd3uTqnZ",
    "tags": [
     "start_task"
    ]
   },
   "source": [
    "**Задание 3**\n",
    "\n",
    "\n",
    "Выведите на экран первые десять строк таблицы:"
   ]
  },
  {
   "cell_type": "code",
   "execution_count": 3,
   "metadata": {
    "deletable": false,
    "id": "oWTVX3gW_Zct"
   },
   "outputs": [
    {
     "data": {
      "text/html": [
       "<div>\n",
       "<style scoped>\n",
       "    .dataframe tbody tr th:only-of-type {\n",
       "        vertical-align: middle;\n",
       "    }\n",
       "\n",
       "    .dataframe tbody tr th {\n",
       "        vertical-align: top;\n",
       "    }\n",
       "\n",
       "    .dataframe thead th {\n",
       "        text-align: right;\n",
       "    }\n",
       "</style>\n",
       "<table border=\"1\" class=\"dataframe\">\n",
       "  <thead>\n",
       "    <tr style=\"text-align: right;\">\n",
       "      <th></th>\n",
       "      <th>userID</th>\n",
       "      <th>Track</th>\n",
       "      <th>artist</th>\n",
       "      <th>genre</th>\n",
       "      <th>City</th>\n",
       "      <th>time</th>\n",
       "      <th>Day</th>\n",
       "    </tr>\n",
       "  </thead>\n",
       "  <tbody>\n",
       "    <tr>\n",
       "      <th>0</th>\n",
       "      <td>FFB692EC</td>\n",
       "      <td>Kamigata To Boots</td>\n",
       "      <td>The Mass Missile</td>\n",
       "      <td>rock</td>\n",
       "      <td>Saint-Petersburg</td>\n",
       "      <td>20:28:33</td>\n",
       "      <td>Wednesday</td>\n",
       "    </tr>\n",
       "    <tr>\n",
       "      <th>1</th>\n",
       "      <td>55204538</td>\n",
       "      <td>Delayed Because of Accident</td>\n",
       "      <td>Andreas Rönnberg</td>\n",
       "      <td>rock</td>\n",
       "      <td>Moscow</td>\n",
       "      <td>14:07:09</td>\n",
       "      <td>Friday</td>\n",
       "    </tr>\n",
       "    <tr>\n",
       "      <th>2</th>\n",
       "      <td>20EC38</td>\n",
       "      <td>Funiculì funiculà</td>\n",
       "      <td>Mario Lanza</td>\n",
       "      <td>pop</td>\n",
       "      <td>Saint-Petersburg</td>\n",
       "      <td>20:58:07</td>\n",
       "      <td>Wednesday</td>\n",
       "    </tr>\n",
       "    <tr>\n",
       "      <th>3</th>\n",
       "      <td>A3DD03C9</td>\n",
       "      <td>Dragons in the Sunset</td>\n",
       "      <td>Fire + Ice</td>\n",
       "      <td>folk</td>\n",
       "      <td>Saint-Petersburg</td>\n",
       "      <td>08:37:09</td>\n",
       "      <td>Monday</td>\n",
       "    </tr>\n",
       "    <tr>\n",
       "      <th>4</th>\n",
       "      <td>E2DC1FAE</td>\n",
       "      <td>Soul People</td>\n",
       "      <td>Space Echo</td>\n",
       "      <td>dance</td>\n",
       "      <td>Moscow</td>\n",
       "      <td>08:34:34</td>\n",
       "      <td>Monday</td>\n",
       "    </tr>\n",
       "    <tr>\n",
       "      <th>5</th>\n",
       "      <td>842029A1</td>\n",
       "      <td>Преданная</td>\n",
       "      <td>IMPERVTOR</td>\n",
       "      <td>rusrap</td>\n",
       "      <td>Saint-Petersburg</td>\n",
       "      <td>13:09:41</td>\n",
       "      <td>Friday</td>\n",
       "    </tr>\n",
       "    <tr>\n",
       "      <th>6</th>\n",
       "      <td>4CB90AA5</td>\n",
       "      <td>True</td>\n",
       "      <td>Roman Messer</td>\n",
       "      <td>dance</td>\n",
       "      <td>Moscow</td>\n",
       "      <td>13:00:07</td>\n",
       "      <td>Wednesday</td>\n",
       "    </tr>\n",
       "    <tr>\n",
       "      <th>7</th>\n",
       "      <td>F03E1C1F</td>\n",
       "      <td>Feeling This Way</td>\n",
       "      <td>Polina Griffith</td>\n",
       "      <td>dance</td>\n",
       "      <td>Moscow</td>\n",
       "      <td>20:47:49</td>\n",
       "      <td>Wednesday</td>\n",
       "    </tr>\n",
       "    <tr>\n",
       "      <th>8</th>\n",
       "      <td>8FA1D3BE</td>\n",
       "      <td>И вновь продолжается бой</td>\n",
       "      <td>NaN</td>\n",
       "      <td>ruspop</td>\n",
       "      <td>Moscow</td>\n",
       "      <td>09:17:40</td>\n",
       "      <td>Friday</td>\n",
       "    </tr>\n",
       "    <tr>\n",
       "      <th>9</th>\n",
       "      <td>E772D5C0</td>\n",
       "      <td>Pessimist</td>\n",
       "      <td>NaN</td>\n",
       "      <td>dance</td>\n",
       "      <td>Saint-Petersburg</td>\n",
       "      <td>21:20:49</td>\n",
       "      <td>Wednesday</td>\n",
       "    </tr>\n",
       "  </tbody>\n",
       "</table>\n",
       "</div>"
      ],
      "text/plain": [
       "     userID                        Track            artist   genre  \\\n",
       "0  FFB692EC            Kamigata To Boots  The Mass Missile    rock   \n",
       "1  55204538  Delayed Because of Accident  Andreas Rönnberg    rock   \n",
       "2    20EC38            Funiculì funiculà       Mario Lanza     pop   \n",
       "3  A3DD03C9        Dragons in the Sunset        Fire + Ice    folk   \n",
       "4  E2DC1FAE                  Soul People        Space Echo   dance   \n",
       "5  842029A1                    Преданная         IMPERVTOR  rusrap   \n",
       "6  4CB90AA5                         True      Roman Messer   dance   \n",
       "7  F03E1C1F             Feeling This Way   Polina Griffith   dance   \n",
       "8  8FA1D3BE     И вновь продолжается бой               NaN  ruspop   \n",
       "9  E772D5C0                    Pessimist               NaN   dance   \n",
       "\n",
       "             City        time        Day  \n",
       "0  Saint-Petersburg  20:28:33  Wednesday  \n",
       "1            Moscow  14:07:09     Friday  \n",
       "2  Saint-Petersburg  20:58:07  Wednesday  \n",
       "3  Saint-Petersburg  08:37:09     Monday  \n",
       "4            Moscow  08:34:34     Monday  \n",
       "5  Saint-Petersburg  13:09:41     Friday  \n",
       "6            Moscow  13:00:07  Wednesday  \n",
       "7            Moscow  20:47:49  Wednesday  \n",
       "8            Moscow  09:17:40     Friday  \n",
       "9  Saint-Petersburg  21:20:49  Wednesday  "
      ]
     },
     "execution_count": 3,
     "metadata": {},
     "output_type": "execute_result"
    }
   ],
   "source": [
    "# получение первых 10 строк таблицы df\n",
    "df.head(10)"
   ]
  },
  {
   "cell_type": "markdown",
   "metadata": {
    "deletable": false,
    "editable": false,
    "id": "EO73Kwic_Zct",
    "tags": [
     "start_task"
    ]
   },
   "source": [
    "**Задание 4**\n",
    "\n",
    "\n",
    "Одной командой получить общую информацию о таблице c помощью метода `info()`:"
   ]
  },
  {
   "cell_type": "code",
   "execution_count": 4,
   "metadata": {
    "deletable": false,
    "id": "DSf2kIb-_Zct"
   },
   "outputs": [
    {
     "name": "stdout",
     "output_type": "stream",
     "text": [
      "<class 'pandas.core.frame.DataFrame'>\n",
      "RangeIndex: 65079 entries, 0 to 65078\n",
      "Data columns (total 7 columns):\n",
      " #   Column    Non-Null Count  Dtype \n",
      "---  ------    --------------  ----- \n",
      " 0     userID  65079 non-null  object\n",
      " 1   Track     63848 non-null  object\n",
      " 2   artist    57876 non-null  object\n",
      " 3   genre     63881 non-null  object\n",
      " 4     City    65079 non-null  object\n",
      " 5   time      65079 non-null  object\n",
      " 6   Day       65079 non-null  object\n",
      "dtypes: object(7)\n",
      "memory usage: 3.5+ MB\n"
     ]
    }
   ],
   "source": [
    "# получение общей информации о данных в таблице df\n",
    "df.info()"
   ]
  },
  {
   "cell_type": "markdown",
   "metadata": {},
   "source": [
    "В названиях столбцов неправильно указаны их названия, а именно: есть лишние пробелы, названия написаны не в **змеином_регистре**"
   ]
  },
  {
   "cell_type": "markdown",
   "metadata": {
    "deletable": false,
    "editable": false,
    "id": "TaQ2Iwbr_Zct"
   },
   "source": [
    "Итак, в таблице семь столбцов. Тип данных во всех столбцах — `object`.\n",
    "\n",
    "Согласно документации к данным:\n",
    "* `userID` — идентификатор пользователя;\n",
    "* `Track` — название трека;  \n",
    "* `artist` — имя исполнителя;\n",
    "* `genre` — название жанра;\n",
    "* `City` — город пользователя;\n",
    "* `time` — время начала прослушивания;\n",
    "* `Day` — день недели.\n",
    "\n",
    "Количество значений в столбцах различается. Значит, в данных есть пропущенные значения."
   ]
  },
  {
   "cell_type": "markdown",
   "metadata": {
    "deletable": false,
    "editable": false,
    "id": "rAfziTBDmf2h",
    "tags": [
     "start_task"
    ]
   },
   "source": [
    "**Задание 5**\n",
    "\n",
    "**Вопрос со свободной формой ответа**\n",
    "\n",
    "В названиях колонок видны нарушения стиля:\n",
    "* Строчные буквы сочетаются с прописными.\n",
    "* Встречаются пробелы.\n",
    "\n",
    "Какое третье нарушение?"
   ]
  },
  {
   "cell_type": "code",
   "execution_count": 5,
   "metadata": {
    "id": "jD8EXEIvmf2h"
   },
   "outputs": [],
   "source": [
    "# Напишите ваш ответ здесь комментарием. Не удаляйте символ #. Не меняйте тип этой ячейки на Markdown.\n",
    "# названия написаны не в змеином_регистре"
   ]
  },
  {
   "cell_type": "markdown",
   "metadata": {
    "deletable": false,
    "editable": false,
    "id": "MCB6-dXG_Zct"
   },
   "source": [
    "**Выводы**\n",
    "\n",
    "В каждой строке таблицы — данные о прослушанном треке. Часть колонок описывает саму композицию: название, исполнителя и жанр. Остальные данные рассказывают о пользователе: из какого он города, когда он слушал музыку. \n",
    "\n",
    "Предварительно можно утверждать, что данных достаточно для проверки гипотез. Но встречаются пропуски в данных, а в названиях колонок — расхождения с хорошим стилем.\n",
    "\n",
    "Чтобы двигаться дальше, нужно устранить проблемы в данных."
   ]
  },
  {
   "cell_type": "markdown",
   "metadata": {
    "deletable": false,
    "editable": false,
    "id": "SjYF6Ub9_Zct"
   },
   "source": [
    "## Предобработка данных\n",
    "Исправьте стиль в заголовках столбцов, исключите пропуски. Затем проверьте данные на дубликаты."
   ]
  },
  {
   "cell_type": "markdown",
   "metadata": {
    "deletable": false,
    "editable": false,
    "id": "dIaKXr29_Zct",
    "tags": [
     "start_task"
    ]
   },
   "source": [
    "### Стиль заголовков\n",
    "\n",
    "**Задание 6**\n",
    "\n",
    "Выведите на экран названия столбцов:"
   ]
  },
  {
   "cell_type": "code",
   "execution_count": 6,
   "metadata": {
    "deletable": false,
    "id": "oKOTdF_Q_Zct"
   },
   "outputs": [
    {
     "data": {
      "text/plain": [
       "Index(['  userID', 'Track', 'artist', 'genre', '  City  ', 'time', 'Day'], dtype='object')"
      ]
     },
     "execution_count": 6,
     "metadata": {},
     "output_type": "execute_result"
    }
   ],
   "source": [
    "# перечень названий столбцов таблицы df\n",
    "df.columns"
   ]
  },
  {
   "cell_type": "markdown",
   "metadata": {
    "deletable": false,
    "editable": false,
    "id": "zj5534cv_Zct",
    "tags": [
     "start_task"
    ]
   },
   "source": [
    "**Задание 7**\n",
    "\n",
    "\n",
    "Приведите названия в соответствие с хорошим стилем:\n",
    "* несколько слов в названии запишите в «змеином_регистре»,\n",
    "* все символы сделайте строчными,\n",
    "* устраните пробелы.\n",
    "\n",
    "Для этого переименуйте колонки так:\n",
    "* `'  userID'` → `'user_id'`;\n",
    "* `'Track'` → `'track'`;\n",
    "* `'  City  '` → `'city'`;\n",
    "* `'Day'` → `'day'`."
   ]
  },
  {
   "cell_type": "code",
   "execution_count": 7,
   "metadata": {
    "deletable": false,
    "id": "ISlFqs5y_Zct"
   },
   "outputs": [],
   "source": [
    "# переименование столбцов\n",
    "df=df.rename(columns = {'  userID': 'user_id', 'Track': 'track', \n",
    "                        '  City  ': 'city', 'Day': 'day'})"
   ]
  },
  {
   "cell_type": "markdown",
   "metadata": {
    "deletable": false,
    "editable": false,
    "id": "1dqbh00J_Zct",
    "tags": [
     "start_task"
    ]
   },
   "source": [
    "**Задание 8**\n",
    "\n",
    "\n",
    "Проверьте результат. Для этого ещё раз выведите на экран названия столбцов:"
   ]
  },
  {
   "cell_type": "code",
   "execution_count": 8,
   "metadata": {
    "deletable": false,
    "id": "d4NOAmTW_Zct"
   },
   "outputs": [
    {
     "data": {
      "text/plain": [
       "Index(['user_id', 'track', 'artist', 'genre', 'city', 'time', 'day'], dtype='object')"
      ]
     },
     "execution_count": 8,
     "metadata": {},
     "output_type": "execute_result"
    }
   ],
   "source": [
    "# проверка результатов - перечень названий столбцов\n",
    "df.columns"
   ]
  },
  {
   "cell_type": "markdown",
   "metadata": {
    "deletable": false,
    "editable": false,
    "id": "5ISfbcfY_Zct",
    "tags": [
     "start_task"
    ]
   },
   "source": [
    "### Пропуски значений\n",
    "\n",
    "**Задание 9**\n",
    "\n",
    "Сначала посчитайте, сколько в таблице пропущенных значений. Для этого достаточно двух методов `pandas`:"
   ]
  },
  {
   "cell_type": "code",
   "execution_count": 9,
   "metadata": {
    "deletable": false,
    "id": "RskX29qr_Zct"
   },
   "outputs": [
    {
     "data": {
      "text/plain": [
       "user_id       0\n",
       "track      1231\n",
       "artist     7203\n",
       "genre      1198\n",
       "city          0\n",
       "time          0\n",
       "day           0\n",
       "dtype: int64"
      ]
     },
     "execution_count": 9,
     "metadata": {},
     "output_type": "execute_result"
    }
   ],
   "source": [
    "# подсчёт пропусков\n",
    "df.isna().sum()"
   ]
  },
  {
   "cell_type": "markdown",
   "metadata": {
    "deletable": false,
    "editable": false,
    "id": "qubhgnlO_Zct"
   },
   "source": [
    "Не все пропущенные значения влияют на исследование. Так в `track` и `artist` пропуски не важны для вашей работы. Достаточно заменить их явными обозначениями.\n",
    "\n",
    "Но пропуски в `genre` могут помешать сравнению музыкальных вкусов в Москве и Санкт-Петербурге. На практике было бы правильно установить причину пропусков и восстановить данные. Такой возможности нет в учебном проекте. Придётся:\n",
    "* заполнить и эти пропуски явными обозначениями;\n",
    "* оценить, насколько они повредят расчётам. "
   ]
  },
  {
   "cell_type": "markdown",
   "metadata": {
    "deletable": false,
    "editable": false,
    "id": "fSv2laPA_Zct",
    "tags": [
     "start_task"
    ]
   },
   "source": [
    "**Задание 10**\n",
    "\n",
    "Замените пропущенные значения в столбцах `track`, `artist` и `genre` на строку `'unknown'`. Для этого создайте список `columns_to_replace`, переберите его элементы циклом `for` и для каждого столбца выполните замену пропущенных значений:"
   ]
  },
  {
   "cell_type": "code",
   "execution_count": 10,
   "metadata": {
    "deletable": false,
    "id": "KplB5qWs_Zct"
   },
   "outputs": [],
   "source": [
    "# перебор названий столбцов в цикле и замена пропущенных значений на 'unknown'\n",
    "columns_to_replace = ['track', 'artist', 'genre']\n",
    "for column in columns_to_replace:\n",
    "    df[column] = df[column].fillna('unknown')"
   ]
  },
  {
   "cell_type": "markdown",
   "metadata": {
    "deletable": false,
    "editable": false,
    "id": "Ilsm-MZo_Zct",
    "tags": [
     "start_task"
    ]
   },
   "source": [
    "**Задание 11**\n",
    "\n",
    "Убедитесь, что в таблице не осталось пропусков. Для этого ещё раз посчитайте пропущенные значения."
   ]
  },
  {
   "cell_type": "code",
   "execution_count": 11,
   "metadata": {
    "deletable": false,
    "id": "Tq4nYRX4_Zct"
   },
   "outputs": [
    {
     "data": {
      "text/plain": [
       "user_id    0\n",
       "track      0\n",
       "artist     0\n",
       "genre      0\n",
       "city       0\n",
       "time       0\n",
       "day        0\n",
       "dtype: int64"
      ]
     },
     "execution_count": 11,
     "metadata": {},
     "output_type": "execute_result"
    }
   ],
   "source": [
    "# подсчёт пропусков\n",
    "df.isna().sum()"
   ]
  },
  {
   "cell_type": "markdown",
   "metadata": {
    "deletable": false,
    "editable": false,
    "id": "BWKRtBJ3_Zct",
    "tags": [
     "start_task"
    ]
   },
   "source": [
    "### Дубликаты\n",
    "\n",
    "**Задание 12**\n",
    "\n",
    "Посчитайте явные дубликаты в таблице одной командой:"
   ]
  },
  {
   "cell_type": "code",
   "execution_count": 12,
   "metadata": {
    "deletable": false,
    "id": "36eES_S0_Zct"
   },
   "outputs": [
    {
     "data": {
      "text/plain": [
       "3826"
      ]
     },
     "execution_count": 12,
     "metadata": {},
     "output_type": "execute_result"
    }
   ],
   "source": [
    "# подсчёт явных дубликатов\n",
    "df.duplicated().sum()"
   ]
  },
  {
   "cell_type": "markdown",
   "metadata": {
    "deletable": false,
    "editable": false,
    "id": "Ot25h6XR_Zct",
    "tags": [
     "start_task"
    ]
   },
   "source": [
    "**Задание 13**\n",
    "\n",
    "Вызовите специальный метод `pandas`, чтобы удалить явные дубликаты:"
   ]
  },
  {
   "cell_type": "code",
   "execution_count": 27,
   "metadata": {
    "deletable": false,
    "id": "exFHq6tt_Zct"
   },
   "outputs": [],
   "source": [
    "# удаление явных дубликатов\n",
    "df = df.drop_duplicates()"
   ]
  },
  {
   "cell_type": "markdown",
   "metadata": {
    "deletable": false,
    "editable": false,
    "id": "Im2YwBEG_Zct",
    "tags": [
     "start_task"
    ]
   },
   "source": [
    "**Задание 14**\n",
    "\n",
    "Ещё раз посчитайте явные дубликаты в таблице — убедитесь, что полностью от них избавились:"
   ]
  },
  {
   "cell_type": "code",
   "execution_count": 28,
   "metadata": {
    "deletable": false,
    "id": "-8PuNWQ0_Zct"
   },
   "outputs": [
    {
     "data": {
      "text/plain": [
       "0"
      ]
     },
     "execution_count": 28,
     "metadata": {},
     "output_type": "execute_result"
    }
   ],
   "source": [
    "# проверка на отсутствие дубликатов\n",
    "df.duplicated().sum()"
   ]
  },
  {
   "cell_type": "markdown",
   "metadata": {
    "deletable": false,
    "editable": false,
    "id": "QlFBsxAr_Zct"
   },
   "source": [
    "Теперь избавьтесь от неявных дубликатов в колонке `genre`. Например, название одного и того же жанра может быть записано немного по-разному. Такие ошибки тоже повлияют на результат исследования."
   ]
  },
  {
   "cell_type": "markdown",
   "metadata": {
    "deletable": false,
    "editable": false,
    "id": "eSjWwsOh_Zct",
    "tags": [
     "start_task"
    ]
   },
   "source": [
    "**Задание 15**\n",
    "\n",
    "Выведите на экран список уникальных названий жанров, отсортированный в алфавитном порядке. Для этого:\n",
    "1. извлеките нужный столбец датафрейма; \n",
    "2. примените к нему метод сортировки;\n",
    "3. для отсортированного столбца вызовите метод, который вернёт уникальные значения из столбца."
   ]
  },
  {
   "cell_type": "code",
   "execution_count": 32,
   "metadata": {
    "deletable": false,
    "id": "JIUcqzZN_Zct"
   },
   "outputs": [
    {
     "data": {
      "text/plain": [
       "array(['acid', 'acoustic', 'action', 'adult', 'africa', 'afrikaans',\n",
       "       'alternative', 'alternativepunk', 'ambient', 'americana',\n",
       "       'animated', 'anime', 'arabesk', 'arabic', 'arena',\n",
       "       'argentinetango', 'art', 'audiobook', 'author', 'avantgarde',\n",
       "       'axé', 'baile', 'balkan', 'beats', 'bigroom', 'black', 'bluegrass',\n",
       "       'blues', 'bollywood', 'bossa', 'brazilian', 'breakbeat', 'breaks',\n",
       "       'broadway', 'cantautori', 'cantopop', 'canzone', 'caribbean',\n",
       "       'caucasian', 'celtic', 'chamber', 'chanson', 'children', 'chill',\n",
       "       'chinese', 'choral', 'christian', 'christmas', 'classical',\n",
       "       'classicmetal', 'club', 'colombian', 'comedy', 'conjazz',\n",
       "       'contemporary', 'country', 'cuban', 'dance', 'dancehall',\n",
       "       'dancepop', 'dark', 'death', 'deep', 'deutschrock', 'deutschspr',\n",
       "       'dirty', 'disco', 'dnb', 'documentary', 'downbeat', 'downtempo',\n",
       "       'drum', 'dub', 'dubstep', 'eastern', 'easy', 'electronic',\n",
       "       'electropop', 'emo', 'entehno', 'epicmetal', 'estrada', 'ethnic',\n",
       "       'eurofolk', 'european', 'experimental', 'extrememetal', 'fado',\n",
       "       'fairytail', 'film', 'fitness', 'flamenco', 'folk', 'folklore',\n",
       "       'folkmetal', 'folkrock', 'folktronica', 'forró', 'frankreich',\n",
       "       'französisch', 'french', 'funk', 'future', 'gangsta', 'garage',\n",
       "       'german', 'ghazal', 'gitarre', 'glitch', 'gospel', 'gothic',\n",
       "       'grime', 'grunge', 'gypsy', 'handsup', \"hard'n'heavy\", 'hardcore',\n",
       "       'hardstyle', 'hardtechno', 'hip', 'hip-hop', 'hiphop',\n",
       "       'historisch', 'holiday', 'hop', 'horror', 'house', 'hymn', 'idm',\n",
       "       'independent', 'indian', 'indie', 'indipop', 'industrial',\n",
       "       'inspirational', 'instrumental', 'international', 'irish', 'jam',\n",
       "       'japanese', 'jazz', 'jewish', 'jpop', 'jungle', 'k-pop',\n",
       "       'karadeniz', 'karaoke', 'kayokyoku', 'korean', 'laiko', 'latin',\n",
       "       'latino', 'leftfield', 'local', 'lounge', 'loungeelectronic',\n",
       "       'lovers', 'malaysian', 'mandopop', 'marschmusik', 'meditative',\n",
       "       'mediterranean', 'melodic', 'metal', 'metalcore', 'mexican',\n",
       "       'middle', 'minimal', 'miscellaneous', 'modern', 'mood', 'mpb',\n",
       "       'muslim', 'native', 'neoklassik', 'neue', 'new', 'newage',\n",
       "       'newwave', 'nu', 'nujazz', 'numetal', 'oceania', 'old', 'opera',\n",
       "       'orchestral', 'other', 'piano', 'podcasts', 'pop', 'popdance',\n",
       "       'popelectronic', 'popeurodance', 'poprussian', 'post',\n",
       "       'posthardcore', 'postrock', 'power', 'progmetal', 'progressive',\n",
       "       'psychedelic', 'punjabi', 'punk', 'quebecois', 'ragga', 'ram',\n",
       "       'rancheras', 'rap', 'rave', 'reggae', 'reggaeton', 'regional',\n",
       "       'relax', 'religious', 'retro', 'rhythm', 'rnb', 'rnr', 'rock',\n",
       "       'rockabilly', 'rockalternative', 'rockindie', 'rockother',\n",
       "       'romance', 'roots', 'ruspop', 'rusrap', 'rusrock', 'russian',\n",
       "       'salsa', 'samba', 'scenic', 'schlager', 'self', 'sertanejo',\n",
       "       'shanson', 'shoegazing', 'showtunes', 'singer', 'ska', 'skarock',\n",
       "       'slow', 'smooth', 'soft', 'soul', 'soulful', 'sound', 'soundtrack',\n",
       "       'southern', 'specialty', 'speech', 'spiritual', 'sport',\n",
       "       'stonerrock', 'surf', 'swing', 'synthpop', 'synthrock',\n",
       "       'sängerportrait', 'tango', 'tanzorchester', 'taraftar', 'tatar',\n",
       "       'tech', 'techno', 'teen', 'thrash', 'top', 'traditional',\n",
       "       'tradjazz', 'trance', 'tribal', 'trip', 'triphop', 'tropical',\n",
       "       'türk', 'türkçe', 'ukrrock', 'unknown', 'urban', 'uzbek',\n",
       "       'variété', 'vi', 'videogame', 'vocal', 'western', 'world',\n",
       "       'worldbeat', 'ïîï', 'электроника'], dtype=object)"
      ]
     },
     "execution_count": 32,
     "metadata": {},
     "output_type": "execute_result"
    }
   ],
   "source": [
    "# Просмотр уникальных названий жанров\n",
    "sorted_df = df.sort_values(by='genre')\n",
    "sorted_df['genre'].unique()"
   ]
  },
  {
   "cell_type": "markdown",
   "metadata": {
    "deletable": false,
    "editable": false,
    "id": "qej-Qmuo_Zct",
    "tags": [
     "start_task"
    ]
   },
   "source": [
    "**Задание 16**\n",
    "\n",
    "Просмотрите список и найдите неявные дубликаты названия `hiphop`. Это могут быть названия с ошибками или альтернативные названия того же жанра.\n",
    "\n",
    "Вы увидите следующие неявные дубликаты:\n",
    "* *hip*,\n",
    "* *hop*,\n",
    "* *hip-hop*.\n",
    "\n",
    "Чтобы очистить от них таблицу используйте метод `replace()` с двумя аргументами: списком строк-дубликатов (включащий *hip*, *hop* и *hip-hop*) и строкой с правильным значением. Вам нужно исправить колонку `genre` в таблице `df`: заменить каждое значение из списка дубликатов на верное. Вместо `hip`, `hop` и `hip-hop` в таблице должно быть значение `hiphop`:"
   ]
  },
  {
   "cell_type": "code",
   "execution_count": 34,
   "metadata": {
    "deletable": false,
    "id": "ErNDkmns_Zct"
   },
   "outputs": [],
   "source": [
    "# Устранение неявных дубликатов\n",
    "duplicates = ['hip', 'hop', 'hip-hop']\n",
    "right_genre = 'hiphop'\n",
    "df['genre'] = df['genre'].replace(duplicates, right_genre)"
   ]
  },
  {
   "cell_type": "markdown",
   "metadata": {
    "deletable": false,
    "editable": false,
    "id": "zQKF16_RG15m",
    "tags": [
     "start_task"
    ]
   },
   "source": [
    "**Задание 17**\n",
    "\n",
    "Проверьте, что заменили неправильные названия:\n",
    "\n",
    "*   hip,\n",
    "*   hop,\n",
    "*   hip-hop.\n",
    "\n",
    "Выведите отсортированный список уникальных значений столбца `genre`:"
   ]
  },
  {
   "cell_type": "code",
   "execution_count": 37,
   "metadata": {
    "deletable": false,
    "id": "wvixALnFG15m"
   },
   "outputs": [
    {
     "data": {
      "text/plain": [
       "array(['acid', 'acoustic', 'action', 'adult', 'africa', 'afrikaans',\n",
       "       'alternative', 'alternativepunk', 'ambient', 'americana',\n",
       "       'animated', 'anime', 'arabesk', 'arabic', 'arena',\n",
       "       'argentinetango', 'art', 'audiobook', 'author', 'avantgarde',\n",
       "       'axé', 'baile', 'balkan', 'beats', 'bigroom', 'black', 'bluegrass',\n",
       "       'blues', 'bollywood', 'bossa', 'brazilian', 'breakbeat', 'breaks',\n",
       "       'broadway', 'cantautori', 'cantopop', 'canzone', 'caribbean',\n",
       "       'caucasian', 'celtic', 'chamber', 'chanson', 'children', 'chill',\n",
       "       'chinese', 'choral', 'christian', 'christmas', 'classical',\n",
       "       'classicmetal', 'club', 'colombian', 'comedy', 'conjazz',\n",
       "       'contemporary', 'country', 'cuban', 'dance', 'dancehall',\n",
       "       'dancepop', 'dark', 'death', 'deep', 'deutschrock', 'deutschspr',\n",
       "       'dirty', 'disco', 'dnb', 'documentary', 'downbeat', 'downtempo',\n",
       "       'drum', 'dub', 'dubstep', 'eastern', 'easy', 'electronic',\n",
       "       'electropop', 'emo', 'entehno', 'epicmetal', 'estrada', 'ethnic',\n",
       "       'eurofolk', 'european', 'experimental', 'extrememetal', 'fado',\n",
       "       'fairytail', 'film', 'fitness', 'flamenco', 'folk', 'folklore',\n",
       "       'folkmetal', 'folkrock', 'folktronica', 'forró', 'frankreich',\n",
       "       'französisch', 'french', 'funk', 'future', 'gangsta', 'garage',\n",
       "       'german', 'ghazal', 'gitarre', 'glitch', 'gospel', 'gothic',\n",
       "       'grime', 'grunge', 'gypsy', 'handsup', \"hard'n'heavy\", 'hardcore',\n",
       "       'hardstyle', 'hardtechno', 'hiphop', 'historisch', 'holiday',\n",
       "       'horror', 'house', 'hymn', 'idm', 'independent', 'indian', 'indie',\n",
       "       'indipop', 'industrial', 'inspirational', 'instrumental',\n",
       "       'international', 'irish', 'jam', 'japanese', 'jazz', 'jewish',\n",
       "       'jpop', 'jungle', 'k-pop', 'karadeniz', 'karaoke', 'kayokyoku',\n",
       "       'korean', 'laiko', 'latin', 'latino', 'leftfield', 'local',\n",
       "       'lounge', 'loungeelectronic', 'lovers', 'malaysian', 'mandopop',\n",
       "       'marschmusik', 'meditative', 'mediterranean', 'melodic', 'metal',\n",
       "       'metalcore', 'mexican', 'middle', 'minimal', 'miscellaneous',\n",
       "       'modern', 'mood', 'mpb', 'muslim', 'native', 'neoklassik', 'neue',\n",
       "       'new', 'newage', 'newwave', 'nu', 'nujazz', 'numetal', 'oceania',\n",
       "       'old', 'opera', 'orchestral', 'other', 'piano', 'podcasts', 'pop',\n",
       "       'popdance', 'popelectronic', 'popeurodance', 'poprussian', 'post',\n",
       "       'posthardcore', 'postrock', 'power', 'progmetal', 'progressive',\n",
       "       'psychedelic', 'punjabi', 'punk', 'quebecois', 'ragga', 'ram',\n",
       "       'rancheras', 'rap', 'rave', 'reggae', 'reggaeton', 'regional',\n",
       "       'relax', 'religious', 'retro', 'rhythm', 'rnb', 'rnr', 'rock',\n",
       "       'rockabilly', 'rockalternative', 'rockindie', 'rockother',\n",
       "       'romance', 'roots', 'ruspop', 'rusrap', 'rusrock', 'russian',\n",
       "       'salsa', 'samba', 'scenic', 'schlager', 'self', 'sertanejo',\n",
       "       'shanson', 'shoegazing', 'showtunes', 'singer', 'ska', 'skarock',\n",
       "       'slow', 'smooth', 'soft', 'soul', 'soulful', 'sound', 'soundtrack',\n",
       "       'southern', 'specialty', 'speech', 'spiritual', 'sport',\n",
       "       'stonerrock', 'surf', 'swing', 'synthpop', 'synthrock',\n",
       "       'sängerportrait', 'tango', 'tanzorchester', 'taraftar', 'tatar',\n",
       "       'tech', 'techno', 'teen', 'thrash', 'top', 'traditional',\n",
       "       'tradjazz', 'trance', 'tribal', 'trip', 'triphop', 'tropical',\n",
       "       'türk', 'türkçe', 'ukrrock', 'unknown', 'urban', 'uzbek',\n",
       "       'variété', 'vi', 'videogame', 'vocal', 'western', 'world',\n",
       "       'worldbeat', 'ïîï', 'электроника'], dtype=object)"
      ]
     },
     "execution_count": 37,
     "metadata": {},
     "output_type": "execute_result"
    }
   ],
   "source": [
    "# Проверка на неявные дубликаты\n",
    "sorted_df = df.sort_values(by='genre')\n",
    "sorted_df['genre'].unique()"
   ]
  },
  {
   "cell_type": "markdown",
   "metadata": {
    "deletable": false,
    "editable": false,
    "id": "jz6a9-7HQUDd"
   },
   "source": [
    "**Выводы**\n",
    "\n",
    "Предобработка обнаружила три проблемы в данных:\n",
    "\n",
    "- нарушения в стиле заголовков,\n",
    "- пропущенные значения,\n",
    "- дубликаты — явные и неявные.\n",
    "\n",
    "Вы исправили заголовки, чтобы упростить работу с таблицей. Без дубликатов исследование станет более точным.\n",
    "\n",
    "Пропущенные значения вы заменили на `'unknown'`. Ещё предстоит увидеть, не повредят ли исследованию пропуски в колонке `genre`.\n",
    "\n",
    "Теперь можно перейти к проверке гипотез. "
   ]
  },
  {
   "cell_type": "markdown",
   "metadata": {
    "deletable": false,
    "editable": false,
    "id": "WttZHXH0SqKk"
   },
   "source": [
    "## Проверка гипотез"
   ]
  },
  {
   "cell_type": "markdown",
   "metadata": {
    "deletable": false,
    "editable": false,
    "id": "Im936VVi_Zcu"
   },
   "source": [
    "### Сравнение поведения пользователей двух столиц"
   ]
  },
  {
   "cell_type": "markdown",
   "metadata": {
    "deletable": false,
    "editable": false,
    "id": "nwt_MuaL_Zcu"
   },
   "source": [
    "Первая гипотеза утверждает, что пользователи по-разному слушают музыку в Москве и Санкт-Петербурге. Проверьте это предположение по данным о трёх днях недели — понедельнике, среде и пятнице. Для этого:\n",
    "\n",
    "* Разделите пользователей Москвы и Санкт-Петербурга.\n",
    "* Сравните, сколько треков послушала каждая группа пользователей в понедельник, среду и пятницу.\n"
   ]
  },
  {
   "cell_type": "markdown",
   "metadata": {
    "deletable": false,
    "editable": false,
    "id": "8Dw_YMmT_Zcu",
    "tags": [
     "start_task"
    ]
   },
   "source": [
    "**Задание 18**\n",
    "\n",
    "Для тренировки сначала выполните каждый из расчётов по отдельности. \n",
    "\n",
    "Оцените активность пользователей в каждом городе. Сгруппируйте данные по городу и посчитайте прослушивания в каждой группе.\n",
    "\n"
   ]
  },
  {
   "cell_type": "code",
   "execution_count": 49,
   "metadata": {
    "deletable": false,
    "id": "0_Qs96oh_Zcu"
   },
   "outputs": [
    {
     "data": {
      "text/plain": [
       "city\n",
       "Moscow              42741\n",
       "Saint-Petersburg    18512\n",
       "Name: city, dtype: int64"
      ]
     },
     "execution_count": 49,
     "metadata": {},
     "output_type": "execute_result"
    }
   ],
   "source": [
    "# Подсчёт прослушиваний в каждом городе\n",
    "df.groupby('city')['city'].count()"
   ]
  },
  {
   "cell_type": "markdown",
   "metadata": {
    "deletable": false,
    "editable": false,
    "id": "dzli3w8o_Zcu",
    "tags": [
     "start_task"
    ]
   },
   "source": [
    "В Москве прослушиваний больше, чем в Петербурге. Из этого не следует, что московские пользователи чаще слушают музыку. Просто самих пользователей в Москве больше.\n",
    "\n",
    "**Задание 19**\n",
    "\n",
    "Теперь сгруппируйте данные по дню недели и посчитайте прослушивания в понедельник, среду и пятницу. Учтите, что в данных есть информация о прослушиваниях только за эти дни.\n"
   ]
  },
  {
   "cell_type": "code",
   "execution_count": 50,
   "metadata": {
    "deletable": false,
    "id": "uZMKjiJz_Zcu"
   },
   "outputs": [
    {
     "data": {
      "text/plain": [
       "day\n",
       "Friday       21840\n",
       "Monday       21354\n",
       "Wednesday    18059\n",
       "Name: day, dtype: int64"
      ]
     },
     "execution_count": 50,
     "metadata": {},
     "output_type": "execute_result"
    }
   ],
   "source": [
    "# Подсчёт прослушиваний в каждый из трёх дней\n",
    "df.groupby('day')['day'].count()"
   ]
  },
  {
   "cell_type": "markdown",
   "metadata": {
    "deletable": false,
    "editable": false,
    "id": "cC2tNrlL_Zcu"
   },
   "source": [
    "В среднем пользователи из двух городов менее активны по средам. Но картина может измениться, если рассмотреть каждый город в отдельности."
   ]
  },
  {
   "cell_type": "markdown",
   "metadata": {
    "deletable": false,
    "editable": false,
    "id": "POzs8bGa_Zcu",
    "tags": [
     "start_task"
    ]
   },
   "source": [
    "**Задание 20**\n",
    "\n",
    "\n",
    "Вы видели, как работает группировка по городу и по дням недели. Теперь напишите функцию, которая объединит два эти расчёта.\n",
    "\n",
    "Создайте функцию `number_tracks()`, которая посчитает прослушивания для заданного дня и города. Ей понадобятся два параметра:\n",
    "* день недели,\n",
    "* название города.\n",
    "\n",
    "В функции сохраните в переменную строки исходной таблицы, у которых значение:\n",
    "  * в колонке `day` равно параметру `day`,\n",
    "  * в колонке `city` равно параметру `city`.\n",
    "\n",
    "Для этого примените последовательную фильтрацию с логической индексацией (или сложные логические выражения в одну строку, если вы уже знакомы с ними).\n",
    "\n",
    "Затем посчитайте значения в столбце `user_id` получившейся таблицы. Результат сохраните в новую переменную. Верните эту переменную из функции."
   ]
  },
  {
   "cell_type": "code",
   "execution_count": 104,
   "metadata": {
    "deletable": false,
    "id": "Nz3GdQB1_Zcu"
   },
   "outputs": [],
   "source": [
    "# <создание функции number_tracks()>\n",
    "# Объявляется функция с двумя параметрами: day, city.\n",
    "# В переменной track_list сохраняются те строки таблицы df, для которых \n",
    "# значение в столбце 'day' равно параметру day и одновременно значение\n",
    "# в столбце 'city' равно параметру city (используйте последовательную фильтрацию\n",
    "# с помощью логической индексации или сложные логические выражения в одну строку, если вы уже знакомы с ними).\n",
    "# В переменной track_list_count сохраняется число значений столбца 'user_id',\n",
    "# рассчитанное методом count() для таблицы track_list.\n",
    "# Функция возвращает число - значение track_list_count.\n",
    "def number_tracks(day, city):\n",
    "    track_list = df[df['day']==day]\n",
    "    track_list = track_list[track_list['city']==city]['user_id']\n",
    "    track_list_count = track_list.count()\n",
    "    return track_list_count\n",
    "# Функция для подсчёта прослушиваний для конкретного города и дня.\n",
    "# С помощью последовательной фильтрации с логической индексацией она \n",
    "# сначала получит из исходной таблицы строки с нужным днём,\n",
    "# затем из результата отфильтрует строки с нужным городом,\n",
    "# методом count() посчитает количество значений в колонке user_id. \n",
    "# Это количество функция вернёт в качестве результата"
   ]
  },
  {
   "cell_type": "markdown",
   "metadata": {
    "deletable": false,
    "editable": false,
    "id": "ytf7xFrFJQ2r",
    "tags": [
     "start_task"
    ]
   },
   "source": [
    "**Задание 21**\n",
    "\n",
    "Вызовите `number_tracks()` шесть раз, меняя значение параметров — так, чтобы получить данные для каждого города в каждый из трёх дней."
   ]
  },
  {
   "cell_type": "code",
   "execution_count": 105,
   "metadata": {
    "deletable": false,
    "id": "rJcRATNQ_Zcu"
   },
   "outputs": [
    {
     "data": {
      "text/plain": [
       "15740"
      ]
     },
     "execution_count": 105,
     "metadata": {},
     "output_type": "execute_result"
    }
   ],
   "source": [
    "# количество прослушиваний в Москве по понедельникам\n",
    "number_tracks('Monday', 'Moscow')"
   ]
  },
  {
   "cell_type": "code",
   "execution_count": 107,
   "metadata": {
    "deletable": false,
    "id": "hq_ncZ5T_Zcu"
   },
   "outputs": [
    {
     "data": {
      "text/plain": [
       "5614"
      ]
     },
     "execution_count": 107,
     "metadata": {},
     "output_type": "execute_result"
    }
   ],
   "source": [
    "# количество прослушиваний в Санкт-Петербурге по понедельникам\n",
    "number_tracks('Monday', 'Saint-Petersburg')"
   ]
  },
  {
   "cell_type": "code",
   "execution_count": 108,
   "metadata": {
    "deletable": false,
    "id": "_NTy2VPU_Zcu"
   },
   "outputs": [
    {
     "data": {
      "text/plain": [
       "11056"
      ]
     },
     "execution_count": 108,
     "metadata": {},
     "output_type": "execute_result"
    }
   ],
   "source": [
    "# количество прослушиваний в Москве по средам\n",
    "number_tracks('Wednesday', 'Moscow')"
   ]
  },
  {
   "cell_type": "code",
   "execution_count": 109,
   "metadata": {
    "deletable": false,
    "id": "j2y3TAwo_Zcu"
   },
   "outputs": [
    {
     "data": {
      "text/plain": [
       "7003"
      ]
     },
     "execution_count": 109,
     "metadata": {},
     "output_type": "execute_result"
    }
   ],
   "source": [
    "# количество прослушиваний в Санкт-Петербурге по средам\n",
    "number_tracks('Wednesday', 'Saint-Petersburg')"
   ]
  },
  {
   "cell_type": "code",
   "execution_count": 110,
   "metadata": {
    "deletable": false,
    "id": "vYDw5u_K_Zcu"
   },
   "outputs": [
    {
     "data": {
      "text/plain": [
       "15945"
      ]
     },
     "execution_count": 110,
     "metadata": {},
     "output_type": "execute_result"
    }
   ],
   "source": [
    "# количество прослушиваний в Москве по пятницам\n",
    "number_tracks('Friday', 'Moscow')"
   ]
  },
  {
   "cell_type": "code",
   "execution_count": 106,
   "metadata": {
    "deletable": false,
    "id": "8_yzFtW3_Zcu"
   },
   "outputs": [
    {
     "data": {
      "text/plain": [
       "5895"
      ]
     },
     "execution_count": 106,
     "metadata": {},
     "output_type": "execute_result"
    }
   ],
   "source": [
    "# количество прослушиваний в Санкт-Петербурге по пятницам\n",
    "number_tracks('Friday', 'Saint-Petersburg')"
   ]
  },
  {
   "cell_type": "markdown",
   "metadata": {
    "deletable": false,
    "editable": false,
    "id": "7QXffbO-_Zcu",
    "tags": [
     "start_task"
    ]
   },
   "source": [
    "**Задание 22**\n",
    "\n",
    "Создайте c помощью конструктора `pd.DataFrame` таблицу, где\n",
    "* названия колонок — `['city', 'monday', 'wednesday', 'friday']`;\n",
    "* данные — результаты, которые вы получили с помощью `number_tracks`."
   ]
  },
  {
   "cell_type": "code",
   "execution_count": 111,
   "metadata": {
    "deletable": false,
    "id": "APAcLpOr_Zcu"
   },
   "outputs": [
    {
     "data": {
      "text/html": [
       "<div>\n",
       "<style scoped>\n",
       "    .dataframe tbody tr th:only-of-type {\n",
       "        vertical-align: middle;\n",
       "    }\n",
       "\n",
       "    .dataframe tbody tr th {\n",
       "        vertical-align: top;\n",
       "    }\n",
       "\n",
       "    .dataframe thead th {\n",
       "        text-align: right;\n",
       "    }\n",
       "</style>\n",
       "<table border=\"1\" class=\"dataframe\">\n",
       "  <thead>\n",
       "    <tr style=\"text-align: right;\">\n",
       "      <th></th>\n",
       "      <th>city</th>\n",
       "      <th>monday</th>\n",
       "      <th>wednesday</th>\n",
       "      <th>friday</th>\n",
       "    </tr>\n",
       "  </thead>\n",
       "  <tbody>\n",
       "    <tr>\n",
       "      <th>0</th>\n",
       "      <td>Москва</td>\n",
       "      <td>15740</td>\n",
       "      <td>11056</td>\n",
       "      <td>15945</td>\n",
       "    </tr>\n",
       "    <tr>\n",
       "      <th>1</th>\n",
       "      <td>Санкт-Петербург</td>\n",
       "      <td>5614</td>\n",
       "      <td>7003</td>\n",
       "      <td>5895</td>\n",
       "    </tr>\n",
       "  </tbody>\n",
       "</table>\n",
       "</div>"
      ],
      "text/plain": [
       "              city  monday  wednesday  friday\n",
       "0           Москва   15740      11056   15945\n",
       "1  Санкт-Петербург    5614       7003    5895"
      ]
     },
     "execution_count": 111,
     "metadata": {},
     "output_type": "execute_result"
    }
   ],
   "source": [
    "# Таблица с результатами\n",
    "info = pd.DataFrame(data=[['Москва', 15740, 11056, 15945], ['Санкт-Петербург', 5614, 7003, 5895]], columns=['city', 'monday', 'wednesday', 'friday'])\n",
    "info "
   ]
  },
  {
   "cell_type": "markdown",
   "metadata": {
    "deletable": false,
    "editable": false,
    "id": "-EgPIHYu_Zcu"
   },
   "source": [
    "**Выводы**\n",
    "\n",
    "Данные показывают разницу поведения пользователей:\n",
    "\n",
    "- В Москве пик прослушиваний приходится на понедельник и пятницу, а в среду заметен спад.\n",
    "- В Петербурге, наоборот, больше слушают музыку по средам. Активность в понедельник и пятницу здесь почти в равной мере уступает среде.\n",
    "\n",
    "Значит, данные говорят в пользу первой гипотезы."
   ]
  },
  {
   "cell_type": "markdown",
   "metadata": {
    "deletable": false,
    "editable": false,
    "id": "atZAxtq4_Zcu"
   },
   "source": [
    "### Музыка в начале и в конце недели"
   ]
  },
  {
   "cell_type": "markdown",
   "metadata": {
    "deletable": false,
    "editable": false,
    "id": "eXrQqXFH_Zcu"
   },
   "source": [
    "Согласно второй гипотезе, утром в понедельник в Москве преобладают одни жанры, а в Петербурге — другие. Так же и вечером пятницы преобладают разные жанры — в зависимости от города."
   ]
  },
  {
   "cell_type": "markdown",
   "metadata": {
    "deletable": false,
    "editable": false,
    "id": "S8UcW6Hw_Zcu",
    "tags": [
     "start_task"
    ]
   },
   "source": [
    "**Задание 23**\n",
    "\n",
    "Сохраните таблицы с данными в две переменные:\n",
    "* по Москве — в `moscow_general`;\n",
    "* по Санкт-Петербургу — в `spb_general`."
   ]
  },
  {
   "cell_type": "code",
   "execution_count": 113,
   "metadata": {
    "deletable": false,
    "id": "qeaFfM_P_Zcu"
   },
   "outputs": [],
   "source": [
    "# получение таблицы moscow_general из тех строк таблицы df, \n",
    "# для которых значение в столбце 'city' равно 'Moscow'\n",
    "moscow_general = df[df['city']=='Moscow']"
   ]
  },
  {
   "cell_type": "code",
   "execution_count": 112,
   "metadata": {
    "deletable": false,
    "id": "ORaVRKto_Zcu"
   },
   "outputs": [],
   "source": [
    "# получение таблицы spb_general из тех строк таблицы df,\n",
    "# для которых значение в столбце 'city' равно 'Saint-Petersburg'\n",
    "spb_general = df[df['city']=='Saint-Petersburg']"
   ]
  },
  {
   "cell_type": "markdown",
   "metadata": {
    "deletable": false,
    "editable": false,
    "id": "MEJV-CX2_Zcu",
    "tags": [
     "start_task"
    ]
   },
   "source": [
    "**Задание 24**\n",
    "\n",
    "Создайте функцию `genre_weekday()` с четырьмя параметрами:\n",
    "* таблица (датафрейм) с данными,\n",
    "* день недели,\n",
    "* начальная временная метка в формате 'hh:mm', \n",
    "* последняя временная метка в формате 'hh:mm'.\n",
    "\n",
    "Функция должна вернуть информацию о топ-10 жанров тех треков, которые прослушивали в указанный день, в промежутке между двумя отметками времени."
   ]
  },
  {
   "cell_type": "code",
   "execution_count": 117,
   "metadata": {
    "deletable": false,
    "id": "laJT9BYl_Zcu"
   },
   "outputs": [],
   "source": [
    "# Объявление функции genre_weekday() с параметрами table, day, time1, time2,\n",
    "# которая возвращает информацию о самых популярных жанрах в указанный день в\n",
    "# заданное время:\n",
    "# 1) в переменную genre_df сохраняются те строки переданного датафрейма table, для\n",
    "#    которых одновременно:\n",
    "#    - значение в столбце day равно значению аргумента day\n",
    "#    - значение в столбце time больше значения аргумента time1\n",
    "#    - значение в столбце time меньше значения аргумента time2\n",
    "#    Используйте последовательную фильтрацию с помощью логической индексации.\n",
    "# 2) сгруппировать датафрейм genre_df по столбцу genre, взять один из его\n",
    "#    столбцов и посчитать методом count() количество записей для каждого из\n",
    "#    присутствующих жанров, получившийся Series записать в переменную\n",
    "#    genre_df_count\n",
    "# 3) отсортировать genre_df_count по убыванию встречаемости и сохранить\n",
    "#    в переменную genre_df_sorted\n",
    "# 4) вернуть Series из 10 первых значений genre_df_sorted, это будут топ-10\n",
    "#    популярных жанров (в указанный день, в заданное время)\n",
    "\n",
    "def genre_weekday(df, day, time1, time2):\n",
    "    # последовательная фильтрация\n",
    "    # оставляем в genre_df только те строки df, у которых день равен day\n",
    "    genre_df = df[df['day'] == day]\n",
    "    \n",
    "    # оставляем в genre_df только те строки genre_df, у которых время меньше time2\n",
    "    genre_df = genre_df[genre_df['time'] < time2]\n",
    "    \n",
    "    # оставляем в genre_df только те строки genre_df, у которых время больше time1\n",
    "    genre_df = genre_df[genre_df['time'] > time1]\n",
    "    \n",
    "    # сгруппируем отфильтрованный датафрейм по столбцу с названиями жанров, возьмём столбец genre и посчитаем кол-во строк для каждого жанра методом count()\n",
    "    genre_df_grouped = genre_df.groupby('genre')['genre'].count()\n",
    "    \n",
    "    # отсортируем результат по убыванию (чтобы в начале Series оказались самые популярные жанры)\n",
    "    genre_df_sorted = genre_df_grouped.sort_values(ascending=False)\n",
    "    \n",
    "    # вернём Series с 10 самыми популярными жанрами в указанный отрезок времени заданного дня\n",
    "    return genre_df_sorted[:10]"
   ]
  },
  {
   "cell_type": "markdown",
   "metadata": {
    "deletable": false,
    "editable": false,
    "id": "la2s2_PF_Zcu",
    "tags": [
     "start_task"
    ]
   },
   "source": [
    "**Задание 25**\n",
    "\n",
    "\n",
    "Cравните результаты функции `genre_weekday()` для Москвы и Санкт-Петербурга в понедельник утром (с 7:00 до 11:00) и в пятницу вечером (с 17:00 до 23:00):"
   ]
  },
  {
   "cell_type": "code",
   "execution_count": 118,
   "metadata": {
    "deletable": false,
    "id": "yz7itPUQ_Zcu"
   },
   "outputs": [
    {
     "data": {
      "text/plain": [
       "genre\n",
       "pop            781\n",
       "dance          549\n",
       "electronic     480\n",
       "rock           474\n",
       "hiphop         286\n",
       "ruspop         186\n",
       "world          181\n",
       "rusrap         175\n",
       "alternative    164\n",
       "unknown        161\n",
       "Name: genre, dtype: int64"
      ]
     },
     "execution_count": 118,
     "metadata": {},
     "output_type": "execute_result"
    }
   ],
   "source": [
    "# вызов функции для утра понедельника в Москве (вместо df — таблица moscow_general)\n",
    "# объекты, хранящие время, являются строками и сравниваются как строки\n",
    "# пример вызова: genre_weekday(moscow_general, 'Monday', '07:00', '11:00')\n",
    "genre_weekday(moscow_general, 'Monday', '07:00', '11:00')"
   ]
  },
  {
   "cell_type": "code",
   "execution_count": 120,
   "metadata": {
    "deletable": false,
    "id": "kwUcHPdy_Zcu"
   },
   "outputs": [
    {
     "data": {
      "text/plain": [
       "genre\n",
       "pop            218\n",
       "dance          182\n",
       "rock           162\n",
       "electronic     147\n",
       "hiphop          80\n",
       "ruspop          64\n",
       "alternative     58\n",
       "rusrap          55\n",
       "jazz            44\n",
       "classical       40\n",
       "Name: genre, dtype: int64"
      ]
     },
     "execution_count": 120,
     "metadata": {},
     "output_type": "execute_result"
    }
   ],
   "source": [
    "# вызов функции для утра понедельника в Петербурге (вместо df — таблица spb_general)\n",
    "genre_weekday(spb_general, 'Monday', '07:00', '11:00')"
   ]
  },
  {
   "cell_type": "code",
   "execution_count": 121,
   "metadata": {
    "deletable": false,
    "id": "EzXVRE1o_Zcu"
   },
   "outputs": [
    {
     "data": {
      "text/plain": [
       "genre\n",
       "pop            713\n",
       "rock           517\n",
       "dance          495\n",
       "electronic     482\n",
       "hiphop         273\n",
       "world          208\n",
       "ruspop         170\n",
       "alternative    163\n",
       "classical      163\n",
       "rusrap         142\n",
       "Name: genre, dtype: int64"
      ]
     },
     "execution_count": 121,
     "metadata": {},
     "output_type": "execute_result"
    }
   ],
   "source": [
    "# вызов функции для вечера пятницы в Москве\n",
    "genre_weekday(moscow_general, 'Friday', '17:00', '23:00')"
   ]
  },
  {
   "cell_type": "code",
   "execution_count": 122,
   "metadata": {
    "deletable": false,
    "id": "JZaEKu5v_Zcu"
   },
   "outputs": [
    {
     "data": {
      "text/plain": [
       "genre\n",
       "pop            256\n",
       "electronic     216\n",
       "rock           216\n",
       "dance          210\n",
       "hiphop          97\n",
       "alternative     63\n",
       "jazz            61\n",
       "classical       60\n",
       "rusrap          59\n",
       "world           54\n",
       "Name: genre, dtype: int64"
      ]
     },
     "execution_count": 122,
     "metadata": {},
     "output_type": "execute_result"
    }
   ],
   "source": [
    "# вызов функции для вечера пятницы в Петербурге\n",
    "genre_weekday(spb_general, 'Friday', '17:00', '23:00')"
   ]
  },
  {
   "cell_type": "markdown",
   "metadata": {
    "deletable": false,
    "editable": false,
    "id": "wrCe4MNX_Zcu"
   },
   "source": [
    "**Выводы**\n",
    "\n",
    "Если сравнить топ-10 жанров в понедельник утром, можно сделать такие выводы:\n",
    "\n",
    "1. В Москве и Петербурге слушают похожую музыку. Единственное отличие — в московский рейтинг вошёл жанр “world”, а в петербургский — джаз и классика.\n",
    "\n",
    "2. В Москве пропущенных значений оказалось так много, что значение `'unknown'` заняло десятое место среди самых популярных жанров. Значит, пропущенные значения занимают существенную долю в данных и угрожают достоверности исследования.\n",
    "\n",
    "Вечер пятницы не меняет эту картину. Некоторые жанры поднимаются немного выше, другие спускаются, но в целом топ-10 остаётся тем же самым.\n",
    "\n",
    "Таким образом, вторая гипотеза подтвердилась лишь частично:\n",
    "* Пользователи слушают похожую музыку в начале недели и в конце.\n",
    "* Разница между Москвой и Петербургом не слишком выражена. В Москве чаще слушают русскую популярную музыку, в Петербурге — джаз.\n",
    "\n",
    "Однако пропуски в данных ставят под сомнение этот результат. В Москве их так много, что рейтинг топ-10 мог бы выглядеть иначе, если бы не утерянные  данные о жанрах."
   ]
  },
  {
   "cell_type": "markdown",
   "metadata": {
    "deletable": false,
    "editable": false,
    "id": "JolODAqr_Zcu"
   },
   "source": [
    "### Жанровые предпочтения в Москве и Петербурге\n",
    "\n",
    "Гипотеза: Петербург — столица рэпа, музыку этого жанра там слушают чаще, чем в Москве.  А Москва — город контрастов, в котором, тем не менее, преобладает поп-музыка."
   ]
  },
  {
   "cell_type": "markdown",
   "metadata": {
    "deletable": false,
    "editable": false,
    "id": "DlegSvaT_Zcu",
    "tags": [
     "start_task"
    ]
   },
   "source": [
    "**Задание 26**\n",
    "\n",
    "Сгруппируйте таблицу `moscow_general` по жанру и посчитайте прослушивания треков каждого жанра методом `count()`. Затем отсортируйте результат в порядке убывания и сохраните его в таблице `moscow_genres`."
   ]
  },
  {
   "cell_type": "code",
   "execution_count": 127,
   "metadata": {
    "deletable": false,
    "id": "r19lIPke_Zcu"
   },
   "outputs": [],
   "source": [
    "# одной строкой: группировка таблицы moscow_general по столбцу 'genre', \n",
    "# подсчёт числа значений 'genre' в этой группировке методом count(), \n",
    "# сортировка получившегося Series в порядке убывания и сохранение в moscow_genres\n",
    "moscow_genres = moscow_general.groupby('genre')['genre'].count().sort_values(ascending=False)"
   ]
  },
  {
   "cell_type": "markdown",
   "metadata": {
    "deletable": false,
    "editable": false,
    "id": "6kMuomxTiIr8",
    "tags": [
     "start_task"
    ]
   },
   "source": [
    "**Задание 27**\n",
    "\n",
    "Выведите на экран первые десять строк `moscow_genres`:"
   ]
  },
  {
   "cell_type": "code",
   "execution_count": 128,
   "metadata": {
    "deletable": false,
    "id": "WhCSooF8_Zcv"
   },
   "outputs": [
    {
     "data": {
      "text/plain": [
       "genre\n",
       "pop            5892\n",
       "dance          4435\n",
       "rock           3965\n",
       "electronic     3786\n",
       "hiphop         2096\n",
       "classical      1616\n",
       "world          1432\n",
       "alternative    1379\n",
       "ruspop         1372\n",
       "rusrap         1161\n",
       "Name: genre, dtype: int64"
      ]
     },
     "execution_count": 128,
     "metadata": {},
     "output_type": "execute_result"
    }
   ],
   "source": [
    "# просмотр первых 10 строк moscow_genres\n",
    "moscow_genres.head(10)"
   ]
  },
  {
   "cell_type": "markdown",
   "metadata": {
    "deletable": false,
    "editable": false,
    "id": "cnPG2vnN_Zcv",
    "tags": [
     "start_task"
    ]
   },
   "source": [
    "**Задание 28**\n",
    "\n",
    "\n",
    "Теперь повторите то же и для Петербурга.\n",
    "\n",
    "Сгруппируйте таблицу `spb_general` по жанру. Посчитайте прослушивания треков каждого жанра. Результат отсортируйте в порядке убывания и сохраните в таблице `spb_genres`:\n"
   ]
  },
  {
   "cell_type": "code",
   "execution_count": 130,
   "metadata": {
    "deletable": false,
    "id": "gluLIpE7_Zcv"
   },
   "outputs": [],
   "source": [
    "# одной строкой: группировка таблицы spb_general по столбцу 'genre', \n",
    "# подсчёт числа значений 'genre' в этой группировке методом count(), \n",
    "# сортировка получившегося Series в порядке убывания и сохранение в spb_genres\n",
    "spb_genres = spb_general.groupby('genre')['genre'].count().sort_values(ascending=False)"
   ]
  },
  {
   "cell_type": "markdown",
   "metadata": {
    "deletable": false,
    "editable": false,
    "id": "5Doha_ODgyQ8",
    "tags": [
     "start_task"
    ]
   },
   "source": [
    "**Задание 29**\n",
    "\n",
    "Выведите на экран первые десять строк `spb_genres`:"
   ]
  },
  {
   "cell_type": "code",
   "execution_count": 131,
   "metadata": {
    "deletable": false,
    "id": "uaGJHjVU_Zcv"
   },
   "outputs": [
    {
     "data": {
      "text/plain": [
       "genre\n",
       "pop            2431\n",
       "dance          1932\n",
       "rock           1879\n",
       "electronic     1736\n",
       "hiphop          960\n",
       "alternative     649\n",
       "classical       646\n",
       "rusrap          564\n",
       "ruspop          538\n",
       "world           515\n",
       "Name: genre, dtype: int64"
      ]
     },
     "execution_count": 131,
     "metadata": {},
     "output_type": "execute_result"
    }
   ],
   "source": [
    "# просмотр первых 10 строк spb_genres\n",
    "spb_genres.head(10)"
   ]
  },
  {
   "cell_type": "markdown",
   "metadata": {
    "deletable": false,
    "editable": false,
    "id": "RY51YJYu_Zcv"
   },
   "source": [
    "**Выводы**"
   ]
  },
  {
   "cell_type": "markdown",
   "metadata": {
    "deletable": false,
    "editable": false,
    "id": "nVhnJEm__Zcv"
   },
   "source": [
    "Гипотеза частично подтвердилась:\n",
    "* Поп-музыка — самый популярный жанр в Москве, как и предполагала гипотеза. Более того, в топ-10 жанров встречается близкий жанр — русская популярная музыка.\n",
    "* Вопреки ожиданиям, рэп одинаково популярен в Москве и Петербурге. \n"
   ]
  },
  {
   "cell_type": "markdown",
   "metadata": {
    "deletable": false,
    "editable": false,
    "id": "ykKQ0N65_Zcv"
   },
   "source": [
    "## Итоги исследования"
   ]
  },
  {
   "cell_type": "markdown",
   "metadata": {
    "deletable": false,
    "editable": false,
    "id": "tjUwbHb3_Zcv"
   },
   "source": [
    "Вы проверили три гипотезы и установили:\n",
    "\n",
    "1. День недели по-разному влияет на активность пользователей в Москве и Петербурге. \n",
    "\n",
    "Первая гипотеза полностью подтвердилась.\n",
    "\n",
    "2. Музыкальные предпочтения не сильно меняются в течение недели — будь то Москва или Петербург. Небольшие различия заметны в начале недели, по понедельникам:\n",
    "* в Москве слушают музыку жанра “world”,\n",
    "* в Петербурге — джаз и классику.\n",
    "\n",
    "Таким образом, вторая гипотеза подтвердилась лишь отчасти. Этот результат мог оказаться иным, если бы не пропуски в данных.\n",
    "\n",
    "3. Во вкусах пользователей Москвы и Петербурга больше общего чем различий. Вопреки ожиданиям, предпочтения жанров в Петербурге напоминают московские.\n",
    "\n",
    "Третья гипотеза не подтвердилась. Если различия в предпочтениях и существуют, на основной массе пользователей они незаметны.\n",
    "\n",
    "**На практике исследования содержат проверки статистических гипотез.**\n",
    "Из данных одного сервиса не всегда можно сделать вывод о всех жителях города.\n",
    "Проверки статистических гипотез покажут, насколько они достоверны, исходя из имеющихся данных. \n",
    "С методами проверок гипотез вы ещё познакомитесь в следующих темах."
   ]
  }
 ],
 "metadata": {
  "ExecuteTimeLog": [
   {
    "duration": 43,
    "start_time": "2022-12-26T10:13:32.613Z"
   },
   {
    "duration": 6,
    "start_time": "2022-12-26T10:13:37.130Z"
   },
   {
    "duration": 328,
    "start_time": "2022-12-26T10:13:42.277Z"
   },
   {
    "duration": 451,
    "start_time": "2022-12-26T10:13:43.925Z"
   },
   {
    "duration": 15,
    "start_time": "2022-12-26T10:13:45.472Z"
   },
   {
    "duration": 26,
    "start_time": "2022-12-26T10:14:05.925Z"
   },
   {
    "duration": 4,
    "start_time": "2022-12-26T10:27:04.389Z"
   },
   {
    "duration": 13,
    "start_time": "2022-12-26T10:35:10.001Z"
   },
   {
    "duration": 5,
    "start_time": "2022-12-26T10:36:29.279Z"
   },
   {
    "duration": 13,
    "start_time": "2022-12-26T10:36:54.944Z"
   },
   {
    "duration": 4,
    "start_time": "2022-12-26T10:36:57.608Z"
   },
   {
    "duration": 21,
    "start_time": "2022-12-26T10:37:39.745Z"
   },
   {
    "duration": 90,
    "start_time": "2022-12-26T10:42:06.305Z"
   },
   {
    "duration": 21,
    "start_time": "2022-12-26T10:42:13.720Z"
   },
   {
    "duration": 25,
    "start_time": "2022-12-26T10:42:46.050Z"
   },
   {
    "duration": 62,
    "start_time": "2022-12-26T10:43:32.461Z"
   },
   {
    "duration": 84,
    "start_time": "2022-12-26T10:44:21.132Z"
   },
   {
    "duration": 85,
    "start_time": "2022-12-26T10:44:55.319Z"
   },
   {
    "duration": 385,
    "start_time": "2022-12-26T10:45:24.449Z"
   },
   {
    "duration": 150,
    "start_time": "2022-12-26T10:45:24.835Z"
   },
   {
    "duration": 16,
    "start_time": "2022-12-26T10:45:24.987Z"
   },
   {
    "duration": 37,
    "start_time": "2022-12-26T10:45:25.006Z"
   },
   {
    "duration": 2,
    "start_time": "2022-12-26T10:45:25.045Z"
   },
   {
    "duration": 17,
    "start_time": "2022-12-26T10:45:25.049Z"
   },
   {
    "duration": 21,
    "start_time": "2022-12-26T10:45:25.068Z"
   },
   {
    "duration": 26,
    "start_time": "2022-12-26T10:45:25.090Z"
   },
   {
    "duration": 25,
    "start_time": "2022-12-26T10:45:25.118Z"
   },
   {
    "duration": 24,
    "start_time": "2022-12-26T10:45:25.145Z"
   },
   {
    "duration": 20,
    "start_time": "2022-12-26T10:45:25.171Z"
   },
   {
    "duration": 67,
    "start_time": "2022-12-26T10:45:25.192Z"
   },
   {
    "duration": 85,
    "start_time": "2022-12-26T10:45:25.261Z"
   },
   {
    "duration": 2,
    "start_time": "2022-12-26T10:45:25.347Z"
   },
   {
    "duration": 8,
    "start_time": "2022-12-26T10:45:25.351Z"
   },
   {
    "duration": 14,
    "start_time": "2022-12-26T10:45:25.362Z"
   },
   {
    "duration": 7,
    "start_time": "2022-12-26T10:45:25.378Z"
   },
   {
    "duration": 7,
    "start_time": "2022-12-26T10:45:25.387Z"
   },
   {
    "duration": 6,
    "start_time": "2022-12-26T10:45:25.396Z"
   },
   {
    "duration": 8,
    "start_time": "2022-12-26T10:45:25.404Z"
   },
   {
    "duration": 7,
    "start_time": "2022-12-26T10:45:25.413Z"
   },
   {
    "duration": 14,
    "start_time": "2022-12-26T10:45:25.422Z"
   },
   {
    "duration": 13,
    "start_time": "2022-12-26T10:45:25.438Z"
   },
   {
    "duration": 10,
    "start_time": "2022-12-26T10:45:25.453Z"
   },
   {
    "duration": 11,
    "start_time": "2022-12-26T10:45:25.464Z"
   },
   {
    "duration": 8,
    "start_time": "2022-12-26T10:45:25.477Z"
   },
   {
    "duration": 7,
    "start_time": "2022-12-26T10:45:25.486Z"
   },
   {
    "duration": 6,
    "start_time": "2022-12-26T10:45:25.495Z"
   },
   {
    "duration": 11,
    "start_time": "2022-12-26T10:45:25.503Z"
   },
   {
    "duration": 99,
    "start_time": "2022-12-26T10:45:25.516Z"
   },
   {
    "duration": 0,
    "start_time": "2022-12-26T10:45:25.618Z"
   },
   {
    "duration": 0,
    "start_time": "2022-12-26T10:45:25.619Z"
   },
   {
    "duration": 0,
    "start_time": "2022-12-26T10:45:25.620Z"
   },
   {
    "duration": 0,
    "start_time": "2022-12-26T10:45:25.621Z"
   },
   {
    "duration": 0,
    "start_time": "2022-12-26T10:45:25.623Z"
   },
   {
    "duration": 0,
    "start_time": "2022-12-26T10:45:25.624Z"
   },
   {
    "duration": 0,
    "start_time": "2022-12-26T10:45:25.626Z"
   },
   {
    "duration": 0,
    "start_time": "2022-12-26T10:45:25.627Z"
   },
   {
    "duration": 71,
    "start_time": "2022-12-26T10:46:27.017Z"
   },
   {
    "duration": 92,
    "start_time": "2022-12-26T10:46:45.864Z"
   },
   {
    "duration": 74,
    "start_time": "2022-12-26T10:47:11.749Z"
   },
   {
    "duration": 411,
    "start_time": "2022-12-26T10:47:52.938Z"
   },
   {
    "duration": 146,
    "start_time": "2022-12-26T10:47:53.351Z"
   },
   {
    "duration": 16,
    "start_time": "2022-12-26T10:47:53.499Z"
   },
   {
    "duration": 31,
    "start_time": "2022-12-26T10:47:53.518Z"
   },
   {
    "duration": 4,
    "start_time": "2022-12-26T10:47:53.551Z"
   },
   {
    "duration": 7,
    "start_time": "2022-12-26T10:47:53.557Z"
   },
   {
    "duration": 16,
    "start_time": "2022-12-26T10:47:53.566Z"
   },
   {
    "duration": 8,
    "start_time": "2022-12-26T10:47:53.584Z"
   },
   {
    "duration": 34,
    "start_time": "2022-12-26T10:47:53.593Z"
   },
   {
    "duration": 17,
    "start_time": "2022-12-26T10:47:53.629Z"
   },
   {
    "duration": 21,
    "start_time": "2022-12-26T10:47:53.648Z"
   },
   {
    "duration": 76,
    "start_time": "2022-12-26T10:47:53.671Z"
   },
   {
    "duration": 91,
    "start_time": "2022-12-26T10:47:53.749Z"
   },
   {
    "duration": 3,
    "start_time": "2022-12-26T10:47:53.842Z"
   },
   {
    "duration": 31,
    "start_time": "2022-12-26T10:47:53.847Z"
   },
   {
    "duration": 8,
    "start_time": "2022-12-26T10:47:53.881Z"
   },
   {
    "duration": 11,
    "start_time": "2022-12-26T10:47:53.891Z"
   },
   {
    "duration": 14,
    "start_time": "2022-12-26T10:47:53.903Z"
   },
   {
    "duration": 14,
    "start_time": "2022-12-26T10:47:53.919Z"
   },
   {
    "duration": 11,
    "start_time": "2022-12-26T10:47:53.935Z"
   },
   {
    "duration": 9,
    "start_time": "2022-12-26T10:47:53.947Z"
   },
   {
    "duration": 9,
    "start_time": "2022-12-26T10:47:53.958Z"
   },
   {
    "duration": 27,
    "start_time": "2022-12-26T10:47:53.969Z"
   },
   {
    "duration": 8,
    "start_time": "2022-12-26T10:47:53.998Z"
   },
   {
    "duration": 15,
    "start_time": "2022-12-26T10:47:54.008Z"
   },
   {
    "duration": 5,
    "start_time": "2022-12-26T10:47:54.025Z"
   },
   {
    "duration": 15,
    "start_time": "2022-12-26T10:47:54.032Z"
   },
   {
    "duration": 14,
    "start_time": "2022-12-26T10:47:54.051Z"
   },
   {
    "duration": 13,
    "start_time": "2022-12-26T10:47:54.067Z"
   },
   {
    "duration": 71,
    "start_time": "2022-12-26T10:47:54.082Z"
   },
   {
    "duration": 0,
    "start_time": "2022-12-26T10:47:54.155Z"
   },
   {
    "duration": 0,
    "start_time": "2022-12-26T10:47:54.156Z"
   },
   {
    "duration": 0,
    "start_time": "2022-12-26T10:47:54.158Z"
   },
   {
    "duration": 0,
    "start_time": "2022-12-26T10:47:54.160Z"
   },
   {
    "duration": 0,
    "start_time": "2022-12-26T10:47:54.161Z"
   },
   {
    "duration": 0,
    "start_time": "2022-12-26T10:47:54.162Z"
   },
   {
    "duration": 0,
    "start_time": "2022-12-26T10:47:54.164Z"
   },
   {
    "duration": 0,
    "start_time": "2022-12-26T10:47:54.166Z"
   },
   {
    "duration": 12,
    "start_time": "2022-12-26T10:54:35.394Z"
   },
   {
    "duration": 16,
    "start_time": "2022-12-26T10:54:44.947Z"
   },
   {
    "duration": 20,
    "start_time": "2022-12-26T10:54:59.884Z"
   },
   {
    "duration": 348,
    "start_time": "2022-12-26T10:55:27.087Z"
   },
   {
    "duration": 149,
    "start_time": "2022-12-26T10:55:27.437Z"
   },
   {
    "duration": 16,
    "start_time": "2022-12-26T10:55:27.588Z"
   },
   {
    "duration": 39,
    "start_time": "2022-12-26T10:55:27.606Z"
   },
   {
    "duration": 27,
    "start_time": "2022-12-26T10:55:27.647Z"
   },
   {
    "duration": 43,
    "start_time": "2022-12-26T10:55:27.676Z"
   },
   {
    "duration": 30,
    "start_time": "2022-12-26T10:55:27.720Z"
   },
   {
    "duration": 55,
    "start_time": "2022-12-26T10:55:27.751Z"
   },
   {
    "duration": 66,
    "start_time": "2022-12-26T10:55:27.808Z"
   },
   {
    "duration": 49,
    "start_time": "2022-12-26T10:55:27.878Z"
   },
   {
    "duration": 62,
    "start_time": "2022-12-26T10:55:27.930Z"
   },
   {
    "duration": 106,
    "start_time": "2022-12-26T10:55:27.993Z"
   },
   {
    "duration": 3,
    "start_time": "2022-12-26T10:55:28.101Z"
   },
   {
    "duration": 28,
    "start_time": "2022-12-26T10:55:28.105Z"
   },
   {
    "duration": 35,
    "start_time": "2022-12-26T10:55:28.135Z"
   },
   {
    "duration": 39,
    "start_time": "2022-12-26T10:55:28.171Z"
   },
   {
    "duration": 35,
    "start_time": "2022-12-26T10:55:28.211Z"
   },
   {
    "duration": 49,
    "start_time": "2022-12-26T10:55:28.248Z"
   },
   {
    "duration": 31,
    "start_time": "2022-12-26T10:55:28.298Z"
   },
   {
    "duration": 41,
    "start_time": "2022-12-26T10:55:28.331Z"
   },
   {
    "duration": 44,
    "start_time": "2022-12-26T10:55:28.374Z"
   },
   {
    "duration": 42,
    "start_time": "2022-12-26T10:55:28.420Z"
   },
   {
    "duration": 28,
    "start_time": "2022-12-26T10:55:28.464Z"
   },
   {
    "duration": 50,
    "start_time": "2022-12-26T10:55:28.493Z"
   },
   {
    "duration": 43,
    "start_time": "2022-12-26T10:55:28.545Z"
   },
   {
    "duration": 24,
    "start_time": "2022-12-26T10:55:28.590Z"
   },
   {
    "duration": 42,
    "start_time": "2022-12-26T10:55:28.615Z"
   },
   {
    "duration": 37,
    "start_time": "2022-12-26T10:55:28.661Z"
   },
   {
    "duration": 45,
    "start_time": "2022-12-26T10:55:28.699Z"
   },
   {
    "duration": 70,
    "start_time": "2022-12-26T10:55:28.746Z"
   },
   {
    "duration": 0,
    "start_time": "2022-12-26T10:55:28.818Z"
   },
   {
    "duration": 0,
    "start_time": "2022-12-26T10:55:28.819Z"
   },
   {
    "duration": 0,
    "start_time": "2022-12-26T10:55:28.821Z"
   },
   {
    "duration": 0,
    "start_time": "2022-12-26T10:55:28.822Z"
   },
   {
    "duration": 0,
    "start_time": "2022-12-26T10:55:28.823Z"
   },
   {
    "duration": 0,
    "start_time": "2022-12-26T10:55:28.824Z"
   },
   {
    "duration": 0,
    "start_time": "2022-12-26T10:55:28.825Z"
   },
   {
    "duration": 0,
    "start_time": "2022-12-26T10:55:28.826Z"
   },
   {
    "duration": 87,
    "start_time": "2022-12-26T10:56:49.097Z"
   },
   {
    "duration": 78,
    "start_time": "2022-12-26T10:58:23.139Z"
   },
   {
    "duration": 367,
    "start_time": "2022-12-26T10:58:54.848Z"
   },
   {
    "duration": 165,
    "start_time": "2022-12-26T10:58:55.217Z"
   },
   {
    "duration": 16,
    "start_time": "2022-12-26T10:58:55.384Z"
   },
   {
    "duration": 38,
    "start_time": "2022-12-26T10:58:55.402Z"
   },
   {
    "duration": 3,
    "start_time": "2022-12-26T10:58:55.443Z"
   },
   {
    "duration": 32,
    "start_time": "2022-12-26T10:58:55.448Z"
   },
   {
    "duration": 30,
    "start_time": "2022-12-26T10:58:55.482Z"
   },
   {
    "duration": 32,
    "start_time": "2022-12-26T10:58:55.515Z"
   },
   {
    "duration": 52,
    "start_time": "2022-12-26T10:58:55.550Z"
   },
   {
    "duration": 33,
    "start_time": "2022-12-26T10:58:55.604Z"
   },
   {
    "duration": 49,
    "start_time": "2022-12-26T10:58:55.639Z"
   },
   {
    "duration": 75,
    "start_time": "2022-12-26T10:58:55.690Z"
   },
   {
    "duration": 102,
    "start_time": "2022-12-26T10:58:55.767Z"
   },
   {
    "duration": 2,
    "start_time": "2022-12-26T10:58:55.872Z"
   },
   {
    "duration": 21,
    "start_time": "2022-12-26T10:58:55.875Z"
   },
   {
    "duration": 20,
    "start_time": "2022-12-26T10:58:55.898Z"
   },
   {
    "duration": 23,
    "start_time": "2022-12-26T10:58:55.919Z"
   },
   {
    "duration": 14,
    "start_time": "2022-12-26T10:58:55.944Z"
   },
   {
    "duration": 9,
    "start_time": "2022-12-26T10:58:55.959Z"
   },
   {
    "duration": 15,
    "start_time": "2022-12-26T10:58:55.970Z"
   },
   {
    "duration": 32,
    "start_time": "2022-12-26T10:58:55.986Z"
   },
   {
    "duration": 16,
    "start_time": "2022-12-26T10:58:56.019Z"
   },
   {
    "duration": 19,
    "start_time": "2022-12-26T10:58:56.036Z"
   },
   {
    "duration": 19,
    "start_time": "2022-12-26T10:58:56.057Z"
   },
   {
    "duration": 24,
    "start_time": "2022-12-26T10:58:56.078Z"
   },
   {
    "duration": 28,
    "start_time": "2022-12-26T10:58:56.104Z"
   },
   {
    "duration": 19,
    "start_time": "2022-12-26T10:58:56.133Z"
   },
   {
    "duration": 17,
    "start_time": "2022-12-26T10:58:56.153Z"
   },
   {
    "duration": 24,
    "start_time": "2022-12-26T10:58:56.172Z"
   },
   {
    "duration": 72,
    "start_time": "2022-12-26T10:58:56.197Z"
   },
   {
    "duration": 0,
    "start_time": "2022-12-26T10:58:56.270Z"
   },
   {
    "duration": 0,
    "start_time": "2022-12-26T10:58:56.271Z"
   },
   {
    "duration": 0,
    "start_time": "2022-12-26T10:58:56.272Z"
   },
   {
    "duration": 0,
    "start_time": "2022-12-26T10:58:56.273Z"
   },
   {
    "duration": 0,
    "start_time": "2022-12-26T10:58:56.276Z"
   },
   {
    "duration": 0,
    "start_time": "2022-12-26T10:58:56.277Z"
   },
   {
    "duration": 0,
    "start_time": "2022-12-26T10:58:56.279Z"
   },
   {
    "duration": 0,
    "start_time": "2022-12-26T10:58:56.280Z"
   },
   {
    "duration": 57,
    "start_time": "2022-12-26T11:01:04.296Z"
   },
   {
    "duration": 77,
    "start_time": "2022-12-26T11:01:07.880Z"
   },
   {
    "duration": 71,
    "start_time": "2022-12-26T11:01:13.467Z"
   },
   {
    "duration": 70,
    "start_time": "2022-12-26T11:01:40.333Z"
   },
   {
    "duration": 62,
    "start_time": "2022-12-26T11:04:23.261Z"
   },
   {
    "duration": 65,
    "start_time": "2022-12-26T11:04:33.958Z"
   },
   {
    "duration": 70,
    "start_time": "2022-12-26T11:04:44.685Z"
   },
   {
    "duration": 68,
    "start_time": "2022-12-26T11:04:47.021Z"
   },
   {
    "duration": 81,
    "start_time": "2022-12-26T11:05:11.789Z"
   },
   {
    "duration": 60,
    "start_time": "2022-12-26T11:05:15.993Z"
   },
   {
    "duration": 400,
    "start_time": "2022-12-26T11:05:28.996Z"
   },
   {
    "duration": 156,
    "start_time": "2022-12-26T11:05:29.398Z"
   },
   {
    "duration": 18,
    "start_time": "2022-12-26T11:05:29.556Z"
   },
   {
    "duration": 25,
    "start_time": "2022-12-26T11:05:29.576Z"
   },
   {
    "duration": 3,
    "start_time": "2022-12-26T11:05:29.604Z"
   },
   {
    "duration": 5,
    "start_time": "2022-12-26T11:05:29.625Z"
   },
   {
    "duration": 14,
    "start_time": "2022-12-26T11:05:29.632Z"
   },
   {
    "duration": 10,
    "start_time": "2022-12-26T11:05:29.648Z"
   },
   {
    "duration": 25,
    "start_time": "2022-12-26T11:05:29.660Z"
   },
   {
    "duration": 20,
    "start_time": "2022-12-26T11:05:29.687Z"
   },
   {
    "duration": 37,
    "start_time": "2022-12-26T11:05:29.709Z"
   },
   {
    "duration": 79,
    "start_time": "2022-12-26T11:05:29.748Z"
   },
   {
    "duration": 106,
    "start_time": "2022-12-26T11:05:29.829Z"
   },
   {
    "duration": 60,
    "start_time": "2022-12-26T11:05:29.939Z"
   },
   {
    "duration": 2,
    "start_time": "2022-12-26T11:05:30.000Z"
   },
   {
    "duration": 36,
    "start_time": "2022-12-26T11:05:30.004Z"
   },
   {
    "duration": 8,
    "start_time": "2022-12-26T11:05:30.041Z"
   },
   {
    "duration": 21,
    "start_time": "2022-12-26T11:05:30.050Z"
   },
   {
    "duration": 9,
    "start_time": "2022-12-26T11:05:30.072Z"
   },
   {
    "duration": 8,
    "start_time": "2022-12-26T11:05:30.083Z"
   },
   {
    "duration": 29,
    "start_time": "2022-12-26T11:05:30.092Z"
   },
   {
    "duration": 8,
    "start_time": "2022-12-26T11:05:30.123Z"
   },
   {
    "duration": 13,
    "start_time": "2022-12-26T11:05:30.132Z"
   },
   {
    "duration": 19,
    "start_time": "2022-12-26T11:05:30.147Z"
   },
   {
    "duration": 19,
    "start_time": "2022-12-26T11:05:30.168Z"
   },
   {
    "duration": 20,
    "start_time": "2022-12-26T11:05:30.188Z"
   },
   {
    "duration": 21,
    "start_time": "2022-12-26T11:05:30.209Z"
   },
   {
    "duration": 20,
    "start_time": "2022-12-26T11:05:30.231Z"
   },
   {
    "duration": 34,
    "start_time": "2022-12-26T11:05:30.253Z"
   },
   {
    "duration": 77,
    "start_time": "2022-12-26T11:05:30.289Z"
   },
   {
    "duration": 0,
    "start_time": "2022-12-26T11:05:30.368Z"
   },
   {
    "duration": 0,
    "start_time": "2022-12-26T11:05:30.369Z"
   },
   {
    "duration": 0,
    "start_time": "2022-12-26T11:05:30.371Z"
   },
   {
    "duration": 0,
    "start_time": "2022-12-26T11:05:30.372Z"
   },
   {
    "duration": 0,
    "start_time": "2022-12-26T11:05:30.373Z"
   },
   {
    "duration": 0,
    "start_time": "2022-12-26T11:05:30.375Z"
   },
   {
    "duration": 0,
    "start_time": "2022-12-26T11:05:30.376Z"
   },
   {
    "duration": 0,
    "start_time": "2022-12-26T11:05:30.378Z"
   },
   {
    "duration": 61,
    "start_time": "2022-12-26T11:06:12.857Z"
   },
   {
    "duration": 26,
    "start_time": "2022-12-26T11:06:18.263Z"
   },
   {
    "duration": 84,
    "start_time": "2022-12-26T11:06:23.198Z"
   },
   {
    "duration": 380,
    "start_time": "2022-12-26T11:06:41.380Z"
   },
   {
    "duration": 148,
    "start_time": "2022-12-26T11:06:43.453Z"
   },
   {
    "duration": 18,
    "start_time": "2022-12-26T11:06:45.187Z"
   },
   {
    "duration": 26,
    "start_time": "2022-12-26T11:06:50.975Z"
   },
   {
    "duration": 3,
    "start_time": "2022-12-26T11:06:54.861Z"
   },
   {
    "duration": 4,
    "start_time": "2022-12-26T11:06:56.753Z"
   },
   {
    "duration": 11,
    "start_time": "2022-12-26T11:06:59.803Z"
   },
   {
    "duration": 4,
    "start_time": "2022-12-26T11:07:02.058Z"
   },
   {
    "duration": 21,
    "start_time": "2022-12-26T11:07:03.904Z"
   },
   {
    "duration": 17,
    "start_time": "2022-12-26T11:07:07.353Z"
   },
   {
    "duration": 22,
    "start_time": "2022-12-26T11:07:09.581Z"
   },
   {
    "duration": 58,
    "start_time": "2022-12-26T11:07:12.002Z"
   },
   {
    "duration": 74,
    "start_time": "2022-12-26T11:07:14.458Z"
   },
   {
    "duration": 63,
    "start_time": "2022-12-26T11:07:18.883Z"
   },
   {
    "duration": 68,
    "start_time": "2022-12-26T11:08:16.409Z"
   },
   {
    "duration": 57,
    "start_time": "2022-12-26T11:08:20.215Z"
   },
   {
    "duration": 59,
    "start_time": "2022-12-26T11:08:36.014Z"
   },
   {
    "duration": 76,
    "start_time": "2022-12-26T11:09:08.111Z"
   },
   {
    "duration": 55,
    "start_time": "2022-12-26T11:09:09.979Z"
   },
   {
    "duration": 8,
    "start_time": "2022-12-26T11:10:19.004Z"
   },
   {
    "duration": 30,
    "start_time": "2022-12-26T11:12:04.692Z"
   },
   {
    "duration": 38,
    "start_time": "2022-12-26T11:13:38.173Z"
   },
   {
    "duration": 44,
    "start_time": "2022-12-26T11:13:58.097Z"
   },
   {
    "duration": 95,
    "start_time": "2022-12-26T11:14:14.722Z"
   },
   {
    "duration": 40,
    "start_time": "2022-12-26T11:14:23.969Z"
   },
   {
    "duration": 45,
    "start_time": "2022-12-26T11:14:41.776Z"
   },
   {
    "duration": 64,
    "start_time": "2022-12-26T11:15:55.801Z"
   },
   {
    "duration": 50,
    "start_time": "2022-12-26T11:15:57.411Z"
   },
   {
    "duration": 44,
    "start_time": "2022-12-26T11:15:59.765Z"
   },
   {
    "duration": 40,
    "start_time": "2022-12-26T11:17:40.255Z"
   },
   {
    "duration": 38,
    "start_time": "2022-12-26T11:17:44.921Z"
   },
   {
    "duration": 43,
    "start_time": "2022-12-26T11:17:54.674Z"
   },
   {
    "duration": 10,
    "start_time": "2022-12-26T11:22:16.900Z"
   },
   {
    "duration": 9,
    "start_time": "2022-12-26T11:23:19.079Z"
   },
   {
    "duration": 7,
    "start_time": "2022-12-26T11:24:02.995Z"
   },
   {
    "duration": 7,
    "start_time": "2022-12-26T11:24:34.866Z"
   },
   {
    "duration": 44,
    "start_time": "2022-12-26T11:26:03.491Z"
   },
   {
    "duration": 9,
    "start_time": "2022-12-26T11:31:16.630Z"
   },
   {
    "duration": 12,
    "start_time": "2022-12-26T11:31:56.227Z"
   },
   {
    "duration": 10,
    "start_time": "2022-12-26T11:32:23.809Z"
   },
   {
    "duration": 9,
    "start_time": "2022-12-26T11:34:54.456Z"
   },
   {
    "duration": 10,
    "start_time": "2022-12-26T11:36:04.101Z"
   },
   {
    "duration": 92,
    "start_time": "2022-12-26T11:41:41.525Z"
   },
   {
    "duration": 82,
    "start_time": "2022-12-26T11:41:58.152Z"
   },
   {
    "duration": 59,
    "start_time": "2022-12-26T11:42:22.765Z"
   },
   {
    "duration": 10,
    "start_time": "2022-12-26T11:45:51.477Z"
   },
   {
    "duration": 3,
    "start_time": "2022-12-26T12:20:30.275Z"
   },
   {
    "duration": 5,
    "start_time": "2022-12-26T12:20:38.981Z"
   },
   {
    "duration": 10,
    "start_time": "2022-12-26T12:20:49.501Z"
   },
   {
    "duration": 11,
    "start_time": "2022-12-26T12:24:19.986Z"
   },
   {
    "duration": 4,
    "start_time": "2022-12-26T12:37:28.113Z"
   },
   {
    "duration": 4,
    "start_time": "2022-12-26T12:38:16.268Z"
   },
   {
    "duration": 13,
    "start_time": "2022-12-26T12:38:52.246Z"
   },
   {
    "duration": 5,
    "start_time": "2022-12-26T12:40:20.603Z"
   },
   {
    "duration": 410,
    "start_time": "2022-12-26T12:40:22.592Z"
   },
   {
    "duration": 5,
    "start_time": "2022-12-26T12:41:58.680Z"
   },
   {
    "duration": 1202,
    "start_time": "2022-12-26T12:42:00.850Z"
   },
   {
    "duration": 3,
    "start_time": "2022-12-26T12:46:43.589Z"
   },
   {
    "duration": 14,
    "start_time": "2022-12-26T12:46:45.154Z"
   },
   {
    "duration": 3,
    "start_time": "2022-12-26T12:52:43.386Z"
   },
   {
    "duration": 18,
    "start_time": "2022-12-26T12:52:45.758Z"
   },
   {
    "duration": 4,
    "start_time": "2022-12-26T12:52:52.675Z"
   },
   {
    "duration": 13,
    "start_time": "2022-12-26T12:52:54.685Z"
   },
   {
    "duration": 5,
    "start_time": "2022-12-26T12:57:22.847Z"
   },
   {
    "duration": 19,
    "start_time": "2022-12-26T12:57:24.990Z"
   },
   {
    "duration": 4,
    "start_time": "2022-12-26T12:58:51.891Z"
   },
   {
    "duration": 495,
    "start_time": "2022-12-26T12:58:53.671Z"
   },
   {
    "duration": 8,
    "start_time": "2022-12-26T13:00:45.595Z"
   },
   {
    "duration": 13,
    "start_time": "2022-12-26T13:00:47.179Z"
   },
   {
    "duration": 4,
    "start_time": "2022-12-26T13:03:57.617Z"
   },
   {
    "duration": 785,
    "start_time": "2022-12-26T13:03:59.286Z"
   },
   {
    "duration": 4,
    "start_time": "2022-12-26T13:06:00.801Z"
   },
   {
    "duration": 1119,
    "start_time": "2022-12-26T13:06:02.870Z"
   },
   {
    "duration": 4,
    "start_time": "2022-12-26T13:06:16.561Z"
   },
   {
    "duration": 771,
    "start_time": "2022-12-26T13:06:18.601Z"
   },
   {
    "duration": 3,
    "start_time": "2022-12-26T13:12:57.017Z"
   },
   {
    "duration": 979,
    "start_time": "2022-12-26T13:12:58.872Z"
   },
   {
    "duration": 4,
    "start_time": "2022-12-26T13:13:37.463Z"
   },
   {
    "duration": 301,
    "start_time": "2022-12-26T13:13:39.677Z"
   },
   {
    "duration": 3,
    "start_time": "2022-12-26T13:14:02.797Z"
   },
   {
    "duration": 13,
    "start_time": "2022-12-26T13:14:04.469Z"
   },
   {
    "duration": 3,
    "start_time": "2022-12-26T13:17:09.623Z"
   },
   {
    "duration": 19,
    "start_time": "2022-12-26T13:17:11.766Z"
   },
   {
    "duration": 3,
    "start_time": "2022-12-26T13:21:18.145Z"
   },
   {
    "duration": 3,
    "start_time": "2022-12-26T13:21:46.344Z"
   },
   {
    "duration": 13,
    "start_time": "2022-12-26T13:21:48.196Z"
   },
   {
    "duration": 3,
    "start_time": "2022-12-26T13:34:17.019Z"
   },
   {
    "duration": 309,
    "start_time": "2022-12-26T13:34:18.607Z"
   },
   {
    "duration": 3,
    "start_time": "2022-12-26T13:45:41.861Z"
   },
   {
    "duration": 315,
    "start_time": "2022-12-26T13:45:43.627Z"
   },
   {
    "duration": 3,
    "start_time": "2022-12-26T13:46:23.019Z"
   },
   {
    "duration": 14,
    "start_time": "2022-12-26T13:46:25.264Z"
   },
   {
    "duration": 3,
    "start_time": "2022-12-26T13:48:05.409Z"
   },
   {
    "duration": 12,
    "start_time": "2022-12-26T13:48:07.478Z"
   },
   {
    "duration": 4,
    "start_time": "2022-12-26T13:49:45.607Z"
   },
   {
    "duration": 17,
    "start_time": "2022-12-26T13:49:47.298Z"
   },
   {
    "duration": 3,
    "start_time": "2022-12-26T13:50:20.528Z"
   },
   {
    "duration": 14,
    "start_time": "2022-12-26T13:50:22.163Z"
   },
   {
    "duration": 3,
    "start_time": "2022-12-26T13:50:30.328Z"
   },
   {
    "duration": 297,
    "start_time": "2022-12-26T13:50:31.261Z"
   },
   {
    "duration": 3,
    "start_time": "2022-12-26T13:50:51.358Z"
   },
   {
    "duration": 316,
    "start_time": "2022-12-26T13:50:52.169Z"
   },
   {
    "duration": 4,
    "start_time": "2022-12-26T13:50:57.961Z"
   },
   {
    "duration": 3,
    "start_time": "2022-12-26T13:51:16.005Z"
   },
   {
    "duration": 16,
    "start_time": "2022-12-26T13:51:16.896Z"
   },
   {
    "duration": 14,
    "start_time": "2022-12-26T13:53:35.057Z"
   },
   {
    "duration": 16,
    "start_time": "2022-12-26T13:53:37.828Z"
   },
   {
    "duration": 14,
    "start_time": "2022-12-26T13:53:39.446Z"
   },
   {
    "duration": 15,
    "start_time": "2022-12-26T13:53:41.200Z"
   },
   {
    "duration": 18,
    "start_time": "2022-12-26T13:53:42.780Z"
   },
   {
    "duration": 8,
    "start_time": "2022-12-26T13:58:07.461Z"
   },
   {
    "duration": 10,
    "start_time": "2022-12-26T14:00:24.049Z"
   },
   {
    "duration": 11,
    "start_time": "2022-12-26T14:00:26.191Z"
   },
   {
    "duration": 4,
    "start_time": "2022-12-26T14:05:05.718Z"
   },
   {
    "duration": 5,
    "start_time": "2022-12-26T14:08:05.881Z"
   },
   {
    "duration": 15,
    "start_time": "2022-12-26T14:09:55.038Z"
   },
   {
    "duration": 4,
    "start_time": "2022-12-26T14:10:28.411Z"
   },
   {
    "duration": 18,
    "start_time": "2022-12-26T14:10:31.214Z"
   },
   {
    "duration": 8,
    "start_time": "2022-12-26T14:11:15.972Z"
   },
   {
    "duration": 11,
    "start_time": "2022-12-26T14:11:31.561Z"
   },
   {
    "duration": 19,
    "start_time": "2022-12-26T14:12:26.656Z"
   },
   {
    "duration": 12,
    "start_time": "2022-12-26T14:12:54.197Z"
   },
   {
    "duration": 9,
    "start_time": "2022-12-26T14:19:43.599Z"
   },
   {
    "duration": 4,
    "start_time": "2022-12-26T14:20:33.854Z"
   },
   {
    "duration": 4,
    "start_time": "2022-12-26T14:20:40.237Z"
   },
   {
    "duration": 11,
    "start_time": "2022-12-26T14:21:01.234Z"
   },
   {
    "duration": 7,
    "start_time": "2022-12-26T14:21:33.186Z"
   },
   {
    "duration": 4,
    "start_time": "2022-12-26T14:22:15.138Z"
   },
   {
    "duration": 13,
    "start_time": "2022-12-26T14:23:09.148Z"
   },
   {
    "duration": 6,
    "start_time": "2022-12-26T14:24:18.186Z"
   },
   {
    "duration": 6,
    "start_time": "2022-12-26T14:24:46.641Z"
   }
  ],
  "colab": {
   "collapsed_sections": [
    "E0vqbgi9ay0H",
    "VUC88oWjTJw2"
   ],
   "name": "automatization_template_upd4.ipynb",
   "provenance": []
  },
  "kernelspec": {
   "display_name": "Python 3 (ipykernel)",
   "language": "python",
   "name": "python3"
  },
  "language_info": {
   "codemirror_mode": {
    "name": "ipython",
    "version": 3
   },
   "file_extension": ".py",
   "mimetype": "text/x-python",
   "name": "python",
   "nbconvert_exporter": "python",
   "pygments_lexer": "ipython3",
   "version": "3.9.13"
  },
  "toc": {
   "base_numbering": 1,
   "nav_menu": {
    "height": "215px",
    "width": "403px"
   },
   "number_sections": true,
   "sideBar": true,
   "skip_h1_title": true,
   "title_cell": "Table of Contents",
   "title_sidebar": "Contents",
   "toc_cell": false,
   "toc_position": {
    "height": "calc(100% - 180px)",
    "left": "10px",
    "top": "150px",
    "width": "285.825px"
   },
   "toc_section_display": true,
   "toc_window_display": false
  }
 },
 "nbformat": 4,
 "nbformat_minor": 1
}
